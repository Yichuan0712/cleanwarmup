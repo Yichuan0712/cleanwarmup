{
  "nbformat": 4,
  "nbformat_minor": 0,
  "metadata": {
    "colab": {
      "provenance": [],
      "gpuType": "T4"
    },
    "kernelspec": {
      "name": "python3",
      "display_name": "Python 3"
    },
    "language_info": {
      "name": "python"
    },
    "accelerator": "GPU"
  },
  "cells": [
    {
      "cell_type": "code",
      "execution_count": 1,
      "metadata": {
        "colab": {
          "base_uri": "https://localhost:8080/"
        },
        "id": "Va5hq869p8j9",
        "outputId": "506c9756-4803-4e0b-d9b5-096ff9f522a7"
      },
      "outputs": [
        {
          "output_type": "stream",
          "name": "stdout",
          "text": [
            "Mounted at /content/drive\n"
          ]
        }
      ],
      "source": [
        "from google.colab import drive\n",
        "drive.mount('/content/drive')"
      ]
    },
    {
      "cell_type": "code",
      "source": [
        "!git clone https://github.com/Yichuan0712/CLEAN.git"
      ],
      "metadata": {
        "colab": {
          "base_uri": "https://localhost:8080/"
        },
        "id": "ZLteKMfMqCY4",
        "outputId": "7c720836-b2d9-4743-9484-6a35102fcbb3"
      },
      "execution_count": 2,
      "outputs": [
        {
          "output_type": "stream",
          "name": "stdout",
          "text": [
            "Cloning into 'CLEAN'...\n",
            "remote: Enumerating objects: 5748, done.\u001b[K\n",
            "remote: Counting objects: 100% (5564/5564), done.\u001b[K\n",
            "remote: Compressing objects: 100% (5452/5452), done.\u001b[K\n",
            "remote: Total 5748 (delta 162), reused 5475 (delta 111), pack-reused 184\u001b[K\n",
            "Receiving objects: 100% (5748/5748), 151.79 MiB | 14.96 MiB/s, done.\n",
            "Resolving deltas: 100% (224/224), done.\n"
          ]
        }
      ]
    },
    {
      "cell_type": "code",
      "source": [
        "import os\n",
        "os.chdir('/content/CLEAN/app')\n",
        "current_path = os.getcwd()\n",
        "os.listdir(current_path)"
      ],
      "metadata": {
        "colab": {
          "base_uri": "https://localhost:8080/"
        },
        "id": "sxUxYO8wqC6g",
        "outputId": "872c7586-7cf2-40e7-c46b-70de8ab31efe"
      },
      "execution_count": 3,
      "outputs": [
        {
          "output_type": "execute_result",
          "data": {
            "text/plain": [
              "['train-supconH.py',\n",
              " 'results',\n",
              " 'data',\n",
              " 'build.py',\n",
              " 'requirements.txt',\n",
              " 'src',\n",
              " 'inference.py',\n",
              " 'train-triplet.py',\n",
              " 'CLEAN_infer_fasta.py',\n",
              " 'gmm.py']"
            ]
          },
          "metadata": {},
          "execution_count": 3
        }
      ]
    },
    {
      "cell_type": "code",
      "source": [
        "!pip install fair-esm  # latest release"
      ],
      "metadata": {
        "colab": {
          "base_uri": "https://localhost:8080/"
        },
        "id": "D6NKPGEsqE_S",
        "outputId": "986310b7-e76f-4bc4-8a47-7f80ad9c7e60"
      },
      "execution_count": 4,
      "outputs": [
        {
          "output_type": "stream",
          "name": "stdout",
          "text": [
            "Collecting fair-esm\n",
            "  Downloading fair_esm-2.0.0-py3-none-any.whl (93 kB)\n",
            "\u001b[?25l     \u001b[90m━━━━━━━━━━━━━━━━━━━━━━━━━━━━━━━━━━━━━━━━\u001b[0m \u001b[32m0.0/93.1 kB\u001b[0m \u001b[31m?\u001b[0m eta \u001b[36m-:--:--\u001b[0m\r\u001b[2K     \u001b[90m━━━━━━━━━━━━━━━━━━━━━━━━━━━━━━━━━━━━━━━━\u001b[0m \u001b[32m93.1/93.1 kB\u001b[0m \u001b[31m3.7 MB/s\u001b[0m eta \u001b[36m0:00:00\u001b[0m\n",
            "\u001b[?25hInstalling collected packages: fair-esm\n",
            "Successfully installed fair-esm-2.0.0\n"
          ]
        }
      ]
    },
    {
      "cell_type": "code",
      "source": [
        "from src.CLEAN.utils import csv_to_fasta\n",
        "csv_to_fasta(\"data/test_0.csv\", \"data/test_0.fasta\")\n",
        "csv_to_fasta(\"data/test_1.csv\", \"data/test_1.fasta\")\n",
        "csv_to_fasta(\"data/test_2.csv\", \"data/test_2.fasta\")\n",
        "csv_to_fasta(\"data/test_3.csv\", \"data/test_3.fasta\")\n",
        "csv_to_fasta(\"data/test_4.csv\", \"data/test_4.fasta\")\n",
        "csv_to_fasta(\"data/validation_0.csv\", \"data/validation_0.fasta\")\n",
        "csv_to_fasta(\"data/validation_1.csv\", \"data/validation_1.fasta\")\n",
        "csv_to_fasta(\"data/validation_2.csv\", \"data/validation_2.fasta\")\n",
        "csv_to_fasta(\"data/validation_3.csv\", \"data/validation_3.fasta\")\n",
        "csv_to_fasta(\"data/validation_4.csv\", \"data/validation_4.fasta\")"
      ],
      "metadata": {
        "id": "vNXYyRaT9zv5"
      },
      "execution_count": 5,
      "outputs": []
    },
    {
      "cell_type": "code",
      "source": [
        "from src.CLEAN.infer import infer_maxsep_triplet\n",
        "for i in range(5):\n",
        "  vid = str(i)\n",
        "  if i!=4:\n",
        "    tid = str(i+1)\n",
        "  else:\n",
        "    tid = '0'\n",
        "  print()\n",
        "  print('validation_'+vid,\"test_\"+tid)\n",
        "  print()\n",
        "  train_data = 'train_' + vid + tid\n",
        "  test_data = \"validation_\" + vid\n",
        "  m_name = 'triplet'+vid+tid\n",
        "\n",
        "  infer_maxsep_triplet(train_data, test_data, report_metrics=True, pretrained=False, model_name=m_name)\n",
        "  test_data = \"test_\" + tid\n",
        "  infer_maxsep_triplet(train_data, test_data, report_metrics=True, pretrained=False, model_name=m_name)"
      ],
      "metadata": {
        "colab": {
          "base_uri": "https://localhost:8080/"
        },
        "id": "WjH1KYlY94OE",
        "outputId": "e4148553-77fd-4bc3-b034-0278c264ea0e"
      },
      "execution_count": 10,
      "outputs": [
        {
          "output_type": "stream",
          "name": "stdout",
          "text": [
            "\n",
            "validation_0 test_1\n",
            "\n",
            "The embedding sizes for train and test: torch.Size([3235, 128]) torch.Size([1065, 128])\n"
          ]
        },
        {
          "output_type": "stream",
          "name": "stderr",
          "text": [
            "100%|██████████| 9/9 [00:00<00:00, 5012.45it/s]\n"
          ]
        },
        {
          "output_type": "stream",
          "name": "stdout",
          "text": [
            "Calculating eval distance map, between 1065 test ids and 9 train EC cluster centers\n"
          ]
        },
        {
          "output_type": "stream",
          "name": "stderr",
          "text": [
            "1065it [00:00, 9533.34it/s]\n"
          ]
        },
        {
          "output_type": "stream",
          "name": "stdout",
          "text": [
            "############ EC calling results using maximum separation ############\n",
            "---------------------------------------------------------------------------\n",
            ">>> total samples: 1065 | total ec: 9 \n",
            ">>> precision: 0.804 | recall: 0.873| F1: 0.821 | AUC: 0.92 \n",
            ">>> label: {'ER', 'chloroplast', 'Mitochondrion', 'Nucleus', 'dual', 'Nucleus_export', 'SIGNAL', 'Thylakoid', 'Peroxisome'} \n",
            ">>> precision: [0.17391304 0.66489362 0.74534161 0.16814159 0.125      0.97893031\n",
            " 0.28125    0.34507042 0.        ]\n",
            ">>> recall: [0.8        0.78125    0.9375     0.76       0.15384615 0.92780338\n",
            " 0.9        0.7        0.        ]\n",
            ">>> F1: [0.28571429 0.7183908  0.83044983 0.27536232 0.13793103 0.95268139\n",
            " 0.42857143 0.46226415 0.        ]\n",
            ">>> AUC: [0.87341385 0.86147099 0.95755236 0.85       0.57048845 0.95201919\n",
            " 0.94350711 0.81333094 0.49198869]\n",
            "---------------------------------------------------------------------------\n",
            "The embedding sizes for train and test: torch.Size([3235, 128]) torch.Size([1061, 128])\n"
          ]
        },
        {
          "output_type": "stream",
          "name": "stderr",
          "text": [
            "100%|██████████| 9/9 [00:00<00:00, 4924.82it/s]\n"
          ]
        },
        {
          "output_type": "stream",
          "name": "stdout",
          "text": [
            "Calculating eval distance map, between 1061 test ids and 9 train EC cluster centers\n"
          ]
        },
        {
          "output_type": "stream",
          "name": "stderr",
          "text": [
            "1061it [00:00, 9918.33it/s] \n"
          ]
        },
        {
          "output_type": "stream",
          "name": "stdout",
          "text": [
            "############ EC calling results using maximum separation ############\n",
            "---------------------------------------------------------------------------\n",
            ">>> total samples: 1061 | total ec: 9 \n",
            ">>> precision: 0.794 | recall: 0.878| F1: 0.817 | AUC: 0.924 \n",
            ">>> label: {'chloroplast', 'ER', 'Mitochondrion', 'Nucleus_export', 'dual', 'Nucleus', 'SIGNAL', 'Thylakoid', 'Peroxisome'} \n",
            ">>> precision: [0.16981132 0.68539326 0.64480874 0.13513514 0.11764706 0.97087379\n",
            " 0.23333333 0.40322581 0.05714286]\n",
            ">>> recall: [0.62068966 0.7672956  0.97520661 0.8        0.30769231 0.93457944\n",
            " 0.77777778 0.71428571 0.5       ]\n",
            ">>> F1: [0.26666667 0.72403561 0.77631579 0.23121387 0.17021277 0.95238095\n",
            " 0.35897436 0.51546392 0.1025641 ]\n",
            ">>> AUC: [0.76338212 0.86513548 0.96705205 0.84640927 0.64180857 0.95877665\n",
            " 0.88117871 0.82395848 0.73297067]\n",
            "---------------------------------------------------------------------------\n",
            "\n",
            "validation_1 test_2\n",
            "\n",
            "The embedding sizes for train and test: torch.Size([3245, 128]) torch.Size([1061, 128])\n"
          ]
        },
        {
          "output_type": "stream",
          "name": "stderr",
          "text": [
            "100%|██████████| 9/9 [00:00<00:00, 5402.71it/s]\n"
          ]
        },
        {
          "output_type": "stream",
          "name": "stdout",
          "text": [
            "Calculating eval distance map, between 1061 test ids and 9 train EC cluster centers\n"
          ]
        },
        {
          "output_type": "stream",
          "name": "stderr",
          "text": [
            "1061it [00:00, 10314.35it/s]\n"
          ]
        },
        {
          "output_type": "stream",
          "name": "stdout",
          "text": [
            "############ EC calling results using maximum separation ############\n",
            "---------------------------------------------------------------------------\n",
            ">>> total samples: 1061 | total ec: 9 \n",
            ">>> precision: 0.795 | recall: 0.847| F1: 0.811 | AUC: 0.907 \n",
            ">>> label: {'chloroplast', 'ER', 'Mitochondrion', 'Nucleus_export', 'dual', 'Nucleus', 'SIGNAL', 'Thylakoid', 'Peroxisome'} \n",
            ">>> precision: [0.29824561 0.58682635 0.864      0.21794872 0.09090909 0.96087637\n",
            " 0.2        0.28476821 0.03703704]\n",
            ">>> recall: [0.5862069  0.6163522  0.89256198 0.68       0.23076923 0.95638629\n",
            " 0.77777778 0.61428571 0.25      ]\n",
            ">>> F1: [0.39534884 0.60122699 0.87804878 0.33009709 0.13043478 0.95862607\n",
            " 0.31818182 0.38914027 0.06451613]\n",
            ">>> AUC: [0.77191927 0.77244488 0.94233779 0.81749035 0.60239284 0.96680644\n",
            " 0.8822349  0.76065302 0.61471145]\n",
            "---------------------------------------------------------------------------\n",
            "The embedding sizes for train and test: torch.Size([3245, 128]) torch.Size([1058, 128])\n"
          ]
        },
        {
          "output_type": "stream",
          "name": "stderr",
          "text": [
            "100%|██████████| 9/9 [00:00<00:00, 3964.37it/s]\n"
          ]
        },
        {
          "output_type": "stream",
          "name": "stdout",
          "text": [
            "Calculating eval distance map, between 1058 test ids and 9 train EC cluster centers\n"
          ]
        },
        {
          "output_type": "stream",
          "name": "stderr",
          "text": [
            "1058it [00:00, 9683.80it/s] \n"
          ]
        },
        {
          "output_type": "stream",
          "name": "stdout",
          "text": [
            "############ EC calling results using maximum separation ############\n",
            "---------------------------------------------------------------------------\n",
            ">>> total samples: 1058 | total ec: 9 \n",
            ">>> precision: 0.784 | recall: 0.805| F1: 0.783 | AUC: 0.874 \n",
            ">>> label: {'ER', 'chloroplast', 'Mitochondrion', 'Nucleus_export', 'dual', 'Nucleus', 'SIGNAL', 'Thylakoid', 'Peroxisome'} \n",
            ">>> precision: [0.16216216 0.58659218 0.78504673 0.25373134 0.10344828 0.94354839\n",
            " 0.2962963  0.41176471 0.        ]\n",
            ">>> recall: [0.4137931  0.66455696 0.64122137 0.68       0.25       0.90697674\n",
            " 0.88888889 0.8115942  0.        ]\n",
            ">>> F1: [0.23300971 0.6231454  0.70588235 0.36956522 0.14634146 0.92490119\n",
            " 0.44444444 0.54634146 0.        ]\n",
            ">>> AUC: [0.67801012 0.79393812 0.81291534 0.81626331 0.61297004 0.92336843\n",
            " 0.94047241 0.8710819  0.48388626]\n",
            "---------------------------------------------------------------------------\n",
            "\n",
            "validation_2 test_3\n",
            "\n",
            "The embedding sizes for train and test: torch.Size([3239, 128]) torch.Size([1058, 128])\n"
          ]
        },
        {
          "output_type": "stream",
          "name": "stderr",
          "text": [
            "100%|██████████| 9/9 [00:00<00:00, 5276.59it/s]\n"
          ]
        },
        {
          "output_type": "stream",
          "name": "stdout",
          "text": [
            "Calculating eval distance map, between 1058 test ids and 9 train EC cluster centers\n"
          ]
        },
        {
          "output_type": "stream",
          "name": "stderr",
          "text": [
            "1058it [00:00, 10954.73it/s]\n"
          ]
        },
        {
          "output_type": "stream",
          "name": "stdout",
          "text": [
            "############ EC calling results using maximum separation ############\n",
            "---------------------------------------------------------------------------\n",
            ">>> total samples: 1058 | total ec: 9 \n",
            ">>> precision: 0.814 | recall: 0.833| F1: 0.809 | AUC: 0.897 \n",
            ">>> label: {'ER', 'chloroplast', 'Mitochondrion', 'Nucleus_export', 'dual', 'Nucleus', 'SIGNAL', 'Thylakoid', 'Peroxisome'} \n",
            ">>> precision: [0.13664596 0.70552147 0.75757576 0.17857143 0.09375    0.9718543\n",
            " 0.34782609 0.42718447 0.03448276]\n",
            ">>> recall: [0.75862069 0.7278481  0.76335878 0.8        0.25       0.91007752\n",
            " 0.88888889 0.63768116 0.33333333]\n",
            ">>> F1: [0.23157895 0.7165109  0.76045627 0.2919708  0.13636364 0.93995196\n",
            " 0.5        0.51162791 0.0625    ]\n",
            ">>> AUC: [0.83336684 0.83900844 0.86993256 0.86666021 0.61221319 0.93721869\n",
            " 0.94153162 0.79722601 0.65402844]\n",
            "---------------------------------------------------------------------------\n",
            "The embedding sizes for train and test: torch.Size([3239, 128]) torch.Size([1058, 128])\n"
          ]
        },
        {
          "output_type": "stream",
          "name": "stderr",
          "text": [
            "100%|██████████| 9/9 [00:00<00:00, 5079.22it/s]\n"
          ]
        },
        {
          "output_type": "stream",
          "name": "stdout",
          "text": [
            "Calculating eval distance map, between 1058 test ids and 9 train EC cluster centers\n"
          ]
        },
        {
          "output_type": "stream",
          "name": "stderr",
          "text": [
            "1058it [00:00, 10392.66it/s]\n"
          ]
        },
        {
          "output_type": "stream",
          "name": "stdout",
          "text": [
            "############ EC calling results using maximum separation ############\n",
            "---------------------------------------------------------------------------\n",
            ">>> total samples: 1058 | total ec: 9 \n",
            ">>> precision: 0.846 | recall: 0.859| F1: 0.839 | AUC: 0.921 \n",
            ">>> label: {'chloroplast', 'ER', 'Mitochondrion', 'Nucleus_export', 'dual', 'Nucleus', 'SIGNAL', 'Thylakoid', 'Peroxisome'} \n",
            ">>> precision: [0.1875     0.73648649 0.86764706 0.08695652 0.27777778 0.98668885\n",
            " 0.375      0.50485437 0.        ]\n",
            ">>> recall: [0.93103448 0.68987342 0.89393939 0.32       0.83333333 0.9265625\n",
            " 1.         0.74285714 0.        ]\n",
            ">>> F1: [0.31213873 0.7124183  0.88059701 0.13675214 0.41666667 0.9556809\n",
            " 0.54545455 0.60115607 0.        ]\n",
            ">>> AUC: [0.9436346  0.83073136 0.94016297 0.61945789 0.91168738 0.95862179\n",
            " 0.99894079 0.85467033 0.48862559]\n",
            "---------------------------------------------------------------------------\n",
            "\n",
            "validation_3 test_4\n",
            "\n",
            "The embedding sizes for train and test: torch.Size([3244, 128]) torch.Size([1058, 128])\n"
          ]
        },
        {
          "output_type": "stream",
          "name": "stderr",
          "text": [
            "100%|██████████| 9/9 [00:00<00:00, 2509.56it/s]\n"
          ]
        },
        {
          "output_type": "stream",
          "name": "stdout",
          "text": [
            "Calculating eval distance map, between 1058 test ids and 9 train EC cluster centers\n"
          ]
        },
        {
          "output_type": "stream",
          "name": "stderr",
          "text": [
            "1058it [00:00, 8568.99it/s]\n"
          ]
        },
        {
          "output_type": "stream",
          "name": "stdout",
          "text": [
            "############ EC calling results using maximum separation ############\n",
            "---------------------------------------------------------------------------\n",
            ">>> total samples: 1058 | total ec: 9 \n",
            ">>> precision: 0.841 | recall: 0.814| F1: 0.809 | AUC: 0.897 \n",
            ">>> label: {'chloroplast', 'ER', 'Mitochondrion', 'Nucleus_export', 'dual', 'Nucleus', 'SIGNAL', 'Thylakoid', 'Peroxisome'} \n",
            ">>> precision: [0.125      0.68571429 0.86178862 0.16666667 0.34782609 0.99263352\n",
            " 0.5625     0.46610169 0.        ]\n",
            ">>> recall: [0.96551724 0.75949367 0.8030303  0.48       0.66666667 0.8421875\n",
            " 1.         0.78571429 0.        ]\n",
            ">>> F1: [0.22134387 0.72072072 0.83137255 0.24742268 0.45714286 0.9112426\n",
            " 0.72       0.58510638 0.        ]\n",
            ">>> AUC: [0.93182199 0.85752461 0.89553063 0.71037754 0.82731836 0.9186958\n",
            " 0.99650461 0.86627386 0.492891  ]\n",
            "---------------------------------------------------------------------------\n",
            "The embedding sizes for train and test: torch.Size([3244, 128]) torch.Size([1058, 128])\n"
          ]
        },
        {
          "output_type": "stream",
          "name": "stderr",
          "text": [
            "100%|██████████| 9/9 [00:00<00:00, 5016.44it/s]\n"
          ]
        },
        {
          "output_type": "stream",
          "name": "stdout",
          "text": [
            "Calculating eval distance map, between 1058 test ids and 9 train EC cluster centers\n"
          ]
        },
        {
          "output_type": "stream",
          "name": "stderr",
          "text": [
            "1058it [00:00, 10281.30it/s]\n"
          ]
        },
        {
          "output_type": "stream",
          "name": "stdout",
          "text": [
            "############ EC calling results using maximum separation ############\n",
            "---------------------------------------------------------------------------\n",
            ">>> total samples: 1058 | total ec: 9 \n",
            ">>> precision: 0.822 | recall: 0.852| F1: 0.824 | AUC: 0.913 \n",
            ">>> label: {'chloroplast', 'ER', 'Mitochondrion', 'Nucleus', 'dual', 'Nucleus_export', 'SIGNAL', 'Thylakoid', 'Peroxisome'} \n",
            ">>> precision: [0.1402439  0.6827957  0.80314961 0.23076923 0.18518519 0.97682119\n",
            " 0.125      0.45217391 0.        ]\n",
            ">>> recall: [0.79310345 0.80379747 0.82926829 0.6        0.41666667 0.91049383\n",
            " 0.33333333 0.75362319 0.        ]\n",
            ">>> F1: [0.23834197 0.73837209 0.816      0.33333333 0.25641026 0.94249201\n",
            " 0.18181818 0.56521739 0.        ]\n",
            ">>> AUC: [0.86518548 0.87978551 0.90686927 0.78112294 0.6984146  0.94585027\n",
            " 0.6572397  0.85335795 0.49383886]\n",
            "---------------------------------------------------------------------------\n",
            "\n",
            "validation_4 test_0\n",
            "\n",
            "The embedding sizes for train and test: torch.Size([3231, 128]) torch.Size([1058, 128])\n"
          ]
        },
        {
          "output_type": "stream",
          "name": "stderr",
          "text": [
            "100%|██████████| 9/9 [00:00<00:00, 2071.60it/s]\n"
          ]
        },
        {
          "output_type": "stream",
          "name": "stdout",
          "text": [
            "Calculating eval distance map, between 1058 test ids and 9 train EC cluster centers\n"
          ]
        },
        {
          "output_type": "stream",
          "name": "stderr",
          "text": [
            "1058it [00:00, 10563.97it/s]\n"
          ]
        },
        {
          "output_type": "stream",
          "name": "stdout",
          "text": [
            "############ EC calling results using maximum separation ############\n",
            "---------------------------------------------------------------------------\n",
            ">>> total samples: 1058 | total ec: 9 \n",
            ">>> precision: 0.803 | recall: 0.859| F1: 0.817 | AUC: 0.91 \n",
            ">>> label: {'chloroplast', 'ER', 'Mitochondrion', 'Nucleus', 'dual', 'Nucleus_export', 'SIGNAL', 'Thylakoid', 'Peroxisome'} \n",
            ">>> precision: [0.13385827 0.64253394 0.75333333 0.175      0.05882353 0.96833333\n",
            " 0.2        0.45614035 0.        ]\n",
            ">>> recall: [0.5862069  0.89873418 0.91869919 0.56       0.08333333 0.89660494\n",
            " 0.44444444 0.75362319 0.        ]\n",
            ">>> F1: [0.21794872 0.74934037 0.82783883 0.26666667 0.06896552 0.93108974\n",
            " 0.27586207 0.56830601 0.        ]\n",
            ">>> AUC: [0.75272276 0.91776371 0.94495022 0.74886738 0.53457616 0.93217216\n",
            " 0.7150196  0.85343122 0.49763033]\n",
            "---------------------------------------------------------------------------\n",
            "The embedding sizes for train and test: torch.Size([3231, 128]) torch.Size([1065, 128])\n"
          ]
        },
        {
          "output_type": "stream",
          "name": "stderr",
          "text": [
            "100%|██████████| 9/9 [00:00<00:00, 4756.65it/s]\n"
          ]
        },
        {
          "output_type": "stream",
          "name": "stdout",
          "text": [
            "Calculating eval distance map, between 1065 test ids and 9 train EC cluster centers\n"
          ]
        },
        {
          "output_type": "stream",
          "name": "stderr",
          "text": [
            "1065it [00:00, 9579.14it/s]\n"
          ]
        },
        {
          "output_type": "stream",
          "name": "stdout",
          "text": [
            "############ EC calling results using maximum separation ############\n",
            "---------------------------------------------------------------------------\n",
            ">>> total samples: 1065 | total ec: 9 \n",
            ">>> precision: 0.808 | recall: 0.839| F1: 0.811 | AUC: 0.903 \n",
            ">>> label: {'ER', 'chloroplast', 'Mitochondrion', 'Nucleus', 'dual', 'Nucleus_export', 'SIGNAL', 'Thylakoid', 'Peroxisome'} \n",
            ">>> precision: [0.2        0.66       0.79136691 0.18823529 0.1        0.97495826\n",
            " 0.30434783 0.35514019 0.08333333]\n",
            ">>> recall: [0.83333333 0.825      0.859375   0.64       0.15384615 0.89708141\n",
            " 0.7        0.54285714 0.25      ]\n",
            ">>> F1: [0.32258065 0.73333333 0.82397004 0.29090909 0.12121212 0.9344\n",
            " 0.42424242 0.42937853 0.125     ]\n",
            ">>> AUC: [0.88069243 0.88046961 0.91886923 0.79394231 0.569611   0.93770082\n",
            " 0.84440758 0.74446518 0.62087653]\n",
            "---------------------------------------------------------------------------\n"
          ]
        }
      ]
    },
    {
      "cell_type": "code",
      "source": [
        "from src.CLEAN.infer import infer_pvalue_triplet\n",
        "for i in range(5):\n",
        "  vid = str(i)\n",
        "  if i!=4:\n",
        "    tid = str(i+1)\n",
        "  else:\n",
        "    tid = '0'\n",
        "  print()\n",
        "  print('validation_'+vid,\"test_\"+tid)\n",
        "  print()\n",
        "  train_data = 'train_' + vid + tid\n",
        "  test_data = \"validation_\" + vid\n",
        "  m_name = 'triplet'+vid+tid\n",
        "\n",
        "  infer_pvalue_triplet(train_data, test_data, p_value=1e-5, nk_random=20, report_metrics=True, pretrained=False, model_name=m_name)\n",
        "  test_data = \"test_\" + tid\n",
        "  infer_pvalue_triplet(train_data, test_data, p_value=1e-5, nk_random=20, report_metrics=True, pretrained=False, model_name=m_name)"
      ],
      "metadata": {
        "colab": {
          "base_uri": "https://localhost:8080/"
        },
        "id": "TXZNDh9UFPt8",
        "outputId": "c836e099-4b31-440d-e32e-806a07561ec8"
      },
      "execution_count": 11,
      "outputs": [
        {
          "output_type": "stream",
          "name": "stdout",
          "text": [
            "\n",
            "validation_0 test_1\n",
            "\n",
            "The embedding sizes for train and test: torch.Size([3235, 128]) torch.Size([1065, 128])\n"
          ]
        },
        {
          "output_type": "stream",
          "name": "stderr",
          "text": [
            "100%|██████████| 9/9 [00:00<00:00, 6037.87it/s]\n"
          ]
        },
        {
          "output_type": "stream",
          "name": "stdout",
          "text": [
            "Calculating eval distance map, between 1065 test ids and 9 train EC cluster centers\n"
          ]
        },
        {
          "output_type": "stream",
          "name": "stderr",
          "text": [
            "1065it [00:00, 7899.86it/s]\n",
            "100%|██████████| 9/9 [00:00<00:00, 3898.86it/s]\n",
            "20000it [00:02, 8067.25it/s]\n",
            "100%|██████████| 1065/1065 [00:01<00:00, 552.12it/s]\n"
          ]
        },
        {
          "output_type": "stream",
          "name": "stdout",
          "text": [
            "############ EC calling results using random chosen 20k samples ############\n",
            "---------------------------------------------------------------------------\n",
            ">>> total samples: 1065 | total ec: 9 \n",
            ">>> precision: 0.832 | recall: 0.762| F1: 0.788 | AUC: 0.867 \n",
            ">>> label: {'ER', 'chloroplast', 'Mitochondrion', 'Nucleus', 'dual', 'Nucleus_export', 'SIGNAL', 'Thylakoid', 'Peroxisome'} \n",
            ">>> precision: [0.2987013  0.69465649 0.81730769 0.26829268 0.33333333 0.98458904\n",
            " 0.34615385 0.39772727 0.        ]\n",
            ">>> recall: [0.76666667 0.56875    0.6640625  0.44       0.15384615 0.88325653\n",
            " 0.9        0.5        0.        ]\n",
            ">>> F1: [0.42990654 0.62542955 0.73275862 0.33333333 0.21052632 0.93117409\n",
            " 0.5        0.44303797 0.        ]\n",
            ">>> AUC: [0.85724638 0.76227555 0.82189251 0.70557692 0.57502194 0.9307587\n",
            " 0.94194313 0.72336683 0.49622997]\n",
            "---------------------------------------------------------------------------\n",
            "The embedding sizes for train and test: torch.Size([3235, 128]) torch.Size([1061, 128])\n"
          ]
        },
        {
          "output_type": "stream",
          "name": "stderr",
          "text": [
            "100%|██████████| 9/9 [00:00<00:00, 5410.45it/s]\n"
          ]
        },
        {
          "output_type": "stream",
          "name": "stdout",
          "text": [
            "Calculating eval distance map, between 1061 test ids and 9 train EC cluster centers\n"
          ]
        },
        {
          "output_type": "stream",
          "name": "stderr",
          "text": [
            "1061it [00:00, 10656.38it/s]\n",
            "100%|██████████| 9/9 [00:00<00:00, 5231.98it/s]\n",
            "20000it [00:01, 10491.96it/s]\n",
            "100%|██████████| 1061/1061 [00:01<00:00, 541.83it/s]\n"
          ]
        },
        {
          "output_type": "stream",
          "name": "stdout",
          "text": [
            "############ EC calling results using random chosen 20k samples ############\n",
            "---------------------------------------------------------------------------\n",
            ">>> total samples: 1061 | total ec: 9 \n",
            ">>> precision: 0.831 | recall: 0.776| F1: 0.799 | AUC: 0.872 \n",
            ">>> label: {'chloroplast', 'ER', 'Mitochondrion', 'Nucleus_export', 'dual', 'Nucleus', 'SIGNAL', 'Thylakoid', 'Peroxisome'} \n",
            ">>> precision: [0.21276596 0.82539683 0.68992248 0.2        0.2        0.97792869\n",
            " 0.26923077 0.46052632 0.        ]\n",
            ">>> recall: [0.34482759 0.65408805 0.73553719 0.28       0.30769231 0.89719626\n",
            " 0.77777778 0.5        0.        ]\n",
            ">>> F1: [0.26315789 0.72982456 0.712      0.23333333 0.24242424 0.93582453\n",
            " 0.4        0.47945205 0.        ]\n",
            ">>> AUC: [0.65448744 0.8148489  0.846492   0.62648649 0.64621257 0.933085\n",
            " 0.87985847 0.72931382 0.49385052]\n",
            "---------------------------------------------------------------------------\n",
            "\n",
            "validation_1 test_2\n",
            "\n",
            "The embedding sizes for train and test: torch.Size([3245, 128]) torch.Size([1061, 128])\n"
          ]
        },
        {
          "output_type": "stream",
          "name": "stderr",
          "text": [
            "100%|██████████| 9/9 [00:00<00:00, 5433.04it/s]\n"
          ]
        },
        {
          "output_type": "stream",
          "name": "stdout",
          "text": [
            "Calculating eval distance map, between 1061 test ids and 9 train EC cluster centers\n"
          ]
        },
        {
          "output_type": "stream",
          "name": "stderr",
          "text": [
            "1061it [00:00, 8093.96it/s]\n",
            "100%|██████████| 9/9 [00:00<00:00, 4257.70it/s]\n",
            "20000it [00:02, 8426.12it/s] \n",
            "100%|██████████| 1061/1061 [00:01<00:00, 549.75it/s]\n"
          ]
        },
        {
          "output_type": "stream",
          "name": "stdout",
          "text": [
            "############ EC calling results using random chosen 20k samples ############\n",
            "---------------------------------------------------------------------------\n",
            ">>> total samples: 1061 | total ec: 9 \n",
            ">>> precision: 0.825 | recall: 0.77| F1: 0.789 | AUC: 0.869 \n",
            ">>> label: {'chloroplast', 'ER', 'Mitochondrion', 'Nucleus_export', 'dual', 'Nucleus', 'SIGNAL', 'Thylakoid', 'Peroxisome'} \n",
            ">>> precision: [0.35135135 0.63106796 0.91089109 0.24444444 0.1        0.98032787\n",
            " 0.30434783 0.33333333 0.07142857]\n",
            ">>> recall: [0.44827586 0.40880503 0.76033058 0.44       0.15384615 0.93146417\n",
            " 0.77777778 0.51428571 0.25      ]\n",
            ">>> F1: [0.39393939 0.49618321 0.82882883 0.31428571 0.12121212 0.95527157\n",
            " 0.4375     0.40449438 0.11111111]\n",
            ">>> AUC: [0.71251002 0.68333821 0.87537806 0.70359073 0.56833529 0.95141228\n",
            " 0.88128433 0.72081591 0.61885052]\n",
            "---------------------------------------------------------------------------\n",
            "The embedding sizes for train and test: torch.Size([3245, 128]) torch.Size([1058, 128])\n"
          ]
        },
        {
          "output_type": "stream",
          "name": "stderr",
          "text": [
            "100%|██████████| 9/9 [00:00<00:00, 5665.43it/s]\n"
          ]
        },
        {
          "output_type": "stream",
          "name": "stdout",
          "text": [
            "Calculating eval distance map, between 1058 test ids and 9 train EC cluster centers\n"
          ]
        },
        {
          "output_type": "stream",
          "name": "stderr",
          "text": [
            "1058it [00:00, 10478.55it/s]\n",
            "100%|██████████| 9/9 [00:00<00:00, 5743.00it/s]\n",
            "20000it [00:01, 10675.49it/s]\n",
            "100%|██████████| 1058/1058 [00:02<00:00, 518.62it/s]\n"
          ]
        },
        {
          "output_type": "stream",
          "name": "stdout",
          "text": [
            "############ EC calling results using random chosen 20k samples ############\n",
            "---------------------------------------------------------------------------\n",
            ">>> total samples: 1058 | total ec: 9 \n",
            ">>> precision: 0.806 | recall: 0.731| F1: 0.758 | AUC: 0.84 \n",
            ">>> label: {'ER', 'chloroplast', 'Mitochondrion', 'Nucleus_export', 'dual', 'Nucleus', 'SIGNAL', 'Thylakoid', 'Peroxisome'} \n",
            ">>> precision: [0.18965517 0.58730159 0.85135135 0.26086957 0.14285714 0.95854063\n",
            " 0.44444444 0.45555556 0.        ]\n",
            ">>> recall: [0.37931034 0.46835443 0.48091603 0.48       0.25       0.89612403\n",
            " 0.88888889 0.5942029  0.        ]\n",
            ">>> F1: [0.25287356 0.52112676 0.61463415 0.33802817 0.18181818 0.92628205\n",
            " 0.59259259 0.51572327 0.        ]\n",
            ">>> AUC: [0.66681747 0.70528833 0.7345249  0.72354308 0.61639579 0.91779567\n",
            " 0.939678   0.77232895 0.48957346]\n",
            "---------------------------------------------------------------------------\n",
            "\n",
            "validation_2 test_3\n",
            "\n",
            "The embedding sizes for train and test: torch.Size([3239, 128]) torch.Size([1058, 128])\n"
          ]
        },
        {
          "output_type": "stream",
          "name": "stderr",
          "text": [
            "100%|██████████| 9/9 [00:00<00:00, 3667.42it/s]\n"
          ]
        },
        {
          "output_type": "stream",
          "name": "stdout",
          "text": [
            "Calculating eval distance map, between 1058 test ids and 9 train EC cluster centers\n"
          ]
        },
        {
          "output_type": "stream",
          "name": "stderr",
          "text": [
            "1058it [00:00, 6372.52it/s]\n",
            "100%|██████████| 9/9 [00:00<00:00, 5151.30it/s]\n",
            "20000it [00:02, 8545.21it/s] \n",
            "100%|██████████| 1058/1058 [00:01<00:00, 544.64it/s]\n"
          ]
        },
        {
          "output_type": "stream",
          "name": "stdout",
          "text": [
            "############ EC calling results using random chosen 20k samples ############\n",
            "---------------------------------------------------------------------------\n",
            ">>> total samples: 1058 | total ec: 9 \n",
            ">>> precision: 0.835 | recall: 0.735| F1: 0.773 | AUC: 0.851 \n",
            ">>> label: {'ER', 'chloroplast', 'Mitochondrion', 'Nucleus_export', 'dual', 'Nucleus', 'SIGNAL', 'Thylakoid', 'Peroxisome'} \n",
            ">>> precision: [0.20408163 0.71544715 0.81818182 0.21666667 0.0625     0.97539543\n",
            " 0.5        0.53623188 0.        ]\n",
            ">>> recall: [0.68965517 0.55696203 0.54961832 0.52       0.08333333 0.86046512\n",
            " 0.88888889 0.53623188 0.        ]\n",
            ">>> F1: [0.31496063 0.62633452 0.65753425 0.30588235 0.07142857 0.91433278\n",
            " 0.64       0.53623188 0.        ]\n",
            ">>> AUC: [0.80692671 0.75903657 0.76617917 0.73725073 0.53449649 0.91328341\n",
            " 0.94063129 0.75193798 0.49099526]\n",
            "---------------------------------------------------------------------------\n",
            "The embedding sizes for train and test: torch.Size([3239, 128]) torch.Size([1058, 128])\n"
          ]
        },
        {
          "output_type": "stream",
          "name": "stderr",
          "text": [
            "100%|██████████| 9/9 [00:00<00:00, 5206.72it/s]\n"
          ]
        },
        {
          "output_type": "stream",
          "name": "stdout",
          "text": [
            "Calculating eval distance map, between 1058 test ids and 9 train EC cluster centers\n"
          ]
        },
        {
          "output_type": "stream",
          "name": "stderr",
          "text": [
            "1058it [00:00, 10855.04it/s]\n",
            "100%|██████████| 9/9 [00:00<00:00, 4799.58it/s]\n",
            "20000it [00:01, 10710.75it/s]\n",
            "100%|██████████| 1058/1058 [00:01<00:00, 551.08it/s]\n"
          ]
        },
        {
          "output_type": "stream",
          "name": "stdout",
          "text": [
            "############ EC calling results using random chosen 20k samples ############\n",
            "---------------------------------------------------------------------------\n",
            ">>> total samples: 1058 | total ec: 9 \n",
            ">>> precision: 0.875 | recall: 0.786| F1: 0.82 | AUC: 0.886 \n",
            ">>> label: {'chloroplast', 'ER', 'Mitochondrion', 'Nucleus_export', 'dual', 'Nucleus', 'SIGNAL', 'Thylakoid', 'Peroxisome'} \n",
            ">>> precision: [0.26732673 0.8        0.88596491 0.05714286 0.42857143 0.99464286\n",
            " 0.69230769 0.61333333 0.        ]\n",
            ">>> recall: [0.93103448 0.60759494 0.76515152 0.08       0.75       0.8703125\n",
            " 1.         0.65714286 0.        ]\n",
            ">>> F1: [0.41538462 0.69064748 0.82113821 0.06666667 0.54545455 0.92833333\n",
            " 0.81818182 0.63448276 0.        ]\n",
            ">>> AUC: [0.92956    0.79046414 0.87555632 0.52402711 0.86926386 0.93156773\n",
            " 0.99809342 0.81389532 0.49099526]\n",
            "---------------------------------------------------------------------------\n",
            "\n",
            "validation_3 test_4\n",
            "\n",
            "The embedding sizes for train and test: torch.Size([3244, 128]) torch.Size([1058, 128])\n"
          ]
        },
        {
          "output_type": "stream",
          "name": "stderr",
          "text": [
            "100%|██████████| 9/9 [00:00<00:00, 5066.94it/s]\n"
          ]
        },
        {
          "output_type": "stream",
          "name": "stdout",
          "text": [
            "Calculating eval distance map, between 1058 test ids and 9 train EC cluster centers\n"
          ]
        },
        {
          "output_type": "stream",
          "name": "stderr",
          "text": [
            "1058it [00:00, 7247.28it/s]\n",
            "100%|██████████| 9/9 [00:00<00:00, 6301.96it/s]\n",
            "20000it [00:02, 8738.06it/s] \n",
            "100%|██████████| 1058/1058 [00:01<00:00, 558.51it/s]\n"
          ]
        },
        {
          "output_type": "stream",
          "name": "stdout",
          "text": [
            "############ EC calling results using random chosen 20k samples ############\n",
            "---------------------------------------------------------------------------\n",
            ">>> total samples: 1058 | total ec: 9 \n",
            ">>> precision: 0.86 | recall: 0.718| F1: 0.77 | AUC: 0.85 \n",
            ">>> label: {'chloroplast', 'ER', 'Mitochondrion', 'Nucleus_export', 'dual', 'Nucleus', 'SIGNAL', 'Thylakoid', 'Peroxisome'} \n",
            ">>> precision: [0.15976331 0.73722628 0.90178571 0.13888889 0.42857143 0.99587629\n",
            " 0.53333333 0.51807229 0.        ]\n",
            ">>> recall: [0.93103448 0.63924051 0.76515152 0.2        0.5        0.7546875\n",
            " 0.88888889 0.61428571 0.        ]\n",
            ">>> F1: [0.27272727 0.68474576 0.82786885 0.16393443 0.46153846 0.85866667\n",
            " 0.66666667 0.5620915  0.        ]\n",
            ">>> AUC: [0.89651821 0.79962025 0.87663623 0.58499516 0.74617591 0.87495141\n",
            " 0.94110793 0.78689994 0.49668246]\n",
            "---------------------------------------------------------------------------\n",
            "The embedding sizes for train and test: torch.Size([3244, 128]) torch.Size([1058, 128])\n"
          ]
        },
        {
          "output_type": "stream",
          "name": "stderr",
          "text": [
            "100%|██████████| 9/9 [00:00<00:00, 4303.81it/s]\n"
          ]
        },
        {
          "output_type": "stream",
          "name": "stdout",
          "text": [
            "Calculating eval distance map, between 1058 test ids and 9 train EC cluster centers\n"
          ]
        },
        {
          "output_type": "stream",
          "name": "stderr",
          "text": [
            "1058it [00:00, 10759.40it/s]\n",
            "100%|██████████| 9/9 [00:00<00:00, 4041.19it/s]\n",
            "20000it [00:01, 10520.55it/s]\n",
            "100%|██████████| 1058/1058 [00:01<00:00, 552.02it/s]\n"
          ]
        },
        {
          "output_type": "stream",
          "name": "stdout",
          "text": [
            "############ EC calling results using random chosen 20k samples ############\n",
            "---------------------------------------------------------------------------\n",
            ">>> total samples: 1058 | total ec: 9 \n",
            ">>> precision: 0.853 | recall: 0.77| F1: 0.803 | AUC: 0.872 \n",
            ">>> label: {'chloroplast', 'ER', 'Mitochondrion', 'Nucleus', 'dual', 'Nucleus_export', 'SIGNAL', 'Thylakoid', 'Peroxisome'} \n",
            ">>> precision: [0.22680412 0.75       0.88073394 0.32432432 0.23529412 0.98372514\n",
            " 0.11111111 0.51515152 0.        ]\n",
            ">>> recall: [0.75862069 0.72151899 0.7804878  0.48       0.33333333 0.83950617\n",
            " 0.22222222 0.49275362 0.        ]\n",
            ">>> F1: [0.34920635 0.73548387 0.82758621 0.38709677 0.27586207 0.90591174\n",
            " 0.14814815 0.5037037  0.        ]\n",
            ">>> AUC: [0.8428672  0.83964838 0.88329203 0.72789932 0.66045252 0.90877748\n",
            " 0.6034848  0.73019885 0.4957346 ]\n",
            "---------------------------------------------------------------------------\n",
            "\n",
            "validation_4 test_0\n",
            "\n",
            "The embedding sizes for train and test: torch.Size([3231, 128]) torch.Size([1058, 128])\n"
          ]
        },
        {
          "output_type": "stream",
          "name": "stderr",
          "text": [
            "100%|██████████| 9/9 [00:00<00:00, 4802.03it/s]\n"
          ]
        },
        {
          "output_type": "stream",
          "name": "stdout",
          "text": [
            "Calculating eval distance map, between 1058 test ids and 9 train EC cluster centers\n"
          ]
        },
        {
          "output_type": "stream",
          "name": "stderr",
          "text": [
            "1058it [00:00, 7370.05it/s]\n",
            "100%|██████████| 9/9 [00:00<00:00, 5769.33it/s]\n",
            "20000it [00:02, 8667.20it/s] \n",
            "100%|██████████| 1058/1058 [00:02<00:00, 523.21it/s]\n"
          ]
        },
        {
          "output_type": "stream",
          "name": "stdout",
          "text": [
            "############ EC calling results using random chosen 20k samples ############\n",
            "---------------------------------------------------------------------------\n",
            ">>> total samples: 1058 | total ec: 9 \n",
            ">>> precision: 0.826 | recall: 0.761| F1: 0.787 | AUC: 0.863 \n",
            ">>> label: {'chloroplast', 'ER', 'Mitochondrion', 'Nucleus', 'dual', 'Nucleus_export', 'SIGNAL', 'Thylakoid', 'Peroxisome'} \n",
            ">>> precision: [0.16842105 0.67231638 0.81196581 0.17391304 0.125      0.97849462\n",
            " 0.2        0.52173913 0.        ]\n",
            ">>> recall: [0.55172414 0.75316456 0.77235772 0.16       0.08333333 0.84259259\n",
            " 0.22222222 0.52173913 0.        ]\n",
            ">>> F1: [0.25806452 0.71044776 0.79166667 0.16666667 0.1        0.90547264\n",
            " 0.21052632 0.52173913 0.        ]\n",
            ">>> AUC: [0.73747529 0.84436006 0.87441416 0.57080348 0.53832059 0.90666215\n",
            " 0.60729796 0.74418605 0.49952607]\n",
            "---------------------------------------------------------------------------\n",
            "The embedding sizes for train and test: torch.Size([3231, 128]) torch.Size([1065, 128])\n"
          ]
        },
        {
          "output_type": "stream",
          "name": "stderr",
          "text": [
            "100%|██████████| 9/9 [00:00<00:00, 3137.10it/s]\n"
          ]
        },
        {
          "output_type": "stream",
          "name": "stdout",
          "text": [
            "Calculating eval distance map, between 1065 test ids and 9 train EC cluster centers\n"
          ]
        },
        {
          "output_type": "stream",
          "name": "stderr",
          "text": [
            "1065it [00:00, 10451.41it/s]\n",
            "100%|██████████| 9/9 [00:00<00:00, 6068.93it/s]\n",
            "20000it [00:01, 10463.22it/s]\n",
            "100%|██████████| 1065/1065 [00:01<00:00, 543.51it/s]\n"
          ]
        },
        {
          "output_type": "stream",
          "name": "stdout",
          "text": [
            "############ EC calling results using random chosen 20k samples ############\n",
            "---------------------------------------------------------------------------\n",
            ">>> total samples: 1065 | total ec: 9 \n",
            ">>> precision: 0.83 | recall: 0.757| F1: 0.786 | AUC: 0.864 \n",
            ">>> label: {'ER', 'chloroplast', 'Mitochondrion', 'Nucleus', 'dual', 'Nucleus_export', 'SIGNAL', 'Thylakoid', 'Peroxisome'} \n",
            ">>> precision: [0.23595506 0.69032258 0.81651376 0.27777778 0.22222222 0.98236332\n",
            " 0.35       0.43243243 0.16666667]\n",
            ">>> recall: [0.7        0.66875    0.6953125  0.4        0.15384615 0.85560676\n",
            " 0.7        0.45714286 0.25      ]\n",
            ">>> F1: [0.35294118 0.67936508 0.75105485 0.32786885 0.18181818 0.91461412\n",
            " 0.46666667 0.44444444 0.2       ]\n",
            ">>> AUC: [0.81714976 0.80785566 0.83698389 0.6875     0.57359608 0.91572608\n",
            " 0.84383886 0.7074659  0.62264373]\n",
            "---------------------------------------------------------------------------\n"
          ]
        }
      ]
    },
    {
      "cell_type": "code",
      "source": [
        "from src.CLEAN.infer import infer_maxsep_supcon\n",
        "for i in range(5):\n",
        "  vid = str(i)\n",
        "  if i!=4:\n",
        "    tid = str(i+1)\n",
        "  else:\n",
        "    tid = '0'\n",
        "  print()\n",
        "  print('validation_'+vid,\"test_\"+tid)\n",
        "  print()\n",
        "  train_data = 'train_' + vid + tid\n",
        "  test_data = \"validation_\" + vid\n",
        "  m_name = 'supcon'+vid+tid\n",
        "\n",
        "  infer_maxsep_supcon(train_data, test_data, report_metrics=True, pretrained=False, model_name=m_name)\n",
        "  test_data = \"test_\" + tid\n",
        "  infer_maxsep_supcon(train_data, test_data, report_metrics=True, pretrained=False, model_name=m_name)"
      ],
      "metadata": {
        "colab": {
          "base_uri": "https://localhost:8080/"
        },
        "id": "X-H5zg7QG5Y5",
        "outputId": "b856781c-a5b3-4bca-95c8-c2e69c0b87a4"
      },
      "execution_count": 12,
      "outputs": [
        {
          "output_type": "stream",
          "name": "stdout",
          "text": [
            "\n",
            "validation_0 test_1\n",
            "\n",
            "The embedding sizes for train and test: torch.Size([3235, 256]) torch.Size([1065, 256])\n"
          ]
        },
        {
          "output_type": "stream",
          "name": "stderr",
          "text": [
            "100%|██████████| 9/9 [00:00<00:00, 6499.44it/s]\n"
          ]
        },
        {
          "output_type": "stream",
          "name": "stdout",
          "text": [
            "Calculating eval distance map, between 1065 test ids and 9 train EC cluster centers\n"
          ]
        },
        {
          "output_type": "stream",
          "name": "stderr",
          "text": [
            "1065it [00:00, 7873.27it/s]\n"
          ]
        },
        {
          "output_type": "stream",
          "name": "stdout",
          "text": [
            "############ EC calling results using maximum separation ############\n",
            "---------------------------------------------------------------------------\n",
            ">>> total samples: 1065 | total ec: 9 \n",
            ">>> precision: 0.815 | recall: 0.874| F1: 0.834 | AUC: 0.925 \n",
            ">>> label: {'ER', 'chloroplast', 'Mitochondrion', 'Nucleus', 'dual', 'Nucleus_export', 'SIGNAL', 'Thylakoid', 'Peroxisome'} \n",
            ">>> precision: [0.40677966 0.62831858 0.67816092 0.203125   0.33333333 0.98381877\n",
            " 0.42857143 0.5125     0.        ]\n",
            ">>> recall: [0.8        0.8875     0.921875   0.52       0.07692308 0.93394777\n",
            " 0.6        0.58571429 0.        ]\n",
            ">>> F1: [0.53932584 0.7357513  0.78145695 0.29213483 0.125      0.95823483\n",
            " 0.5        0.54666667 0.        ]\n",
            ">>> AUC: [0.88708535 0.91438881 0.95229956 0.73723077 0.53751097 0.95891494\n",
            " 0.79677725 0.77622398 0.49952875]\n",
            "---------------------------------------------------------------------------\n",
            "The embedding sizes for train and test: torch.Size([3235, 256]) torch.Size([1061, 256])\n"
          ]
        },
        {
          "output_type": "stream",
          "name": "stderr",
          "text": [
            "100%|██████████| 9/9 [00:00<00:00, 3716.89it/s]\n"
          ]
        },
        {
          "output_type": "stream",
          "name": "stdout",
          "text": [
            "Calculating eval distance map, between 1061 test ids and 9 train EC cluster centers\n"
          ]
        },
        {
          "output_type": "stream",
          "name": "stderr",
          "text": [
            "1061it [00:00, 10919.91it/s]\n"
          ]
        },
        {
          "output_type": "stream",
          "name": "stdout",
          "text": [
            "############ EC calling results using maximum separation ############\n",
            "---------------------------------------------------------------------------\n",
            ">>> total samples: 1061 | total ec: 9 \n",
            ">>> precision: 0.797 | recall: 0.86| F1: 0.82 | AUC: 0.916 \n",
            ">>> label: {'chloroplast', 'ER', 'Mitochondrion', 'Nucleus_export', 'dual', 'Nucleus', 'SIGNAL', 'Thylakoid', 'Peroxisome'} \n",
            ">>> precision: [0.25       0.65566038 0.61363636 0.18666667 0.125      0.97435897\n",
            " 0.2        0.49438202 0.        ]\n",
            ">>> recall: [0.20689655 0.87421384 0.89256198 0.56       0.07692308 0.9470405\n",
            " 0.22222222 0.62857143 0.        ]\n",
            ">>> F1: [0.22641509 0.74932615 0.72727273 0.28       0.0952381  0.96050553\n",
            " 0.21052632 0.55345912 0.        ]\n",
            ">>> AUC: [0.59479417 0.91098746 0.93196765 0.76079151 0.53515854 0.96307407\n",
            " 0.60752007 0.79656912 0.49810785]\n",
            "---------------------------------------------------------------------------\n",
            "\n",
            "validation_1 test_2\n",
            "\n",
            "The embedding sizes for train and test: torch.Size([3245, 256]) torch.Size([1061, 256])\n"
          ]
        },
        {
          "output_type": "stream",
          "name": "stderr",
          "text": [
            "100%|██████████| 9/9 [00:00<00:00, 7038.74it/s]\n"
          ]
        },
        {
          "output_type": "stream",
          "name": "stdout",
          "text": [
            "Calculating eval distance map, between 1061 test ids and 9 train EC cluster centers\n"
          ]
        },
        {
          "output_type": "stream",
          "name": "stderr",
          "text": [
            "1061it [00:00, 9969.66it/s] \n"
          ]
        },
        {
          "output_type": "stream",
          "name": "stdout",
          "text": [
            "############ EC calling results using maximum separation ############\n",
            "---------------------------------------------------------------------------\n",
            ">>> total samples: 1061 | total ec: 9 \n",
            ">>> precision: 0.818 | recall: 0.863| F1: 0.834 | AUC: 0.917 \n",
            ">>> label: {'chloroplast', 'ER', 'Mitochondrion', 'Nucleus_export', 'dual', 'Nucleus', 'SIGNAL', 'Thylakoid', 'Peroxisome'} \n",
            ">>> precision: [0.14285714 0.58181818 0.83064516 0.30612245 0.33333333 0.9872814\n",
            " 0.33333333 0.43859649 0.        ]\n",
            ">>> recall: [0.06896552 0.80503145 0.85123967 0.6        0.23076923 0.96728972\n",
            " 0.33333333 0.71428571 0.        ]\n",
            ">>> F1: [0.09302326 0.67546174 0.84081633 0.40540541 0.27272727 0.97718332\n",
            " 0.33333333 0.54347826 0.        ]\n",
            ">>> AUC: [0.52893611 0.86123778 0.91889397 0.7896139  0.61274222 0.97503699\n",
            " 0.66370934 0.83038057 0.4962157 ]\n",
            "---------------------------------------------------------------------------\n",
            "The embedding sizes for train and test: torch.Size([3245, 256]) torch.Size([1058, 256])\n"
          ]
        },
        {
          "output_type": "stream",
          "name": "stderr",
          "text": [
            "100%|██████████| 9/9 [00:00<00:00, 7463.17it/s]\n"
          ]
        },
        {
          "output_type": "stream",
          "name": "stdout",
          "text": [
            "Calculating eval distance map, between 1058 test ids and 9 train EC cluster centers\n"
          ]
        },
        {
          "output_type": "stream",
          "name": "stderr",
          "text": [
            "1058it [00:00, 9805.08it/s] \n"
          ]
        },
        {
          "output_type": "stream",
          "name": "stdout",
          "text": [
            "############ EC calling results using maximum separation ############\n",
            "---------------------------------------------------------------------------\n",
            ">>> total samples: 1058 | total ec: 9 \n",
            ">>> precision: 0.801 | recall: 0.82| F1: 0.804 | AUC: 0.88 \n",
            ">>> label: {'ER', 'chloroplast', 'Mitochondrion', 'Nucleus_export', 'dual', 'Nucleus', 'SIGNAL', 'Thylakoid', 'Peroxisome'} \n",
            ">>> precision: [0.15217391 0.55144033 0.79527559 0.17647059 0.125      0.95595432\n",
            " 0.625      0.61428571 0.        ]\n",
            ">>> recall: [0.24137931 0.84810127 0.77099237 0.36       0.08333333 0.90852713\n",
            " 0.55555556 0.62318841 0.        ]\n",
            ">>> F1: [0.18666667 0.66832918 0.78294574 0.23684211 0.1        0.93163752\n",
            " 0.58823529 0.61870504 0.        ]\n",
            ">>> AUC: [0.60349854 0.87505274 0.8753016  0.66032914 0.53832059 0.92153087\n",
            " 0.77661265 0.79887458 0.49668246]\n",
            "---------------------------------------------------------------------------\n",
            "\n",
            "validation_2 test_3\n",
            "\n",
            "The embedding sizes for train and test: torch.Size([3239, 256]) torch.Size([1058, 256])\n"
          ]
        },
        {
          "output_type": "stream",
          "name": "stderr",
          "text": [
            "100%|██████████| 9/9 [00:00<00:00, 6379.71it/s]\n"
          ]
        },
        {
          "output_type": "stream",
          "name": "stdout",
          "text": [
            "Calculating eval distance map, between 1058 test ids and 9 train EC cluster centers\n"
          ]
        },
        {
          "output_type": "stream",
          "name": "stderr",
          "text": [
            "1058it [00:00, 8687.87it/s]\n"
          ]
        },
        {
          "output_type": "stream",
          "name": "stdout",
          "text": [
            "############ EC calling results using maximum separation ############\n",
            "---------------------------------------------------------------------------\n",
            ">>> total samples: 1058 | total ec: 9 \n",
            ">>> precision: 0.809 | recall: 0.821| F1: 0.801 | AUC: 0.892 \n",
            ">>> label: {'ER', 'chloroplast', 'Mitochondrion', 'Nucleus_export', 'dual', 'Nucleus', 'SIGNAL', 'Thylakoid', 'Peroxisome'} \n",
            ">>> precision: [0.24390244 0.52075472 0.81196581 0.25806452 0.18181818 0.9742268\n",
            " 0.85714286 0.48888889 0.        ]\n",
            ">>> recall: [0.68965517 0.87341772 0.72519084 0.64       0.16666667 0.87906977\n",
            " 0.66666667 0.63768116 0.        ]\n",
            ">>> F1: [0.36036036 0.65248227 0.76612903 0.36781609 0.17391304 0.92420538\n",
            " 0.75       0.55345912 0.        ]\n",
            ">>> AUC: [0.81813612 0.88460267 0.85543945 0.79752178 0.5793499  0.92602436\n",
            " 0.83275077 0.80068434 0.4971564 ]\n",
            "---------------------------------------------------------------------------\n",
            "The embedding sizes for train and test: torch.Size([3239, 256]) torch.Size([1058, 256])\n"
          ]
        },
        {
          "output_type": "stream",
          "name": "stderr",
          "text": [
            "100%|██████████| 9/9 [00:00<00:00, 5260.41it/s]\n"
          ]
        },
        {
          "output_type": "stream",
          "name": "stdout",
          "text": [
            "Calculating eval distance map, between 1058 test ids and 9 train EC cluster centers\n"
          ]
        },
        {
          "output_type": "stream",
          "name": "stderr",
          "text": [
            "1058it [00:00, 10143.56it/s]\n"
          ]
        },
        {
          "output_type": "stream",
          "name": "stdout",
          "text": [
            "############ EC calling results using maximum separation ############\n",
            "---------------------------------------------------------------------------\n",
            ">>> total samples: 1058 | total ec: 9 \n",
            ">>> precision: 0.846 | recall: 0.856| F1: 0.84 | AUC: 0.919 \n",
            ">>> label: {'chloroplast', 'ER', 'Mitochondrion', 'Nucleus_export', 'dual', 'Nucleus', 'SIGNAL', 'Thylakoid', 'Peroxisome'} \n",
            ">>> precision: [0.2755102  0.62557078 0.8976378  0.13636364 0.         0.98803419\n",
            " 1.         0.60416667 0.        ]\n",
            ">>> recall: [0.93103448 0.86708861 0.86363636 0.24       0.         0.903125\n",
            " 0.33333333 0.82857143 0.        ]\n",
            ">>> F1: [0.42519685 0.72679045 0.88030888 0.17391304 0.         0.94367347\n",
            " 0.5        0.69879518 0.        ]\n",
            ">>> AUC: [0.93895982 0.90530942 0.92569458 0.60377541 0.49808795 0.94822069\n",
            " 0.66666667 0.89924812 0.49620853]\n",
            "---------------------------------------------------------------------------\n",
            "\n",
            "validation_3 test_4\n",
            "\n",
            "The embedding sizes for train and test: torch.Size([3244, 256]) torch.Size([1058, 256])\n"
          ]
        },
        {
          "output_type": "stream",
          "name": "stderr",
          "text": [
            "100%|██████████| 9/9 [00:00<00:00, 2007.59it/s]\n"
          ]
        },
        {
          "output_type": "stream",
          "name": "stdout",
          "text": [
            "Calculating eval distance map, between 1058 test ids and 9 train EC cluster centers\n"
          ]
        },
        {
          "output_type": "stream",
          "name": "stderr",
          "text": [
            "1058it [00:00, 10756.53it/s]\n"
          ]
        },
        {
          "output_type": "stream",
          "name": "stdout",
          "text": [
            "############ EC calling results using maximum separation ############\n",
            "---------------------------------------------------------------------------\n",
            ">>> total samples: 1058 | total ec: 9 \n",
            ">>> precision: 0.836 | recall: 0.845| F1: 0.827 | AUC: 0.912 \n",
            ">>> label: {'chloroplast', 'ER', 'Mitochondrion', 'Nucleus_export', 'dual', 'Nucleus', 'SIGNAL', 'Thylakoid', 'Peroxisome'} \n",
            ">>> precision: [0.25242718 0.6        0.84126984 0.11538462 0.33333333 0.99315068\n",
            " 1.         0.51923077 0.        ]\n",
            ">>> recall: [0.89655172 0.85443038 0.8030303  0.24       0.08333333 0.90625\n",
            " 0.33333333 0.77142857 0.        ]\n",
            ">>> F1: [0.39393939 0.70496084 0.82170543 0.15584416 0.13333333 0.94771242\n",
            " 0.5        0.62068966 0.        ]\n",
            ">>> AUC: [0.92250595 0.89291139 0.89348125 0.59998064 0.54079031 0.95020559\n",
            " 0.66666667 0.86494361 0.4985782 ]\n",
            "---------------------------------------------------------------------------\n",
            "The embedding sizes for train and test: torch.Size([3244, 256]) torch.Size([1058, 256])\n"
          ]
        },
        {
          "output_type": "stream",
          "name": "stderr",
          "text": [
            "100%|██████████| 9/9 [00:00<00:00, 2798.69it/s]\n"
          ]
        },
        {
          "output_type": "stream",
          "name": "stdout",
          "text": [
            "Calculating eval distance map, between 1058 test ids and 9 train EC cluster centers\n"
          ]
        },
        {
          "output_type": "stream",
          "name": "stderr",
          "text": [
            "1058it [00:00, 10801.83it/s]\n"
          ]
        },
        {
          "output_type": "stream",
          "name": "stdout",
          "text": [
            "############ EC calling results using maximum separation ############\n",
            "---------------------------------------------------------------------------\n",
            ">>> total samples: 1058 | total ec: 9 \n",
            ">>> precision: 0.789 | recall: 0.822| F1: 0.794 | AUC: 0.892 \n",
            ">>> label: {'chloroplast', 'ER', 'Mitochondrion', 'Nucleus', 'dual', 'Nucleus_export', 'SIGNAL', 'Thylakoid', 'Peroxisome'} \n",
            ">>> precision: [0.27272727 0.56701031 0.825      0.11764706 0.         0.96470588\n",
            " 1.         0.55128205 0.        ]\n",
            ">>> recall: [0.64285714 0.90163934 0.84615385 0.16       0.         0.90909091\n",
            " 0.22222222 0.62318841 0.        ]\n",
            ">>> F1: [0.38297872 0.69620253 0.83544304 0.13559322 0.         0.93607306\n",
            " 0.36363636 0.58503401 0.        ]\n",
            ">>> AUC: [0.79515209 0.90852695 0.91058608 0.56186869 0.49813896 0.9405662\n",
            " 0.61111111 0.79245137 0.4987715 ]\n",
            "---------------------------------------------------------------------------\n",
            "\n",
            "validation_4 test_0\n",
            "\n",
            "The embedding sizes for train and test: torch.Size([3231, 256]) torch.Size([1058, 256])\n"
          ]
        },
        {
          "output_type": "stream",
          "name": "stderr",
          "text": [
            "100%|██████████| 9/9 [00:00<00:00, 2631.86it/s]\n"
          ]
        },
        {
          "output_type": "stream",
          "name": "stdout",
          "text": [
            "Calculating eval distance map, between 1058 test ids and 9 train EC cluster centers\n"
          ]
        },
        {
          "output_type": "stream",
          "name": "stderr",
          "text": [
            "1058it [00:00, 10897.99it/s]\n"
          ]
        },
        {
          "output_type": "stream",
          "name": "stdout",
          "text": [
            "############ EC calling results using maximum separation ############\n",
            "---------------------------------------------------------------------------\n",
            ">>> total samples: 1058 | total ec: 9 \n",
            ">>> precision: 0.828 | recall: 0.862| F1: 0.835 | AUC: 0.916 \n",
            ">>> label: {'chloroplast', 'ER', 'Mitochondrion', 'Nucleus', 'dual', 'Nucleus_export', 'SIGNAL', 'Thylakoid', 'Peroxisome'} \n",
            ">>> precision: [0.33928571 0.70351759 0.69811321 0.078125   0.5        0.97893031\n",
            " 1.         0.4787234  0.        ]\n",
            ">>> recall: [0.65517241 0.88607595 0.90243902 0.2        0.08333333 0.93209877\n",
            " 0.22222222 0.65217391 0.        ]\n",
            ">>> F1: [0.44705882 0.78431373 0.78723404 0.11235955 0.14285714 0.95494071\n",
            " 0.36363636 0.55214724 0.        ]\n",
            ">>> AUC: [0.81294193 0.91836146 0.93635929 0.57246854 0.54118866 0.95436615\n",
            " 0.61111111 0.80771823 0.49952607]\n",
            "---------------------------------------------------------------------------\n",
            "The embedding sizes for train and test: torch.Size([3231, 256]) torch.Size([1065, 256])\n"
          ]
        },
        {
          "output_type": "stream",
          "name": "stderr",
          "text": [
            "100%|██████████| 9/9 [00:00<00:00, 5731.66it/s]\n"
          ]
        },
        {
          "output_type": "stream",
          "name": "stdout",
          "text": [
            "Calculating eval distance map, between 1065 test ids and 9 train EC cluster centers\n"
          ]
        },
        {
          "output_type": "stream",
          "name": "stderr",
          "text": [
            "1065it [00:00, 9662.31it/s] \n"
          ]
        },
        {
          "output_type": "stream",
          "name": "stdout",
          "text": [
            "############ EC calling results using maximum separation ############\n",
            "---------------------------------------------------------------------------\n",
            ">>> total samples: 1065 | total ec: 9 \n",
            ">>> precision: 0.828 | recall: 0.847| F1: 0.828 | AUC: 0.912 \n",
            ">>> label: {'ER', 'chloroplast', 'Mitochondrion', 'Nucleus', 'dual', 'Nucleus_export', 'SIGNAL', 'Thylakoid', 'Peroxisome'} \n",
            ">>> precision: [0.2987013  0.67326733 0.77631579 0.08695652 0.5        0.98993289\n",
            " 0.46666667 0.42857143 0.        ]\n",
            ">>> recall: [0.76666667 0.85       0.921875   0.16       0.07692308 0.906298\n",
            " 0.7        0.64285714 0.        ]\n",
            ">>> F1: [0.42990654 0.75138122 0.84285714 0.11267606 0.13333333 0.94627105\n",
            " 0.56       0.51428571 0.        ]\n",
            ">>> AUC: [0.86191626 0.89794199 0.95101137 0.56192308 0.53802281 0.94669108\n",
            " 0.84687204 0.79654702 0.5       ]\n",
            "---------------------------------------------------------------------------\n"
          ]
        }
      ]
    },
    {
      "cell_type": "code",
      "source": [
        "from src.CLEAN.infer import infer_pvalue_supcon\n",
        "for i in range(5):\n",
        "  vid = str(i)\n",
        "  if i!=4:\n",
        "    tid = str(i+1)\n",
        "  else:\n",
        "    tid = '0'\n",
        "  print()\n",
        "  print('validation_'+vid,\"test_\"+tid)\n",
        "  print()\n",
        "  train_data = 'train_' + vid + tid\n",
        "  test_data = \"validation_\" + vid\n",
        "  m_name = 'supcon'+vid+tid\n",
        "\n",
        "  infer_pvalue_supcon(train_data, test_data, p_value=1e-5, nk_random=20, report_metrics=True, pretrained=False, model_name=m_name)\n",
        "  test_data = \"test_\" + tid\n",
        "  infer_pvalue_supcon(train_data, test_data, p_value=1e-5, nk_random=20, report_metrics=True, pretrained=False, model_name=m_name)"
      ],
      "metadata": {
        "colab": {
          "base_uri": "https://localhost:8080/"
        },
        "id": "VPbuisxWHS2Y",
        "outputId": "349531f9-2ff6-4641-d9fc-7d36b1a35489"
      },
      "execution_count": 13,
      "outputs": [
        {
          "output_type": "stream",
          "name": "stdout",
          "text": [
            "\n",
            "validation_0 test_1\n",
            "\n",
            "The embedding sizes for train and test: torch.Size([3235, 256]) torch.Size([1065, 256])\n"
          ]
        },
        {
          "output_type": "stream",
          "name": "stderr",
          "text": [
            "100%|██████████| 9/9 [00:00<00:00, 3687.12it/s]\n"
          ]
        },
        {
          "output_type": "stream",
          "name": "stdout",
          "text": [
            "Calculating eval distance map, between 1065 test ids and 9 train EC cluster centers\n"
          ]
        },
        {
          "output_type": "stream",
          "name": "stderr",
          "text": [
            "1065it [00:00, 9386.44it/s]\n",
            "100%|██████████| 9/9 [00:00<00:00, 5198.83it/s]\n",
            "20000it [00:01, 10593.45it/s]\n",
            "100%|██████████| 1065/1065 [00:02<00:00, 521.91it/s]\n"
          ]
        },
        {
          "output_type": "stream",
          "name": "stdout",
          "text": [
            "############ EC calling results using random chosen 20k samples ############\n",
            "---------------------------------------------------------------------------\n",
            ">>> total samples: 1065 | total ec: 9 \n",
            ">>> precision: 0.843 | recall: 0.817| F1: 0.824 | AUC: 0.896 \n",
            ">>> label: {'ER', 'chloroplast', 'Mitochondrion', 'Nucleus', 'dual', 'Nucleus_export', 'SIGNAL', 'Thylakoid', 'Peroxisome'} \n",
            ">>> precision: [0.45283019 0.69230769 0.7810219  0.11764706 0.33333333 0.98988196\n",
            " 0.42857143 0.55769231 0.        ]\n",
            ">>> recall: [0.8        0.84375    0.8359375  0.08       0.07692308 0.90168971\n",
            " 0.6        0.41428571 0.        ]\n",
            ">>> F1: [0.57831325 0.76056338 0.80754717 0.0952381  0.125      0.9437299\n",
            " 0.5        0.47540984 0.        ]\n",
            ">>> AUC: [0.88599034 0.88872583 0.90196021 0.53278846 0.53751097 0.94359848\n",
            " 0.79620853 0.69558507 0.49952875]\n",
            "---------------------------------------------------------------------------\n",
            "The embedding sizes for train and test: torch.Size([3235, 256]) torch.Size([1061, 256])\n"
          ]
        },
        {
          "output_type": "stream",
          "name": "stderr",
          "text": [
            "100%|██████████| 9/9 [00:00<00:00, 5309.25it/s]\n"
          ]
        },
        {
          "output_type": "stream",
          "name": "stdout",
          "text": [
            "Calculating eval distance map, between 1061 test ids and 9 train EC cluster centers\n"
          ]
        },
        {
          "output_type": "stream",
          "name": "stderr",
          "text": [
            "1061it [00:00, 8721.83it/s]\n",
            "100%|██████████| 9/9 [00:00<00:00, 7772.03it/s]\n",
            "20000it [00:02, 8586.47it/s]\n",
            "100%|██████████| 1061/1061 [00:02<00:00, 480.26it/s]\n"
          ]
        },
        {
          "output_type": "stream",
          "name": "stdout",
          "text": [
            "############ EC calling results using random chosen 20k samples ############\n",
            "---------------------------------------------------------------------------\n",
            ">>> total samples: 1061 | total ec: 9 \n",
            ">>> precision: 0.835 | recall: 0.827| F1: 0.829 | AUC: 0.899 \n",
            ">>> label: {'chloroplast', 'ER', 'Mitochondrion', 'Nucleus_export', 'dual', 'Nucleus', 'SIGNAL', 'Thylakoid', 'Peroxisome'} \n",
            ">>> precision: [0.27777778 0.71052632 0.73529412 0.2962963  0.125      0.98522167\n",
            " 0.2        0.6        0.        ]\n",
            ">>> recall: [0.17241379 0.8490566  0.82644628 0.32       0.07692308 0.93457944\n",
            " 0.22222222 0.51428571 0.        ]\n",
            ">>> F1: [0.21276596 0.77363897 0.77821012 0.30769231 0.0952381  0.95923261\n",
            " 0.21052632 0.55384615 0.        ]\n",
            ">>> AUC: [0.57990845 0.8940405  0.8940742  0.65083012 0.53512184 0.95654986\n",
            " 0.60730883 0.74503388 0.49858089]\n",
            "---------------------------------------------------------------------------\n",
            "\n",
            "validation_1 test_2\n",
            "\n",
            "The embedding sizes for train and test: torch.Size([3245, 256]) torch.Size([1061, 256])\n"
          ]
        },
        {
          "output_type": "stream",
          "name": "stderr",
          "text": [
            "100%|██████████| 9/9 [00:00<00:00, 10630.45it/s]\n"
          ]
        },
        {
          "output_type": "stream",
          "name": "stdout",
          "text": [
            "Calculating eval distance map, between 1061 test ids and 9 train EC cluster centers\n"
          ]
        },
        {
          "output_type": "stream",
          "name": "stderr",
          "text": [
            "1061it [00:00, 10829.66it/s]\n",
            "100%|██████████| 9/9 [00:00<00:00, 7354.13it/s]\n",
            "20000it [00:01, 10505.67it/s]\n",
            "100%|██████████| 1061/1061 [00:01<00:00, 559.26it/s]\n"
          ]
        },
        {
          "output_type": "stream",
          "name": "stdout",
          "text": [
            "############ EC calling results using random chosen 20k samples ############\n",
            "---------------------------------------------------------------------------\n",
            ">>> total samples: 1061 | total ec: 9 \n",
            ">>> precision: 0.835 | recall: 0.824| F1: 0.827 | AUC: 0.897 \n",
            ">>> label: {'chloroplast', 'ER', 'Mitochondrion', 'Nucleus_export', 'dual', 'Nucleus', 'SIGNAL', 'Thylakoid', 'Peroxisome'} \n",
            ">>> precision: [0.18181818 0.61340206 0.87619048 0.43333333 0.42857143 0.98711755\n",
            " 0.28571429 0.4875     0.        ]\n",
            ">>> recall: [0.06896552 0.74842767 0.76033058 0.52       0.23076923 0.95482866\n",
            " 0.22222222 0.55714286 0.        ]\n",
            ">>> F1: [0.1        0.67422096 0.81415929 0.47272727 0.3        0.97070467\n",
            " 0.25       0.52       0.        ]\n",
            ">>> AUC: [0.53012229 0.83263956 0.8732504  0.75179537 0.61347622 0.96786779\n",
            " 0.60873469 0.75788525 0.49716178]\n",
            "---------------------------------------------------------------------------\n",
            "The embedding sizes for train and test: torch.Size([3245, 256]) torch.Size([1058, 256])\n"
          ]
        },
        {
          "output_type": "stream",
          "name": "stderr",
          "text": [
            "100%|██████████| 9/9 [00:00<00:00, 5430.69it/s]\n"
          ]
        },
        {
          "output_type": "stream",
          "name": "stdout",
          "text": [
            "Calculating eval distance map, between 1058 test ids and 9 train EC cluster centers\n"
          ]
        },
        {
          "output_type": "stream",
          "name": "stderr",
          "text": [
            "1058it [00:00, 10938.55it/s]\n",
            "100%|██████████| 9/9 [00:00<00:00, 8183.12it/s]\n",
            "20000it [00:02, 8347.69it/s]\n",
            "100%|██████████| 1058/1058 [00:02<00:00, 491.31it/s]\n"
          ]
        },
        {
          "output_type": "stream",
          "name": "stdout",
          "text": [
            "############ EC calling results using random chosen 20k samples ############\n",
            "---------------------------------------------------------------------------\n",
            ">>> total samples: 1058 | total ec: 9 \n",
            ">>> precision: 0.815 | recall: 0.775| F1: 0.79 | AUC: 0.858 \n",
            ">>> label: {'ER', 'chloroplast', 'Mitochondrion', 'Nucleus_export', 'dual', 'Nucleus', 'SIGNAL', 'Thylakoid', 'Peroxisome'} \n",
            ">>> precision: [0.175      0.58333333 0.85148515 0.13636364 0.125      0.95507488\n",
            " 0.71428571 0.64285714 0.        ]\n",
            ">>> recall: [0.24137931 0.79746835 0.65648855 0.12       0.08333333 0.88992248\n",
            " 0.55555556 0.52173913 0.        ]\n",
            ">>> F1: [0.20289855 0.67379679 0.74137931 0.12765957 0.1        0.92134831\n",
            " 0.625      0.576      0.        ]\n",
            ">>> AUC: [0.60465467 0.84873418 0.82015366 0.55080348 0.53832059 0.91227359\n",
            " 0.77682449 0.75075834 0.49668246]\n",
            "---------------------------------------------------------------------------\n",
            "\n",
            "validation_2 test_3\n",
            "\n",
            "The embedding sizes for train and test: torch.Size([3239, 256]) torch.Size([1058, 256])\n"
          ]
        },
        {
          "output_type": "stream",
          "name": "stderr",
          "text": [
            "100%|██████████| 9/9 [00:00<00:00, 4642.57it/s]\n"
          ]
        },
        {
          "output_type": "stream",
          "name": "stdout",
          "text": [
            "Calculating eval distance map, between 1058 test ids and 9 train EC cluster centers\n"
          ]
        },
        {
          "output_type": "stream",
          "name": "stderr",
          "text": [
            "1058it [00:00, 9251.50it/s] \n",
            "100%|██████████| 9/9 [00:00<00:00, 5477.98it/s]\n",
            "20000it [00:01, 10490.59it/s]\n",
            "100%|██████████| 1058/1058 [00:01<00:00, 554.09it/s]\n"
          ]
        },
        {
          "output_type": "stream",
          "name": "stdout",
          "text": [
            "############ EC calling results using random chosen 20k samples ############\n",
            "---------------------------------------------------------------------------\n",
            ">>> total samples: 1058 | total ec: 9 \n",
            ">>> precision: 0.833 | recall: 0.764| F1: 0.787 | AUC: 0.863 \n",
            ">>> label: {'ER', 'chloroplast', 'Mitochondrion', 'Nucleus_export', 'dual', 'Nucleus', 'SIGNAL', 'Thylakoid', 'Peroxisome'} \n",
            ">>> precision: [0.25757576 0.57990868 0.88372093 0.26190476 0.25       0.9770318\n",
            " 0.8        0.5625     0.        ]\n",
            ">>> recall: [0.5862069  0.80379747 0.58015267 0.44       0.16666667 0.85736434\n",
            " 0.44444444 0.52173913 0.        ]\n",
            ">>> F1: [0.35789474 0.67374005 0.70046083 0.32835821 0.2        0.9132948\n",
            " 0.57142857 0.54135338 0.        ]\n",
            ">>> AUC: [0.76929392 0.85078762 0.78468259 0.70499516 0.58046526 0.91294367\n",
            " 0.72174558 0.74671385 0.49905213]\n",
            "---------------------------------------------------------------------------\n",
            "The embedding sizes for train and test: torch.Size([3239, 256]) torch.Size([1058, 256])\n"
          ]
        },
        {
          "output_type": "stream",
          "name": "stderr",
          "text": [
            "100%|██████████| 9/9 [00:00<00:00, 4889.10it/s]\n"
          ]
        },
        {
          "output_type": "stream",
          "name": "stdout",
          "text": [
            "Calculating eval distance map, between 1058 test ids and 9 train EC cluster centers\n"
          ]
        },
        {
          "output_type": "stream",
          "name": "stderr",
          "text": [
            "1058it [00:00, 10826.15it/s]\n",
            "100%|██████████| 9/9 [00:00<00:00, 4818.58it/s]\n",
            "20000it [00:02, 8076.11it/s]\n",
            "100%|██████████| 1058/1058 [00:02<00:00, 473.65it/s]\n"
          ]
        },
        {
          "output_type": "stream",
          "name": "stdout",
          "text": [
            "############ EC calling results using random chosen 20k samples ############\n",
            "---------------------------------------------------------------------------\n",
            ">>> total samples: 1058 | total ec: 9 \n",
            ">>> precision: 0.869 | recall: 0.816| F1: 0.834 | AUC: 0.899 \n",
            ">>> label: {'chloroplast', 'ER', 'Mitochondrion', 'Nucleus_export', 'dual', 'Nucleus', 'SIGNAL', 'Thylakoid', 'Peroxisome'} \n",
            ">>> precision: [0.33333333 0.6984127  0.90740741 0.16666667 0.         0.99471831\n",
            " 1.         0.67532468 0.        ]\n",
            ">>> recall: [0.86206897 0.83544304 0.74242424 0.2        0.         0.8828125\n",
            " 0.33333333 0.74285714 0.        ]\n",
            ">>> F1: [0.48076923 0.76080692 0.81666667 0.18181818 0.         0.93543046\n",
            " 0.5        0.70748299 0.        ]\n",
            ">>> AUC: [0.90673905 0.88605485 0.86581255 0.58789932 0.49856597 0.93781773\n",
            " 0.66666667 0.85877675 0.49763033]\n",
            "---------------------------------------------------------------------------\n",
            "\n",
            "validation_3 test_4\n",
            "\n",
            "The embedding sizes for train and test: torch.Size([3244, 256]) torch.Size([1058, 256])\n"
          ]
        },
        {
          "output_type": "stream",
          "name": "stderr",
          "text": [
            "100%|██████████| 9/9 [00:00<00:00, 6894.75it/s]\n"
          ]
        },
        {
          "output_type": "stream",
          "name": "stdout",
          "text": [
            "Calculating eval distance map, between 1058 test ids and 9 train EC cluster centers\n"
          ]
        },
        {
          "output_type": "stream",
          "name": "stderr",
          "text": [
            "1058it [00:00, 10603.77it/s]\n",
            "100%|██████████| 9/9 [00:00<00:00, 8970.71it/s]\n",
            "20000it [00:01, 10496.43it/s]\n",
            "100%|██████████| 1058/1058 [00:01<00:00, 548.27it/s]\n"
          ]
        },
        {
          "output_type": "stream",
          "name": "stdout",
          "text": [
            "############ EC calling results using random chosen 20k samples ############\n",
            "---------------------------------------------------------------------------\n",
            ">>> total samples: 1058 | total ec: 9 \n",
            ">>> precision: 0.857 | recall: 0.801| F1: 0.82 | AUC: 0.89 \n",
            ">>> label: {'chloroplast', 'ER', 'Mitochondrion', 'Nucleus_export', 'dual', 'Nucleus', 'SIGNAL', 'Thylakoid', 'Peroxisome'} \n",
            ">>> precision: [0.32       0.65482234 0.88785047 0.22222222 0.33333333 0.99469965\n",
            " 1.         0.55844156 0.        ]\n",
            ">>> recall: [0.82758621 0.8164557  0.71969697 0.24       0.08333333 0.8796875\n",
            " 0.33333333 0.61428571 0.        ]\n",
            ">>> F1: [0.46153846 0.72676056 0.79497908 0.23076923 0.13333333 0.93366501\n",
            " 0.5        0.58503401 0.        ]\n",
            ">>> AUC: [0.88901176 0.87045007 0.853369   0.60983543 0.54071064 0.93625523\n",
            " 0.66666667 0.78993638 0.4985782 ]\n",
            "---------------------------------------------------------------------------\n",
            "The embedding sizes for train and test: torch.Size([3244, 256]) torch.Size([1058, 256])\n"
          ]
        },
        {
          "output_type": "stream",
          "name": "stderr",
          "text": [
            "100%|██████████| 9/9 [00:00<00:00, 5238.51it/s]\n"
          ]
        },
        {
          "output_type": "stream",
          "name": "stdout",
          "text": [
            "Calculating eval distance map, between 1058 test ids and 9 train EC cluster centers\n"
          ]
        },
        {
          "output_type": "stream",
          "name": "stderr",
          "text": [
            "1058it [00:00, 10359.33it/s]\n",
            "100%|██████████| 9/9 [00:00<00:00, 6031.11it/s]\n",
            "20000it [00:02, 8095.83it/s]\n",
            "100%|██████████| 1058/1058 [00:02<00:00, 515.56it/s]\n"
          ]
        },
        {
          "output_type": "stream",
          "name": "stdout",
          "text": [
            "############ EC calling results using random chosen 20k samples ############\n",
            "---------------------------------------------------------------------------\n",
            ">>> total samples: 1058 | total ec: 9 \n",
            ">>> precision: 0.848 | recall: 0.81| F1: 0.821 | AUC: 0.889 \n",
            ">>> label: {'chloroplast', 'ER', 'Mitochondrion', 'Nucleus', 'dual', 'Nucleus_export', 'SIGNAL', 'Thylakoid', 'Peroxisome'} \n",
            ">>> precision: [0.27419355 0.67307692 0.84545455 0.18181818 0.2        0.98135593\n",
            " 1.         0.61016949 0.        ]\n",
            ">>> recall: [0.5862069  0.88607595 0.75609756 0.16       0.08333333 0.89351852\n",
            " 0.22222222 0.52173913 0.        ]\n",
            ">>> F1: [0.37362637 0.76502732 0.79828326 0.17021277 0.11764706 0.93537964\n",
            " 0.36363636 0.5625     0.        ]\n",
            ">>> AUC: [0.77123756 0.9052602  0.86895787 0.57128751 0.53975462 0.93334463\n",
            " 0.61111111 0.74924166 0.5       ]\n",
            "---------------------------------------------------------------------------\n",
            "\n",
            "validation_4 test_0\n",
            "\n",
            "The embedding sizes for train and test: torch.Size([3231, 256]) torch.Size([1058, 256])\n"
          ]
        },
        {
          "output_type": "stream",
          "name": "stderr",
          "text": [
            "100%|██████████| 9/9 [00:00<00:00, 5028.47it/s]\n"
          ]
        },
        {
          "output_type": "stream",
          "name": "stdout",
          "text": [
            "Calculating eval distance map, between 1058 test ids and 9 train EC cluster centers\n"
          ]
        },
        {
          "output_type": "stream",
          "name": "stderr",
          "text": [
            "1058it [00:00, 9684.25it/s]\n",
            "100%|██████████| 9/9 [00:00<00:00, 5614.03it/s]\n",
            "20000it [00:01, 10613.58it/s]\n",
            "100%|██████████| 1058/1058 [00:01<00:00, 546.36it/s]\n"
          ]
        },
        {
          "output_type": "stream",
          "name": "stdout",
          "text": [
            "############ EC calling results using random chosen 20k samples ############\n",
            "---------------------------------------------------------------------------\n",
            ">>> total samples: 1058 | total ec: 9 \n",
            ">>> precision: 0.85 | recall: 0.829| F1: 0.834 | AUC: 0.9 \n",
            ">>> label: {'chloroplast', 'ER', 'Mitochondrion', 'Nucleus', 'dual', 'Nucleus_export', 'SIGNAL', 'Thylakoid', 'Peroxisome'} \n",
            ">>> precision: [0.38636364 0.73863636 0.78461538 0.05263158 0.5        0.98357964\n",
            " 1.         0.52631579 0.        ]\n",
            ">>> recall: [0.5862069  0.82278481 0.82926829 0.04       0.08333333 0.92438272\n",
            " 0.22222222 0.57971014 0.        ]\n",
            ">>> F1: [0.46575342 0.77844311 0.80632411 0.04545455 0.14285714 0.95306285\n",
            " 0.36363636 0.55172414 0.        ]\n",
            ">>> AUC: [0.77998391 0.88583685 0.89966088 0.51128751 0.54118866 0.94999624\n",
            " 0.61111111 0.77165487 0.5       ]\n",
            "---------------------------------------------------------------------------\n",
            "The embedding sizes for train and test: torch.Size([3231, 256]) torch.Size([1065, 256])\n"
          ]
        },
        {
          "output_type": "stream",
          "name": "stderr",
          "text": [
            "100%|██████████| 9/9 [00:00<00:00, 5568.48it/s]\n"
          ]
        },
        {
          "output_type": "stream",
          "name": "stdout",
          "text": [
            "Calculating eval distance map, between 1065 test ids and 9 train EC cluster centers\n"
          ]
        },
        {
          "output_type": "stream",
          "name": "stderr",
          "text": [
            "1065it [00:00, 10128.94it/s]\n",
            "100%|██████████| 9/9 [00:00<00:00, 5163.28it/s]\n",
            "20000it [00:02, 7567.24it/s]\n",
            "100%|██████████| 1065/1065 [00:01<00:00, 544.57it/s]\n"
          ]
        },
        {
          "output_type": "stream",
          "name": "stdout",
          "text": [
            "############ EC calling results using random chosen 20k samples ############\n",
            "---------------------------------------------------------------------------\n",
            ">>> total samples: 1065 | total ec: 9 \n",
            ">>> precision: 0.857 | recall: 0.817| F1: 0.829 | AUC: 0.897 \n",
            ">>> label: {'ER', 'chloroplast', 'Mitochondrion', 'Nucleus', 'dual', 'Nucleus_export', 'SIGNAL', 'Thylakoid', 'Peroxisome'} \n",
            ">>> precision: [0.32352941 0.72881356 0.84848485 0.375      0.5        0.98969072\n",
            " 0.53846154 0.4939759  0.        ]\n",
            ">>> recall: [0.73333333 0.80625    0.875      0.12       0.07692308 0.88479263\n",
            " 0.7        0.58571429 0.        ]\n",
            ">>> F1: [0.44897959 0.76557864 0.86153846 0.18181818 0.13333333 0.93430657\n",
            " 0.60869565 0.53594771 0.        ]\n",
            ">>> AUC: [0.84444444 0.87660566 0.92682764 0.55759615 0.53798625 0.93514994\n",
            " 0.8471564  0.77175162 0.5       ]\n",
            "---------------------------------------------------------------------------\n"
          ]
        }
      ]
    }
  ]
}