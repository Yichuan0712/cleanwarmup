{
  "nbformat": 4,
  "nbformat_minor": 0,
  "metadata": {
    "colab": {
      "provenance": []
    },
    "kernelspec": {
      "name": "python3",
      "display_name": "Python 3"
    },
    "language_info": {
      "name": "python"
    }
  },
  "cells": [
    {
      "cell_type": "code",
      "execution_count": 1,
      "metadata": {
        "colab": {
          "base_uri": "https://localhost:8080/"
        },
        "id": "Hjs2N5Glm7_Z",
        "outputId": "f31b3e09-dc90-4d72-c007-5745294721c3"
      },
      "outputs": [
        {
          "output_type": "stream",
          "name": "stdout",
          "text": [
            "Mounted at /content/drive\n"
          ]
        }
      ],
      "source": [
        "from google.colab import drive\n",
        "drive.mount('/content/drive')"
      ]
    },
    {
      "cell_type": "code",
      "source": [
        "!cp -r /content/drive/MyDrive/TargetP2_data /content/mywork"
      ],
      "metadata": {
        "id": "6_2yXR4Unals"
      },
      "execution_count": 2,
      "outputs": []
    },
    {
      "cell_type": "code",
      "source": [
        "import os\n",
        "os.chdir('/content/mywork')\n",
        "current_path = os.getcwd()\n",
        "os.listdir(current_path)"
      ],
      "metadata": {
        "colab": {
          "base_uri": "https://localhost:8080/"
        },
        "id": "z6TsmZtfoU_6",
        "outputId": "1f20b3ee-b254-4848-8503-5be182fa1ae1"
      },
      "execution_count": 3,
      "outputs": [
        {
          "output_type": "execute_result",
          "data": {
            "text/plain": [
              "['targetp.fasta', 'targetp_data.npz']"
            ]
          },
          "metadata": {},
          "execution_count": 3
        }
      ]
    },
    {
      "cell_type": "code",
      "source": [
        "import pandas as pd\n",
        "\n",
        "def fasta_to_dataframe(file_path):\n",
        "    \"\"\"将FASTA文件转换为pandas DataFrame\"\"\"\n",
        "    # 初始化序列数据列表\n",
        "    seq_data = []\n",
        "\n",
        "    with open(file_path, 'r') as file:\n",
        "        sequence_id = None\n",
        "        sequence = ''\n",
        "        for line in file:\n",
        "            line = line.strip()\n",
        "            if line.startswith(\">\"):\n",
        "                if sequence_id is not None:\n",
        "                    # 将当前序列添加到列表\n",
        "                    seq_data.append([sequence_id, sequence])\n",
        "                sequence_id = line[1:]  # 更新序列标识符\n",
        "                sequence = ''  # 重置序列\n",
        "            else:\n",
        "                sequence += line  # 追加序列\n",
        "        # 添加最后一个序列\n",
        "        if sequence_id is not None:\n",
        "            seq_data.append([sequence_id, sequence])\n",
        "\n",
        "    # 创建DataFrame\n",
        "    df = pd.DataFrame(seq_data, columns=['Entry', 'Sequence'])\n",
        "    return df\n",
        "\n",
        "file_path = 'targetp.fasta'\n",
        "df1 = fasta_to_dataframe(file_path)\n",
        "print(df1)\n",
        "\n"
      ],
      "metadata": {
        "colab": {
          "base_uri": "https://localhost:8080/"
        },
        "id": "Iit-Ut-Pom1F",
        "outputId": "400bc822-b86e-4ddf-9301-f75169788795"
      },
      "execution_count": 26,
      "outputs": [
        {
          "output_type": "stream",
          "name": "stdout",
          "text": [
            "        Entry                                           Sequence\n",
            "0      P92192  MKFLIVFVALFAMAVARPNLAEIVRQVSDVEPEKWSSDVETSDGTS...\n",
            "1      P30042  MAAVRALVASRLAAASAFTSLSPGGRTPSQRAALHLSVPRPAARVA...\n",
            "2      Q9D666  MDFSRLHTYTPPQCVPENTGYTYALSSSYSSDALDFETEHKLEPVF...\n",
            "3      Q9BUL9  MENFRKVRSEEAPAGCGAEGGGPGSGPFADLAPGAVHMRVKEGSKI...\n",
            "4      U6A629  MLAEYLLLPLLASYASAVTISVAKSGGNVTTGLQYGAMEEEINHCG...\n",
            "...       ...                                                ...\n",
            "13000  Q38799  MLGILRQRAIDGASTLRRTRFALVSARSYAAGAKEMTVRDALNSAI...\n",
            "13001  Q8BMA5  MLLPSDVARLVLGYLQQENLTSTCQTFILESSNLKEYAEHCTDEGF...\n",
            "13002  Q2YHJ8  MRTLWIMAVLLVGVEGSVIQLGKMILQETGKNPVKYYGAYGCNCGP...\n",
            "13003  Q9LVG4  MCFNNIETGDEVETERQVFGSSEEDEFRVEDTARNTNNVQISQQQQ...\n",
            "13004  P60266  MNSLLMITACLALVGTVWAKEGYLVNSYTGCKFECFKLGDNDYCLR...\n",
            "\n",
            "[13005 rows x 2 columns]\n"
          ]
        }
      ]
    },
    {
      "cell_type": "code",
      "source": [
        "import numpy as np\n",
        "\n",
        "def load_npz_file(file_path):\n",
        "    # 加载npz文件\n",
        "    data = np.load(file_path)\n",
        "\n",
        "    # 从npz文件中读取数组\n",
        "    fold = data['fold']\n",
        "    ids = data['ids']\n",
        "    y_type = data['y_type']\n",
        "\n",
        "    # 定义y_type数字到文本标签的映射\n",
        "    y_type_labels = {0: 'noTP', 1: 'SP', 2: 'mTP', 3: 'cTP', 4: 'luTP'}\n",
        "\n",
        "    # 将y_type数组中的数字替换为对应的文本标签\n",
        "    y_type_text = np.array([y_type_labels[y] for y in y_type])\n",
        "\n",
        "    # 打印数组信息\n",
        "    print(\"Fold:\", fold)\n",
        "    print(\"Entry:\", ids)\n",
        "    print(\"EC number:\", y_type_text)\n",
        "\n",
        "    # 关闭文件\n",
        "    data.close()\n",
        "\n",
        "    return fold, ids, y_type_text\n",
        "\n",
        "# 调用函数并传入npz文件路径\n",
        "file_path = 'targetp_data.npz'\n",
        "folds, ids, y_type_text = load_npz_file(file_path)\n"
      ],
      "metadata": {
        "colab": {
          "base_uri": "https://localhost:8080/"
        },
        "id": "VjrvvGagq4Kl",
        "outputId": "2c8ca1ae-75ea-4baa-cd4b-a298647c3137"
      },
      "execution_count": 27,
      "outputs": [
        {
          "output_type": "stream",
          "name": "stdout",
          "text": [
            "Fold: [0 0 0 ... 4 3 0]\n",
            "Entry: ['P10719' 'Q38786' 'P15289' ... 'Q07800' 'O14228' 'Q9VUL1']\n",
            "EC number: ['mTP' 'cTP' 'SP' ... 'noTP' 'noTP' 'noTP']\n"
          ]
        }
      ]
    },
    {
      "cell_type": "code",
      "source": [
        "# 将数组转换为Pandas DataFrame\n",
        "data = {\n",
        "    'Fold': folds,\n",
        "    'Entry': ids,\n",
        "    'EC Number': y_type_text\n",
        "}\n",
        "df2 = pd.DataFrame(data)\n",
        "print(df2)"
      ],
      "metadata": {
        "colab": {
          "base_uri": "https://localhost:8080/"
        },
        "id": "GeocmGgMsn1P",
        "outputId": "84fd9438-6037-477e-a193-07023f9f2e43"
      },
      "execution_count": 28,
      "outputs": [
        {
          "output_type": "stream",
          "name": "stdout",
          "text": [
            "       Fold   Entry EC Number\n",
            "0         0  P10719       mTP\n",
            "1         0  Q38786       cTP\n",
            "2         0  P15289        SP\n",
            "3         1  P20933        SP\n",
            "4         1  Q9UII2       mTP\n",
            "...     ...     ...       ...\n",
            "13000     4  P35998      noTP\n",
            "13001     1  Q9EST4      noTP\n",
            "13002     4  Q07800      noTP\n",
            "13003     3  O14228      noTP\n",
            "13004     0  Q9VUL1      noTP\n",
            "\n",
            "[13005 rows x 3 columns]\n"
          ]
        }
      ]
    },
    {
      "cell_type": "code",
      "source": [
        "# 根据'Entry'列合并两个DataFrame\n",
        "merged_df = pd.merge(df1, df2, on='Entry', how='inner')\n",
        "\n",
        "# 显示合并后的DataFrame\n",
        "print(merged_df)"
      ],
      "metadata": {
        "colab": {
          "base_uri": "https://localhost:8080/"
        },
        "id": "nAA-LvBls48M",
        "outputId": "a7bf1216-df23-428c-8ec4-97ce3f1e96cd"
      },
      "execution_count": 30,
      "outputs": [
        {
          "output_type": "stream",
          "name": "stdout",
          "text": [
            "        Entry                                           Sequence  Fold  \\\n",
            "0      P92192  MKFLIVFVALFAMAVARPNLAEIVRQVSDVEPEKWSSDVETSDGTS...     0   \n",
            "1      P30042  MAAVRALVASRLAAASAFTSLSPGGRTPSQRAALHLSVPRPAARVA...     2   \n",
            "2      Q9D666  MDFSRLHTYTPPQCVPENTGYTYALSSSYSSDALDFETEHKLEPVF...     3   \n",
            "3      Q9BUL9  MENFRKVRSEEAPAGCGAEGGGPGSGPFADLAPGAVHMRVKEGSKI...     4   \n",
            "4      U6A629  MLAEYLLLPLLASYASAVTISVAKSGGNVTTGLQYGAMEEEINHCG...     4   \n",
            "...       ...                                                ...   ...   \n",
            "13000  Q38799  MLGILRQRAIDGASTLRRTRFALVSARSYAAGAKEMTVRDALNSAI...     0   \n",
            "13001  Q8BMA5  MLLPSDVARLVLGYLQQENLTSTCQTFILESSNLKEYAEHCTDEGF...     4   \n",
            "13002  Q2YHJ8  MRTLWIMAVLLVGVEGSVIQLGKMILQETGKNPVKYYGAYGCNCGP...     1   \n",
            "13003  Q9LVG4  MCFNNIETGDEVETERQVFGSSEEDEFRVEDTARNTNNVQISQQQQ...     1   \n",
            "13004  P60266  MNSLLMITACLALVGTVWAKEGYLVNSYTGCKFECFKLGDNDYCLR...     1   \n",
            "\n",
            "      EC Number  \n",
            "0            SP  \n",
            "1           mTP  \n",
            "2          noTP  \n",
            "3          noTP  \n",
            "4            SP  \n",
            "...         ...  \n",
            "13000       mTP  \n",
            "13001      noTP  \n",
            "13002        SP  \n",
            "13003      noTP  \n",
            "13004        SP  \n",
            "\n",
            "[13005 rows x 4 columns]\n"
          ]
        }
      ]
    },
    {
      "cell_type": "code",
      "source": [
        "merged_df.to_csv('result.csv', index=False)"
      ],
      "metadata": {
        "id": "0UExOuoNtYTC"
      },
      "execution_count": 31,
      "outputs": []
    }
  ]
}