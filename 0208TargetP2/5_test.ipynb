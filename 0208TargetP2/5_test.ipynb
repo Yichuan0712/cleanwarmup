{
  "nbformat": 4,
  "nbformat_minor": 0,
  "metadata": {
    "colab": {
      "provenance": [],
      "machine_shape": "hm",
      "gpuType": "T4"
    },
    "kernelspec": {
      "name": "python3",
      "display_name": "Python 3"
    },
    "language_info": {
      "name": "python"
    },
    "accelerator": "GPU"
  },
  "cells": [
    {
      "cell_type": "code",
      "execution_count": 1,
      "metadata": {
        "colab": {
          "base_uri": "https://localhost:8080/"
        },
        "id": "ZFerA542sigL",
        "outputId": "069d7a85-beff-4d31-9c7b-dc0586036bbb"
      },
      "outputs": [
        {
          "output_type": "stream",
          "name": "stdout",
          "text": [
            "Mounted at /content/drive\n"
          ]
        }
      ],
      "source": [
        "from google.colab import drive\n",
        "drive.mount('/content/drive')"
      ]
    },
    {
      "cell_type": "code",
      "source": [
        "!git clone https://github.com/Yichuan0712/CLEAN.git"
      ],
      "metadata": {
        "colab": {
          "base_uri": "https://localhost:8080/"
        },
        "id": "XFZnYa4dsk8J",
        "outputId": "d42b3767-6685-4f0b-d6da-7fcee9f6970f"
      },
      "execution_count": 2,
      "outputs": [
        {
          "output_type": "stream",
          "name": "stdout",
          "text": [
            "Cloning into 'CLEAN'...\n",
            "remote: Enumerating objects: 15919, done.\u001b[K\n",
            "remote: Counting objects: 100% (229/229), done.\u001b[K\n",
            "remote: Compressing objects: 100% (59/59), done.\u001b[K\n",
            "remote: Total 15919 (delta 192), reused 172 (delta 170), pack-reused 15690\u001b[K\n",
            "Receiving objects: 100% (15919/15919), 125.47 MiB | 13.67 MiB/s, done.\n",
            "Resolving deltas: 100% (270/270), done.\n",
            "Updating files: 100% (18410/18410), done.\n"
          ]
        }
      ]
    },
    {
      "cell_type": "code",
      "source": [
        "import os\n",
        "os.chdir('/content/CLEAN/app')\n",
        "current_path = os.getcwd()\n",
        "os.listdir(current_path)"
      ],
      "metadata": {
        "colab": {
          "base_uri": "https://localhost:8080/"
        },
        "id": "KeZkA5jOsnj2",
        "outputId": "1c410de3-4d8f-488e-f990-5c092b90ba8e"
      },
      "execution_count": 3,
      "outputs": [
        {
          "output_type": "execute_result",
          "data": {
            "text/plain": [
              "['inference.py',\n",
              " 'CLEAN_infer_fasta.py',\n",
              " 'train-triplet.py',\n",
              " 'build.py',\n",
              " 'results',\n",
              " 'train-supconH.py',\n",
              " 'src',\n",
              " 'requirements.txt',\n",
              " 'data',\n",
              " 'gmm.py']"
            ]
          },
          "metadata": {},
          "execution_count": 3
        }
      ]
    },
    {
      "cell_type": "code",
      "source": [
        "!pip install fair-esm  # latest release"
      ],
      "metadata": {
        "colab": {
          "base_uri": "https://localhost:8080/"
        },
        "id": "l92r_N1WspDP",
        "outputId": "d1cb69e1-b1a9-4fa9-ce08-5b7f070c568e"
      },
      "execution_count": 4,
      "outputs": [
        {
          "output_type": "stream",
          "name": "stdout",
          "text": [
            "Collecting fair-esm\n",
            "  Downloading fair_esm-2.0.0-py3-none-any.whl (93 kB)\n",
            "\u001b[2K     \u001b[90m━━━━━━━━━━━━━━━━━━━━━━━━━━━━━━━━━━━━━━━━\u001b[0m \u001b[32m93.1/93.1 kB\u001b[0m \u001b[31m2.7 MB/s\u001b[0m eta \u001b[36m0:00:00\u001b[0m\n",
            "\u001b[?25hInstalling collected packages: fair-esm\n",
            "Successfully installed fair-esm-2.0.0\n"
          ]
        }
      ]
    },
    {
      "cell_type": "code",
      "source": [
        "from src.CLEAN.utils import csv_to_fasta\n",
        "\n",
        "# 创建一个列表，包含所有要转换的文件名前缀\n",
        "file_prefixes = [\"TargetP2_test_\", \"TargetP2_validation_\"]\n",
        "\n",
        "# 对每个前缀进行循环\n",
        "for prefix in file_prefixes:\n",
        "    # 对于每种类型（测试和验证），都有5个文件，编号从0到4\n",
        "    for i in range(5):\n",
        "        # 构建csv文件名和fasta文件名\n",
        "        csv_file = f\"data/{prefix}{i}.csv\"\n",
        "        fasta_file = f\"data/{prefix}{i}.fasta\"\n",
        "        # 转换文件\n",
        "        csv_to_fasta(csv_file, fasta_file)"
      ],
      "metadata": {
        "id": "8YkLc-qBspmo"
      },
      "execution_count": 5,
      "outputs": []
    },
    {
      "cell_type": "code",
      "source": [
        "dict_list = []\n",
        "from src.CLEAN.infer import infer_maxsep_triplet\n",
        "for i in range(5):\n",
        "  vid = str(i)\n",
        "  if i!=4:\n",
        "    tid = str(i+1)\n",
        "  else:\n",
        "    tid = '0'\n",
        "  print()\n",
        "  print('validation_'+vid,\"test_\"+tid)\n",
        "  print()\n",
        "  train_data = 'TargetP2_train_' + vid + tid\n",
        "  test_data = \"TargetP2_validation_\" + vid\n",
        "  m_name = 'TargetP2_triplet_'+vid+tid\n",
        "\n",
        "  dict1 = {'Loss': 'triplet', 'Selection': 'maxsep', 'Fold':'validation_'+vid}\n",
        "  dict11 = infer_maxsep_triplet(train_data, test_data, report_metrics=True, pretrained=False, model_name=m_name)\n",
        "  dict1.update(dict11)\n",
        "\n",
        "  test_data = \"TargetP2_test_\" + tid\n",
        "  dict2 = {'Loss': 'triplet', 'Selection': 'maxsep', 'Fold':\"test_\"+tid}\n",
        "  dict22 = infer_maxsep_triplet(train_data, test_data, report_metrics=True, pretrained=False, model_name=m_name)\n",
        "  dict2.update(dict22)\n",
        "\n",
        "  dict_list.append(dict1)\n",
        "  dict_list.append(dict2)\n",
        "dict_list"
      ],
      "metadata": {
        "colab": {
          "base_uri": "https://localhost:8080/"
        },
        "id": "qeVbbRcvsxMf",
        "outputId": "8b2f74bd-15c0-48a7-e955-5dc3479dd769"
      },
      "execution_count": 7,
      "outputs": [
        {
          "output_type": "stream",
          "name": "stdout",
          "text": [
            "\n",
            "validation_0 test_1\n",
            "\n",
            "The embedding sizes for train and test: torch.Size([7796, 128]) torch.Size([2605, 128])\n"
          ]
        },
        {
          "output_type": "stream",
          "name": "stderr",
          "text": [
            "100%|██████████| 5/5 [00:00<00:00, 2981.45it/s]\n"
          ]
        },
        {
          "output_type": "stream",
          "name": "stdout",
          "text": [
            "Calculating eval distance map, between 2605 test ids and 5 train EC cluster centers\n"
          ]
        },
        {
          "output_type": "stream",
          "name": "stderr",
          "text": [
            "2605it [00:00, 10493.15it/s]\n"
          ]
        },
        {
          "output_type": "stream",
          "name": "stdout",
          "text": [
            "############ EC calling results using maximum separation ############\n",
            "---------------------------------------------------------------------------\n",
            ">>> total samples: 2605 | total ec: 5 \n",
            ">>> precision: 0.904 | recall: 0.938| F1: 0.909 | AUC: 0.954 \n",
            ">>> label: {'SP', 'noTP', 'cTP', 'mTP', 'luTP'} \n",
            ">>> precision: [0.86644407 0.13114754 0.38461538 0.19904077 0.97244733]\n",
            ">>> recall: [0.96289425 0.69565217 1.         0.84693878 0.94142259]\n",
            ">>> F1: [0.91212654 0.22068966 0.55555556 0.3223301  0.9566835 ]\n",
            ">>> AUC: [0.97025972 0.82593404 0.99849711 0.8850484  0.95601978]\n",
            "---------------------------------------------------------------------------\n",
            "The embedding sizes for train and test: torch.Size([7796, 128]) torch.Size([2604, 128])\n"
          ]
        },
        {
          "output_type": "stream",
          "name": "stderr",
          "text": [
            "100%|██████████| 5/5 [00:00<00:00, 2139.30it/s]\n"
          ]
        },
        {
          "output_type": "stream",
          "name": "stdout",
          "text": [
            "Calculating eval distance map, between 2604 test ids and 5 train EC cluster centers\n"
          ]
        },
        {
          "output_type": "stream",
          "name": "stderr",
          "text": [
            "2604it [00:00, 10224.92it/s]\n"
          ]
        },
        {
          "output_type": "stream",
          "name": "stdout",
          "text": [
            "############ EC calling results using maximum separation ############\n",
            "---------------------------------------------------------------------------\n",
            ">>> total samples: 2604 | total ec: 5 \n",
            ">>> precision: 0.912 | recall: 0.944| F1: 0.915 | AUC: 0.964 \n",
            ">>> label: {'SP', 'noTP', 'cTP', 'mTP', 'luTP'} \n",
            ">>> precision: [0.8836425  0.17226891 0.42857143 0.22222222 0.97709924]\n",
            ">>> recall: [0.96857671 0.91111111 1.         0.90196078 0.93969586]\n",
            ">>> F1: [0.92416226 0.28975265 0.6        0.35658915 0.95803261]\n",
            ">>> AUC: [0.97665496 0.9396813  0.99755941 0.91735631 0.96276762]\n",
            "---------------------------------------------------------------------------\n",
            "\n",
            "validation_1 test_2\n",
            "\n",
            "The embedding sizes for train and test: torch.Size([7799, 128]) torch.Size([2604, 128])\n"
          ]
        },
        {
          "output_type": "stream",
          "name": "stderr",
          "text": [
            "100%|██████████| 5/5 [00:00<00:00, 2414.40it/s]\n"
          ]
        },
        {
          "output_type": "stream",
          "name": "stdout",
          "text": [
            "Calculating eval distance map, between 2604 test ids and 5 train EC cluster centers\n"
          ]
        },
        {
          "output_type": "stream",
          "name": "stderr",
          "text": [
            "2604it [00:00, 10359.62it/s]\n"
          ]
        },
        {
          "output_type": "stream",
          "name": "stdout",
          "text": [
            "############ EC calling results using maximum separation ############\n",
            "---------------------------------------------------------------------------\n",
            ">>> total samples: 2604 | total ec: 5 \n",
            ">>> precision: 0.902 | recall: 0.934| F1: 0.903 | AUC: 0.958 \n",
            ">>> label: {'SP', 'noTP', 'cTP', 'mTP', 'luTP'} \n",
            ">>> precision: [0.80484115 0.21276596 0.39130435 0.19868996 0.98598655]\n",
            ">>> recall: [0.98336414 0.88888889 1.         0.89215686 0.92239119]\n",
            ">>> F1: [0.88519135 0.34334764 0.5625     0.325      0.95312923]\n",
            ">>> AUC: [0.97777495 0.9289957  0.99946478 0.91334579 0.95568768]\n",
            "---------------------------------------------------------------------------\n",
            "The embedding sizes for train and test: torch.Size([7799, 128]) torch.Size([2602, 128])\n"
          ]
        },
        {
          "output_type": "stream",
          "name": "stderr",
          "text": [
            "100%|██████████| 5/5 [00:00<00:00, 2174.34it/s]\n"
          ]
        },
        {
          "output_type": "stream",
          "name": "stdout",
          "text": [
            "Calculating eval distance map, between 2602 test ids and 5 train EC cluster centers\n"
          ]
        },
        {
          "output_type": "stream",
          "name": "stderr",
          "text": [
            "2602it [00:00, 9926.80it/s] \n"
          ]
        },
        {
          "output_type": "stream",
          "name": "stdout",
          "text": [
            "############ EC calling results using maximum separation ############\n",
            "---------------------------------------------------------------------------\n",
            ">>> total samples: 2602 | total ec: 5 \n",
            ">>> precision: 0.895 | recall: 0.934| F1: 0.902 | AUC: 0.949 \n",
            ">>> label: {'SP', 'noTP', 'cTP', 'mTP', 'luTP'} \n",
            ">>> precision: [0.81219904 0.24096386 0.5        0.17842324 0.9749728 ]\n",
            ">>> recall: [0.94052045 0.86956522 0.77777778 0.84313725 0.93969586]\n",
            ">>> F1: [0.87166236 0.37735849 0.60869565 0.29452055 0.95700935]\n",
            ">>> AUC: [0.95736479 0.92313057 0.88831041 0.8839451  0.95079054]\n",
            "---------------------------------------------------------------------------\n",
            "\n",
            "validation_2 test_3\n",
            "\n",
            "The embedding sizes for train and test: torch.Size([7802, 128]) torch.Size([2602, 128])\n"
          ]
        },
        {
          "output_type": "stream",
          "name": "stderr",
          "text": [
            "100%|██████████| 5/5 [00:00<00:00, 2895.82it/s]\n"
          ]
        },
        {
          "output_type": "stream",
          "name": "stdout",
          "text": [
            "Calculating eval distance map, between 2602 test ids and 5 train EC cluster centers\n"
          ]
        },
        {
          "output_type": "stream",
          "name": "stderr",
          "text": [
            "2602it [00:00, 10484.31it/s]\n"
          ]
        },
        {
          "output_type": "stream",
          "name": "stdout",
          "text": [
            "############ EC calling results using maximum separation ############\n",
            "---------------------------------------------------------------------------\n",
            ">>> total samples: 2602 | total ec: 5 \n",
            ">>> precision: 0.902 | recall: 0.94| F1: 0.91 | AUC: 0.958 \n",
            ">>> label: {'SP', 'noTP', 'cTP', 'mTP', 'luTP'} \n",
            ">>> precision: [0.85761589 0.22857143 0.5        0.22554348 0.96927224]\n",
            ">>> recall: [0.96282528 0.86956522 0.77777778 0.81372549 0.94284216]\n",
            ">>> F1: [0.90718039 0.36199095 0.60869565 0.35319149 0.95587453]\n",
            ">>> AUC: [0.97066502 0.91961795 0.88858894 0.88001765 0.96050748]\n",
            "---------------------------------------------------------------------------\n",
            "The embedding sizes for train and test: torch.Size([7802, 128]) torch.Size([2601, 128])\n"
          ]
        },
        {
          "output_type": "stream",
          "name": "stderr",
          "text": [
            "100%|██████████| 5/5 [00:00<00:00, 2222.50it/s]\n"
          ]
        },
        {
          "output_type": "stream",
          "name": "stdout",
          "text": [
            "Calculating eval distance map, between 2601 test ids and 5 train EC cluster centers\n"
          ]
        },
        {
          "output_type": "stream",
          "name": "stderr",
          "text": [
            "2601it [00:00, 10352.15it/s]\n"
          ]
        },
        {
          "output_type": "stream",
          "name": "stdout",
          "text": [
            "############ EC calling results using maximum separation ############\n",
            "---------------------------------------------------------------------------\n",
            ">>> total samples: 2601 | total ec: 5 \n",
            ">>> precision: 0.905 | recall: 0.92| F1: 0.9 | AUC: 0.946 \n",
            ">>> label: {'SP', 'noTP', 'cTP', 'mTP', 'luTP'} \n",
            ">>> precision: [0.84789644 0.17757009 0.5        0.22454308 0.97585626]\n",
            ">>> recall: [0.97037037 0.84444444 0.88888889 0.86       0.91137913]\n",
            ">>> F1: [0.90500864 0.29343629 0.64       0.35610766 0.94251627]\n",
            ">>> AUC: [0.97240103 0.90681621 0.94337277 0.8940004  0.9424655 ]\n",
            "---------------------------------------------------------------------------\n",
            "\n",
            "validation_3 test_4\n",
            "\n",
            "The embedding sizes for train and test: torch.Size([7811, 128]) torch.Size([2601, 128])\n"
          ]
        },
        {
          "output_type": "stream",
          "name": "stderr",
          "text": [
            "100%|██████████| 5/5 [00:00<00:00, 2471.89it/s]\n"
          ]
        },
        {
          "output_type": "stream",
          "name": "stdout",
          "text": [
            "Calculating eval distance map, between 2601 test ids and 5 train EC cluster centers\n"
          ]
        },
        {
          "output_type": "stream",
          "name": "stderr",
          "text": [
            "2601it [00:00, 10176.61it/s]\n"
          ]
        },
        {
          "output_type": "stream",
          "name": "stdout",
          "text": [
            "############ EC calling results using maximum separation ############\n",
            "---------------------------------------------------------------------------\n",
            ">>> total samples: 2601 | total ec: 5 \n",
            ">>> precision: 0.881 | recall: 0.933| F1: 0.891 | AUC: 0.948 \n",
            ">>> label: {'SP', 'noTP', 'cTP', 'mTP', 'luTP'} \n",
            ">>> precision: [0.77678571 0.18779343 0.33333333 0.16171004 0.96721311]\n",
            ">>> recall: [0.96666667 0.88888889 0.88888889 0.87       0.92815941]\n",
            ">>> F1: [0.86138614 0.31007752 0.48484848 0.27272727 0.94728392]\n",
            ">>> AUC: [0.96984923 0.93129456 0.9430727  0.89598361 0.94535603]\n",
            "---------------------------------------------------------------------------\n",
            "The embedding sizes for train and test: torch.Size([7811, 128]) torch.Size([2593, 128])\n"
          ]
        },
        {
          "output_type": "stream",
          "name": "stderr",
          "text": [
            "100%|██████████| 5/5 [00:00<00:00, 2175.47it/s]\n"
          ]
        },
        {
          "output_type": "stream",
          "name": "stdout",
          "text": [
            "Calculating eval distance map, between 2593 test ids and 5 train EC cluster centers\n"
          ]
        },
        {
          "output_type": "stream",
          "name": "stderr",
          "text": [
            "2593it [00:00, 10458.97it/s]\n"
          ]
        },
        {
          "output_type": "stream",
          "name": "stdout",
          "text": [
            "############ EC calling results using maximum separation ############\n",
            "---------------------------------------------------------------------------\n",
            ">>> total samples: 2593 | total ec: 5 \n",
            ">>> precision: 0.874 | recall: 0.948| F1: 0.895 | AUC: 0.959 \n",
            ">>> label: {'SP', 'noTP', 'cTP', 'mTP', 'luTP'} \n",
            ">>> precision: [0.75907112 0.15837104 0.23529412 0.15427509 0.96323921]\n",
            ">>> recall: [0.9703154  0.77777778 1.         0.8556701  0.94957983]\n",
            ">>> F1: [0.85179153 0.26315789 0.38095238 0.26141732 0.95636075]\n",
            ">>> AUC: [0.97562564 0.87377464 0.99767892 0.88826659 0.96008137]\n",
            "---------------------------------------------------------------------------\n",
            "\n",
            "validation_4 test_0\n",
            "\n",
            "The embedding sizes for train and test: torch.Size([7807, 128]) torch.Size([2593, 128])\n"
          ]
        },
        {
          "output_type": "stream",
          "name": "stderr",
          "text": [
            "100%|██████████| 5/5 [00:00<00:00, 2310.40it/s]\n"
          ]
        },
        {
          "output_type": "stream",
          "name": "stdout",
          "text": [
            "Calculating eval distance map, between 2593 test ids and 5 train EC cluster centers\n"
          ]
        },
        {
          "output_type": "stream",
          "name": "stderr",
          "text": [
            "2593it [00:00, 10260.14it/s]\n"
          ]
        },
        {
          "output_type": "stream",
          "name": "stdout",
          "text": [
            "############ EC calling results using maximum separation ############\n",
            "---------------------------------------------------------------------------\n",
            ">>> total samples: 2593 | total ec: 5 \n",
            ">>> precision: 0.894 | recall: 0.955| F1: 0.916 | AUC: 0.962 \n",
            ">>> label: {'SP', 'noTP', 'cTP', 'mTP', 'luTP'} \n",
            ">>> precision: [0.79041916 0.38271605 0.53333333 0.26666667 0.96876654]\n",
            ">>> recall: [0.97959184 0.68888889 1.         0.82474227 0.96113445]\n",
            ">>> F1: [0.87489644 0.49206349 0.69565217 0.40302267 0.96493541]\n",
            ">>> AUC: [0.97868813 0.83751526 0.99903288 0.89219659 0.96406885]\n",
            "---------------------------------------------------------------------------\n",
            "The embedding sizes for train and test: torch.Size([7807, 128]) torch.Size([2605, 128])\n"
          ]
        },
        {
          "output_type": "stream",
          "name": "stderr",
          "text": [
            "100%|██████████| 5/5 [00:00<00:00, 2208.92it/s]\n"
          ]
        },
        {
          "output_type": "stream",
          "name": "stdout",
          "text": [
            "Calculating eval distance map, between 2605 test ids and 5 train EC cluster centers\n"
          ]
        },
        {
          "output_type": "stream",
          "name": "stderr",
          "text": [
            "2605it [00:00, 10073.47it/s]\n"
          ]
        },
        {
          "output_type": "stream",
          "name": "stdout",
          "text": [
            "############ EC calling results using maximum separation ############\n",
            "---------------------------------------------------------------------------\n",
            ">>> total samples: 2605 | total ec: 5 \n",
            ">>> precision: 0.886 | recall: 0.954| F1: 0.91 | AUC: 0.962 \n",
            ">>> label: {'SP', 'noTP', 'cTP', 'mTP', 'luTP'} \n",
            ">>> precision: [0.77662722 0.23275862 0.58823529 0.24770642 0.96691176]\n",
            ">>> recall: [0.97402597 0.58695652 1.         0.82653061 0.96286611]\n",
            ">>> F1: [0.86419753 0.33333333 0.74074074 0.38117647 0.9648847 ]\n",
            ">>> AUC: [0.97591359 0.78059109 0.99953757 0.88991843 0.96650493]\n",
            "---------------------------------------------------------------------------\n"
          ]
        },
        {
          "output_type": "execute_result",
          "data": {
            "text/plain": [
              "[{'Loss': 'triplet',\n",
              "  'Selection': 'maxsep',\n",
              "  'Fold': 'validation_0',\n",
              "  'SP F1': 0.9121265377855888,\n",
              "  'cTP F1': 0.2206896551724138,\n",
              "  'luTP F1': 0.5555555555555556,\n",
              "  'mTP F1': 0.32233009708737864,\n",
              "  'noTP F1': 0.956683497209673,\n",
              "  'Weighted Precision': 0.9043061721304615,\n",
              "  'Weighted Recall': 0.9381957773512476,\n",
              "  'Weighted F1': 0.909063600667707,\n",
              "  'Weighted AUC': 0.9541621814012528},\n",
              " {'Loss': 'triplet',\n",
              "  'Selection': 'maxsep',\n",
              "  'Fold': 'test_1',\n",
              "  'SP F1': 0.9241622574955909,\n",
              "  'cTP F1': 0.28975265017667845,\n",
              "  'luTP F1': 0.6,\n",
              "  'mTP F1': 0.35658914728682173,\n",
              "  'noTP F1': 0.958032611601176,\n",
              "  'Weighted Precision': 0.9123098098533714,\n",
              "  'Weighted Recall': 0.9439324116743472,\n",
              "  'Weighted F1': 0.9146508962787111,\n",
              "  'Weighted AUC': 0.9635953222931893},\n",
              " {'Loss': 'triplet',\n",
              "  'Selection': 'maxsep',\n",
              "  'Fold': 'validation_1',\n",
              "  'SP F1': 0.8851913477537439,\n",
              "  'cTP F1': 0.34334763948497854,\n",
              "  'luTP F1': 0.5625,\n",
              "  'mTP F1': 0.325,\n",
              "  'noTP F1': 0.9531292332701166,\n",
              "  'Weighted Precision': 0.9020960023349094,\n",
              "  'Weighted Recall': 0.9335637480798771,\n",
              "  'Weighted F1': 0.9025226999837602,\n",
              "  'Weighted AUC': 0.9583079577474188},\n",
              " {'Loss': 'triplet',\n",
              "  'Selection': 'maxsep',\n",
              "  'Fold': 'test_2',\n",
              "  'SP F1': 0.871662360034453,\n",
              "  'cTP F1': 0.3773584905660377,\n",
              "  'luTP F1': 0.6086956521739131,\n",
              "  'mTP F1': 0.2945205479452055,\n",
              "  'noTP F1': 0.9570093457943926,\n",
              "  'Weighted Precision': 0.89547260272697,\n",
              "  'Weighted Recall': 0.9342813220599538,\n",
              "  'Weighted F1': 0.9019404379148563,\n",
              "  'Weighted AUC': 0.9488243703473609},\n",
              " {'Loss': 'triplet',\n",
              "  'Selection': 'maxsep',\n",
              "  'Fold': 'validation_2',\n",
              "  'SP F1': 0.9071803852889666,\n",
              "  'cTP F1': 0.36199095022624433,\n",
              "  'luTP F1': 0.6086956521739131,\n",
              "  'mTP F1': 0.35319148936170214,\n",
              "  'noTP F1': 0.9558745348219032,\n",
              "  'Weighted Precision': 0.9023133081569961,\n",
              "  'Weighted Recall': 0.9400461183704842,\n",
              "  'Weighted F1': 0.9104808461513065,\n",
              "  'Weighted AUC': 0.9584808135592795},\n",
              " {'Loss': 'triplet',\n",
              "  'Selection': 'maxsep',\n",
              "  'Fold': 'test_3',\n",
              "  'SP F1': 0.9050086355785838,\n",
              "  'cTP F1': 0.2934362934362934,\n",
              "  'luTP F1': 0.64,\n",
              "  'mTP F1': 0.3561076604554866,\n",
              "  'noTP F1': 0.9425162689804771,\n",
              "  'Weighted Precision': 0.9049469161076537,\n",
              "  'Weighted Recall': 0.9204152249134948,\n",
              "  'Weighted F1': 0.8999071847014176,\n",
              "  'Weighted AUC': 0.9462035292369446},\n",
              " {'Loss': 'triplet',\n",
              "  'Selection': 'maxsep',\n",
              "  'Fold': 'validation_3',\n",
              "  'SP F1': 0.8613861386138614,\n",
              "  'cTP F1': 0.31007751937984496,\n",
              "  'luTP F1': 0.48484848484848486,\n",
              "  'mTP F1': 0.2727272727272727,\n",
              "  'noTP F1': 0.9472839175809473,\n",
              "  'Weighted Precision': 0.8810309125310171,\n",
              "  'Weighted Recall': 0.9331026528258363,\n",
              "  'Weighted F1': 0.8908915023786268,\n",
              "  'Weighted AUC': 0.9482917344873631},\n",
              " {'Loss': 'triplet',\n",
              "  'Selection': 'maxsep',\n",
              "  'Fold': 'test_4',\n",
              "  'SP F1': 0.8517915309446256,\n",
              "  'cTP F1': 0.2631578947368421,\n",
              "  'luTP F1': 0.38095238095238093,\n",
              "  'mTP F1': 0.2614173228346457,\n",
              "  'noTP F1': 0.9563607511240412,\n",
              "  'Weighted Precision': 0.8743233802024996,\n",
              "  'Weighted Recall': 0.9475510991129965,\n",
              "  'Weighted F1': 0.8948221017913864,\n",
              "  'Weighted AUC': 0.9592442303333149},\n",
              " {'Loss': 'triplet',\n",
              "  'Selection': 'maxsep',\n",
              "  'Fold': 'validation_4',\n",
              "  'SP F1': 0.8748964374482187,\n",
              "  'cTP F1': 0.49206349206349204,\n",
              "  'luTP F1': 0.6956521739130436,\n",
              "  'mTP F1': 0.40302267002518893,\n",
              "  'noTP F1': 0.9649354073292907,\n",
              "  'Weighted Precision': 0.8939155348424358,\n",
              "  'Weighted Recall': 0.95526417277285,\n",
              "  'Weighted F1': 0.916161769713137,\n",
              "  'Weighted AUC': 0.9623306992531565},\n",
              " {'Loss': 'triplet',\n",
              "  'Selection': 'maxsep',\n",
              "  'Fold': 'test_0',\n",
              "  'SP F1': 0.8641975308641976,\n",
              "  'cTP F1': 0.33333333333333337,\n",
              "  'luTP F1': 0.7407407407407407,\n",
              "  'mTP F1': 0.38117647058823534,\n",
              "  'noTP F1': 0.9648846960167715,\n",
              "  'Weighted Precision': 0.8860659669766846,\n",
              "  'Weighted Recall': 0.9535508637236084,\n",
              "  'Weighted F1': 0.9100798628707322,\n",
              "  'Weighted AUC': 0.9624143680793159}]"
            ]
          },
          "metadata": {},
          "execution_count": 7
        }
      ]
    },
    {
      "cell_type": "code",
      "source": [
        "from src.CLEAN.infer import infer_pvalue_triplet\n",
        "for i in range(5):\n",
        "  vid = str(i)\n",
        "  if i!=4:\n",
        "    tid = str(i+1)\n",
        "  else:\n",
        "    tid = '0'\n",
        "  print()\n",
        "  print('validation_'+vid,\"test_\"+tid)\n",
        "  print()\n",
        "  train_data = 'TargetP2_train_' + vid + tid\n",
        "  test_data = \"TargetP2_validation_\" + vid\n",
        "  m_name = 'TargetP2_triplet_'+vid+tid\n",
        "\n",
        "  dict1 = {'Loss': 'triplet', 'Selection': 'pvalue', 'Fold':'validation_'+vid}\n",
        "  dict11 = infer_pvalue_triplet(train_data, test_data, p_value=1e-5, nk_random=20, report_metrics=True, pretrained=False, model_name=m_name)\n",
        "  dict1.update(dict11)\n",
        "\n",
        "  test_data = \"TargetP2_test_\" + tid\n",
        "  dict2 = {'Loss': 'triplet', 'Selection': 'pvalue', 'Fold':\"test_\"+tid}\n",
        "  dict22 = infer_pvalue_triplet(train_data, test_data, p_value=1e-5, nk_random=20, report_metrics=True, pretrained=False, model_name=m_name)\n",
        "  dict2.update(dict22)\n",
        "\n",
        "  dict_list.append(dict1)\n",
        "  dict_list.append(dict2)\n",
        "dict_list"
      ],
      "metadata": {
        "colab": {
          "base_uri": "https://localhost:8080/"
        },
        "id": "DokWBoOrs0A9",
        "outputId": "5f4c2b91-4bd4-4ab6-ec07-e3f73f3d333f"
      },
      "execution_count": 8,
      "outputs": [
        {
          "output_type": "stream",
          "name": "stdout",
          "text": [
            "\n",
            "validation_0 test_1\n",
            "\n",
            "The embedding sizes for train and test: torch.Size([7796, 128]) torch.Size([2605, 128])\n"
          ]
        },
        {
          "output_type": "stream",
          "name": "stderr",
          "text": [
            "100%|██████████| 5/5 [00:00<00:00, 3911.87it/s]\n"
          ]
        },
        {
          "output_type": "stream",
          "name": "stdout",
          "text": [
            "Calculating eval distance map, between 2605 test ids and 5 train EC cluster centers\n"
          ]
        },
        {
          "output_type": "stream",
          "name": "stderr",
          "text": [
            "2605it [00:00, 10650.54it/s]\n",
            "100%|██████████| 5/5 [00:00<00:00, 2553.77it/s]\n",
            "20000it [00:01, 10258.93it/s]\n",
            "100%|██████████| 2605/2605 [00:07<00:00, 334.41it/s]\n"
          ]
        },
        {
          "output_type": "stream",
          "name": "stdout",
          "text": [
            "############ EC calling results using random chosen 20k samples ############\n",
            "---------------------------------------------------------------------------\n",
            ">>> total samples: 2605 | total ec: 5 \n",
            ">>> precision: 0.929 | recall: 0.882| F1: 0.899 | AUC: 0.925 \n",
            ">>> label: {'SP', 'noTP', 'cTP', 'mTP', 'luTP'} \n",
            ">>> precision: [0.89806678 0.35294118 0.55555556 0.2983871  0.98648649]\n",
            ">>> recall: [0.94805195 0.52173913 1.         0.75510204 0.87813808]\n",
            ">>> F1: [0.92238267 0.42105263 0.71428571 0.42774566 0.92916436]\n",
            ">>> AUC: [0.95998919 0.75227246 0.99845857 0.84284819 0.92247452]\n",
            "---------------------------------------------------------------------------\n",
            "The embedding sizes for train and test: torch.Size([7796, 128]) torch.Size([2604, 128])\n"
          ]
        },
        {
          "output_type": "stream",
          "name": "stderr",
          "text": [
            "100%|██████████| 5/5 [00:00<00:00, 2209.39it/s]\n"
          ]
        },
        {
          "output_type": "stream",
          "name": "stdout",
          "text": [
            "Calculating eval distance map, between 2604 test ids and 5 train EC cluster centers\n"
          ]
        },
        {
          "output_type": "stream",
          "name": "stderr",
          "text": [
            "2604it [00:00, 10181.69it/s]\n",
            "100%|██████████| 5/5 [00:00<00:00, 2654.29it/s]\n",
            "20000it [00:01, 10453.68it/s]\n",
            "100%|██████████| 2604/2604 [00:07<00:00, 328.64it/s]\n"
          ]
        },
        {
          "output_type": "stream",
          "name": "stdout",
          "text": [
            "############ EC calling results using random chosen 20k samples ############\n",
            "---------------------------------------------------------------------------\n",
            ">>> total samples: 2604 | total ec: 5 \n",
            ">>> precision: 0.94 | recall: 0.897| F1: 0.912 | AUC: 0.936 \n",
            ">>> label: {'SP', 'noTP', 'cTP', 'mTP', 'luTP'} \n",
            ">>> precision: [0.93297101 0.34567901 0.45       0.35064935 0.98953488]\n",
            ">>> recall: [0.95194085 0.62222222 1.         0.79411765 0.89250131]\n",
            ">>> F1: [0.94236048 0.44444444 0.62068966 0.48648649 0.93851668]\n",
            ">>> AUC: [0.9670029  0.8007555  0.99788054 0.8670828  0.93333817]\n",
            "---------------------------------------------------------------------------\n",
            "\n",
            "validation_1 test_2\n",
            "\n",
            "The embedding sizes for train and test: torch.Size([7799, 128]) torch.Size([2604, 128])\n"
          ]
        },
        {
          "output_type": "stream",
          "name": "stderr",
          "text": [
            "100%|██████████| 5/5 [00:00<00:00, 1675.71it/s]\n"
          ]
        },
        {
          "output_type": "stream",
          "name": "stdout",
          "text": [
            "Calculating eval distance map, between 2604 test ids and 5 train EC cluster centers\n"
          ]
        },
        {
          "output_type": "stream",
          "name": "stderr",
          "text": [
            "2604it [00:00, 10104.24it/s]\n",
            "100%|██████████| 5/5 [00:00<00:00, 2259.62it/s]\n",
            "20000it [00:01, 10216.31it/s]\n",
            "100%|██████████| 2604/2604 [00:07<00:00, 337.08it/s]\n"
          ]
        },
        {
          "output_type": "stream",
          "name": "stdout",
          "text": [
            "############ EC calling results using random chosen 20k samples ############\n",
            "---------------------------------------------------------------------------\n",
            ">>> total samples: 2604 | total ec: 5 \n",
            ">>> precision: 0.932 | recall: 0.879| F1: 0.897 | AUC: 0.931 \n",
            ">>> label: {'SP', 'noTP', 'cTP', 'mTP', 'luTP'} \n",
            ">>> precision: [0.87853577 0.35802469 0.61538462 0.30588235 0.99576784]\n",
            ">>> recall: [0.97597043 0.64444444 0.88888889 0.76470588 0.8636602 ]\n",
            ">>> F1: [0.92469352 0.46031746 0.72727273 0.43697479 0.92502106]\n",
            ">>> AUC: [0.97029253 0.812062   0.94348105 0.84698124 0.92680858]\n",
            "---------------------------------------------------------------------------\n",
            "The embedding sizes for train and test: torch.Size([7799, 128]) torch.Size([2602, 128])\n"
          ]
        },
        {
          "output_type": "stream",
          "name": "stderr",
          "text": [
            "100%|██████████| 5/5 [00:00<00:00, 1781.93it/s]\n"
          ]
        },
        {
          "output_type": "stream",
          "name": "stdout",
          "text": [
            "Calculating eval distance map, between 2602 test ids and 5 train EC cluster centers\n"
          ]
        },
        {
          "output_type": "stream",
          "name": "stderr",
          "text": [
            "2602it [00:00, 10199.38it/s]\n",
            "100%|██████████| 5/5 [00:00<00:00, 2667.45it/s]\n",
            "20000it [00:01, 10203.59it/s]\n",
            "100%|██████████| 2602/2602 [00:07<00:00, 335.38it/s]\n"
          ]
        },
        {
          "output_type": "stream",
          "name": "stdout",
          "text": [
            "############ EC calling results using random chosen 20k samples ############\n",
            "---------------------------------------------------------------------------\n",
            ">>> total samples: 2602 | total ec: 5 \n",
            ">>> precision: 0.919 | recall: 0.874| F1: 0.891 | AUC: 0.913 \n",
            ">>> label: {'SP', 'noTP', 'cTP', 'mTP', 'luTP'} \n",
            ">>> precision: [0.87566607 0.40540541 0.7        0.29387755 0.97836257]\n",
            ">>> recall: [0.91635688 0.65217391 0.77777778 0.70588235 0.87729418]\n",
            ">>> F1: [0.8955495  0.5        0.73684211 0.41498559 0.92507603]\n",
            ">>> AUC: [0.94122107 0.81747976 0.88831041 0.81834118 0.91202838]\n",
            "---------------------------------------------------------------------------\n",
            "\n",
            "validation_2 test_3\n",
            "\n",
            "The embedding sizes for train and test: torch.Size([7802, 128]) torch.Size([2602, 128])\n"
          ]
        },
        {
          "output_type": "stream",
          "name": "stderr",
          "text": [
            "100%|██████████| 5/5 [00:00<00:00, 2271.37it/s]\n"
          ]
        },
        {
          "output_type": "stream",
          "name": "stdout",
          "text": [
            "Calculating eval distance map, between 2602 test ids and 5 train EC cluster centers\n"
          ]
        },
        {
          "output_type": "stream",
          "name": "stderr",
          "text": [
            "2602it [00:00, 10004.73it/s]\n",
            "100%|██████████| 5/5 [00:00<00:00, 2605.16it/s]\n",
            "20000it [00:01, 10123.81it/s]\n",
            "100%|██████████| 2602/2602 [00:07<00:00, 334.04it/s]\n"
          ]
        },
        {
          "output_type": "stream",
          "name": "stdout",
          "text": [
            "############ EC calling results using random chosen 20k samples ############\n",
            "---------------------------------------------------------------------------\n",
            ">>> total samples: 2602 | total ec: 5 \n",
            ">>> precision: 0.93 | recall: 0.89| F1: 0.905 | AUC: 0.927 \n",
            ">>> label: {'SP', 'noTP', 'cTP', 'mTP', 'luTP'} \n",
            ">>> precision: [0.90363636 0.36363636 0.7        0.3245614  0.98445596]\n",
            ">>> recall: [0.92379182 0.60869565 0.77777778 0.7254902  0.89669638]\n",
            ">>> F1: [0.91360294 0.45528455 0.73684211 0.44848485 0.93852909]\n",
            ">>> AUC: [0.94905676 0.79476254 0.88831041 0.8319451  0.92892373]\n",
            "---------------------------------------------------------------------------\n",
            "The embedding sizes for train and test: torch.Size([7802, 128]) torch.Size([2601, 128])\n"
          ]
        },
        {
          "output_type": "stream",
          "name": "stderr",
          "text": [
            "100%|██████████| 5/5 [00:00<00:00, 2468.98it/s]\n"
          ]
        },
        {
          "output_type": "stream",
          "name": "stdout",
          "text": [
            "Calculating eval distance map, between 2601 test ids and 5 train EC cluster centers\n"
          ]
        },
        {
          "output_type": "stream",
          "name": "stderr",
          "text": [
            "2601it [00:00, 9817.61it/s]\n",
            "100%|██████████| 5/5 [00:00<00:00, 4497.43it/s]\n",
            "20000it [00:01, 10177.02it/s]\n",
            "100%|██████████| 2601/2601 [00:07<00:00, 328.38it/s]\n"
          ]
        },
        {
          "output_type": "stream",
          "name": "stdout",
          "text": [
            "############ EC calling results using random chosen 20k samples ############\n",
            "---------------------------------------------------------------------------\n",
            ">>> total samples: 2601 | total ec: 5 \n",
            ">>> precision: 0.925 | recall: 0.87| F1: 0.889 | AUC: 0.918 \n",
            ">>> label: {'SP', 'noTP', 'cTP', 'mTP', 'luTP'} \n",
            ">>> precision: [0.88376068 0.31730769 0.5        0.2892562  0.986731  ]\n",
            ">>> recall: [0.95740741 0.73333333 0.66666667 0.7        0.85789198]\n",
            ">>> F1: [0.91911111 0.44295302 0.57142857 0.40935673 0.91781206]\n",
            ">>> AUC: [0.96220686 0.85277778 0.83217593 0.81561375 0.91309584]\n",
            "---------------------------------------------------------------------------\n",
            "\n",
            "validation_3 test_4\n",
            "\n",
            "The embedding sizes for train and test: torch.Size([7811, 128]) torch.Size([2601, 128])\n"
          ]
        },
        {
          "output_type": "stream",
          "name": "stderr",
          "text": [
            "100%|██████████| 5/5 [00:00<00:00, 2783.95it/s]\n"
          ]
        },
        {
          "output_type": "stream",
          "name": "stdout",
          "text": [
            "Calculating eval distance map, between 2601 test ids and 5 train EC cluster centers\n"
          ]
        },
        {
          "output_type": "stream",
          "name": "stderr",
          "text": [
            "2601it [00:00, 10242.89it/s]\n",
            "100%|██████████| 5/5 [00:00<00:00, 3668.27it/s]\n",
            "20000it [00:01, 10278.03it/s]\n",
            "100%|██████████| 2601/2601 [00:07<00:00, 325.54it/s]\n"
          ]
        },
        {
          "output_type": "stream",
          "name": "stdout",
          "text": [
            "############ EC calling results using random chosen 20k samples ############\n",
            "---------------------------------------------------------------------------\n",
            ">>> total samples: 2601 | total ec: 5 \n",
            ">>> precision: 0.925 | recall: 0.874| F1: 0.891 | AUC: 0.917 \n",
            ">>> label: {'SP', 'noTP', 'cTP', 'mTP', 'luTP'} \n",
            ">>> precision: [0.88616462 0.40909091 0.46666667 0.30555556 0.98268657]\n",
            ">>> recall: [0.93703704 0.8        0.77777778 0.77       0.86313582]\n",
            ">>> F1: [0.91089109 0.54135338 0.58333333 0.4375     0.91903964]\n",
            ">>> AUC: [0.95274947 0.88982786 0.88734568 0.85001399 0.91067454]\n",
            "---------------------------------------------------------------------------\n",
            "The embedding sizes for train and test: torch.Size([7811, 128]) torch.Size([2593, 128])\n"
          ]
        },
        {
          "output_type": "stream",
          "name": "stderr",
          "text": [
            "100%|██████████| 5/5 [00:00<00:00, 2408.31it/s]\n"
          ]
        },
        {
          "output_type": "stream",
          "name": "stdout",
          "text": [
            "Calculating eval distance map, between 2593 test ids and 5 train EC cluster centers\n"
          ]
        },
        {
          "output_type": "stream",
          "name": "stderr",
          "text": [
            "2593it [00:00, 10215.88it/s]\n",
            "100%|██████████| 5/5 [00:00<00:00, 2776.21it/s]\n",
            "20000it [00:01, 10379.95it/s]\n",
            "100%|██████████| 2593/2593 [00:07<00:00, 340.39it/s]\n"
          ]
        },
        {
          "output_type": "stream",
          "name": "stdout",
          "text": [
            "############ EC calling results using random chosen 20k samples ############\n",
            "---------------------------------------------------------------------------\n",
            ">>> total samples: 2593 | total ec: 5 \n",
            ">>> precision: 0.933 | recall: 0.889| F1: 0.905 | AUC: 0.925 \n",
            ">>> label: {'SP', 'noTP', 'cTP', 'mTP', 'luTP'} \n",
            ">>> precision: [0.91866913 0.41666667 0.2962963  0.30803571 0.9832273 ]\n",
            ">>> recall: [0.92207792 0.66666667 1.         0.71134021 0.89285714]\n",
            ">>> F1: [0.92037037 0.51282051 0.45714286 0.42990654 0.93586568]\n",
            ">>> AUC: [0.95032815 0.82509158 0.99632495 0.82462042 0.92538358]\n",
            "---------------------------------------------------------------------------\n",
            "\n",
            "validation_4 test_0\n",
            "\n",
            "The embedding sizes for train and test: torch.Size([7807, 128]) torch.Size([2593, 128])\n"
          ]
        },
        {
          "output_type": "stream",
          "name": "stderr",
          "text": [
            "100%|██████████| 5/5 [00:00<00:00, 2563.76it/s]\n"
          ]
        },
        {
          "output_type": "stream",
          "name": "stdout",
          "text": [
            "Calculating eval distance map, between 2593 test ids and 5 train EC cluster centers\n"
          ]
        },
        {
          "output_type": "stream",
          "name": "stderr",
          "text": [
            "2593it [00:00, 9997.85it/s] \n",
            "100%|██████████| 5/5 [00:00<00:00, 3316.70it/s]\n",
            "20000it [00:01, 10032.90it/s]\n",
            "100%|██████████| 2593/2593 [00:07<00:00, 335.43it/s]\n"
          ]
        },
        {
          "output_type": "stream",
          "name": "stdout",
          "text": [
            "############ EC calling results using random chosen 20k samples ############\n",
            "---------------------------------------------------------------------------\n",
            ">>> total samples: 2593 | total ec: 5 \n",
            ">>> precision: 0.935 | recall: 0.918| F1: 0.924 | AUC: 0.938 \n",
            ">>> label: {'SP', 'noTP', 'cTP', 'mTP', 'luTP'} \n",
            ">>> precision: [0.89583333 0.5        0.63636364 0.44375    0.98214286]\n",
            ">>> recall: [0.95732839 0.6        0.875      0.73195876 0.92436975]\n",
            ">>> F1: [0.92556054 0.54545455 0.73684211 0.55252918 0.95238095]\n",
            ">>> AUC: [0.96405855 0.79470173 0.93672631 0.84815086 0.93896281]\n",
            "---------------------------------------------------------------------------\n",
            "The embedding sizes for train and test: torch.Size([7807, 128]) torch.Size([2605, 128])\n"
          ]
        },
        {
          "output_type": "stream",
          "name": "stderr",
          "text": [
            "100%|██████████| 5/5 [00:00<00:00, 2216.39it/s]\n"
          ]
        },
        {
          "output_type": "stream",
          "name": "stdout",
          "text": [
            "Calculating eval distance map, between 2605 test ids and 5 train EC cluster centers\n"
          ]
        },
        {
          "output_type": "stream",
          "name": "stderr",
          "text": [
            "2605it [00:00, 10123.48it/s]\n",
            "100%|██████████| 5/5 [00:00<00:00, 3087.68it/s]\n",
            "20000it [00:01, 10279.37it/s]\n",
            "100%|██████████| 2605/2605 [00:07<00:00, 334.28it/s]\n"
          ]
        },
        {
          "output_type": "stream",
          "name": "stdout",
          "text": [
            "############ EC calling results using random chosen 20k samples ############\n",
            "---------------------------------------------------------------------------\n",
            ">>> total samples: 2605 | total ec: 5 \n",
            ">>> precision: 0.925 | recall: 0.903| F1: 0.911 | AUC: 0.929 \n",
            ">>> label: {'SP', 'noTP', 'cTP', 'mTP', 'luTP'} \n",
            ">>> precision: [0.88205128 0.3015873  0.69230769 0.4        0.98083427]\n",
            ">>> recall: [0.95732839 0.41304348 0.9        0.69387755 0.91004184]\n",
            ">>> F1: [0.91814947 0.34862385 0.7826087  0.50746269 0.94411286]\n",
            ">>> AUC: [0.96196526 0.69792463 0.94922929 0.82659574 0.9304899 ]\n",
            "---------------------------------------------------------------------------\n"
          ]
        },
        {
          "output_type": "execute_result",
          "data": {
            "text/plain": [
              "[{'Loss': 'triplet',\n",
              "  'Selection': 'maxsep',\n",
              "  'Fold': 'validation_0',\n",
              "  'SP F1': 0.9121265377855888,\n",
              "  'cTP F1': 0.2206896551724138,\n",
              "  'luTP F1': 0.5555555555555556,\n",
              "  'mTP F1': 0.32233009708737864,\n",
              "  'noTP F1': 0.956683497209673,\n",
              "  'Weighted Precision': 0.9043061721304615,\n",
              "  'Weighted Recall': 0.9381957773512476,\n",
              "  'Weighted F1': 0.909063600667707,\n",
              "  'Weighted AUC': 0.9541621814012528},\n",
              " {'Loss': 'triplet',\n",
              "  'Selection': 'maxsep',\n",
              "  'Fold': 'test_1',\n",
              "  'SP F1': 0.9241622574955909,\n",
              "  'cTP F1': 0.28975265017667845,\n",
              "  'luTP F1': 0.6,\n",
              "  'mTP F1': 0.35658914728682173,\n",
              "  'noTP F1': 0.958032611601176,\n",
              "  'Weighted Precision': 0.9123098098533714,\n",
              "  'Weighted Recall': 0.9439324116743472,\n",
              "  'Weighted F1': 0.9146508962787111,\n",
              "  'Weighted AUC': 0.9635953222931893},\n",
              " {'Loss': 'triplet',\n",
              "  'Selection': 'maxsep',\n",
              "  'Fold': 'validation_1',\n",
              "  'SP F1': 0.8851913477537439,\n",
              "  'cTP F1': 0.34334763948497854,\n",
              "  'luTP F1': 0.5625,\n",
              "  'mTP F1': 0.325,\n",
              "  'noTP F1': 0.9531292332701166,\n",
              "  'Weighted Precision': 0.9020960023349094,\n",
              "  'Weighted Recall': 0.9335637480798771,\n",
              "  'Weighted F1': 0.9025226999837602,\n",
              "  'Weighted AUC': 0.9583079577474188},\n",
              " {'Loss': 'triplet',\n",
              "  'Selection': 'maxsep',\n",
              "  'Fold': 'test_2',\n",
              "  'SP F1': 0.871662360034453,\n",
              "  'cTP F1': 0.3773584905660377,\n",
              "  'luTP F1': 0.6086956521739131,\n",
              "  'mTP F1': 0.2945205479452055,\n",
              "  'noTP F1': 0.9570093457943926,\n",
              "  'Weighted Precision': 0.89547260272697,\n",
              "  'Weighted Recall': 0.9342813220599538,\n",
              "  'Weighted F1': 0.9019404379148563,\n",
              "  'Weighted AUC': 0.9488243703473609},\n",
              " {'Loss': 'triplet',\n",
              "  'Selection': 'maxsep',\n",
              "  'Fold': 'validation_2',\n",
              "  'SP F1': 0.9071803852889666,\n",
              "  'cTP F1': 0.36199095022624433,\n",
              "  'luTP F1': 0.6086956521739131,\n",
              "  'mTP F1': 0.35319148936170214,\n",
              "  'noTP F1': 0.9558745348219032,\n",
              "  'Weighted Precision': 0.9023133081569961,\n",
              "  'Weighted Recall': 0.9400461183704842,\n",
              "  'Weighted F1': 0.9104808461513065,\n",
              "  'Weighted AUC': 0.9584808135592795},\n",
              " {'Loss': 'triplet',\n",
              "  'Selection': 'maxsep',\n",
              "  'Fold': 'test_3',\n",
              "  'SP F1': 0.9050086355785838,\n",
              "  'cTP F1': 0.2934362934362934,\n",
              "  'luTP F1': 0.64,\n",
              "  'mTP F1': 0.3561076604554866,\n",
              "  'noTP F1': 0.9425162689804771,\n",
              "  'Weighted Precision': 0.9049469161076537,\n",
              "  'Weighted Recall': 0.9204152249134948,\n",
              "  'Weighted F1': 0.8999071847014176,\n",
              "  'Weighted AUC': 0.9462035292369446},\n",
              " {'Loss': 'triplet',\n",
              "  'Selection': 'maxsep',\n",
              "  'Fold': 'validation_3',\n",
              "  'SP F1': 0.8613861386138614,\n",
              "  'cTP F1': 0.31007751937984496,\n",
              "  'luTP F1': 0.48484848484848486,\n",
              "  'mTP F1': 0.2727272727272727,\n",
              "  'noTP F1': 0.9472839175809473,\n",
              "  'Weighted Precision': 0.8810309125310171,\n",
              "  'Weighted Recall': 0.9331026528258363,\n",
              "  'Weighted F1': 0.8908915023786268,\n",
              "  'Weighted AUC': 0.9482917344873631},\n",
              " {'Loss': 'triplet',\n",
              "  'Selection': 'maxsep',\n",
              "  'Fold': 'test_4',\n",
              "  'SP F1': 0.8517915309446256,\n",
              "  'cTP F1': 0.2631578947368421,\n",
              "  'luTP F1': 0.38095238095238093,\n",
              "  'mTP F1': 0.2614173228346457,\n",
              "  'noTP F1': 0.9563607511240412,\n",
              "  'Weighted Precision': 0.8743233802024996,\n",
              "  'Weighted Recall': 0.9475510991129965,\n",
              "  'Weighted F1': 0.8948221017913864,\n",
              "  'Weighted AUC': 0.9592442303333149},\n",
              " {'Loss': 'triplet',\n",
              "  'Selection': 'maxsep',\n",
              "  'Fold': 'validation_4',\n",
              "  'SP F1': 0.8748964374482187,\n",
              "  'cTP F1': 0.49206349206349204,\n",
              "  'luTP F1': 0.6956521739130436,\n",
              "  'mTP F1': 0.40302267002518893,\n",
              "  'noTP F1': 0.9649354073292907,\n",
              "  'Weighted Precision': 0.8939155348424358,\n",
              "  'Weighted Recall': 0.95526417277285,\n",
              "  'Weighted F1': 0.916161769713137,\n",
              "  'Weighted AUC': 0.9623306992531565},\n",
              " {'Loss': 'triplet',\n",
              "  'Selection': 'maxsep',\n",
              "  'Fold': 'test_0',\n",
              "  'SP F1': 0.8641975308641976,\n",
              "  'cTP F1': 0.33333333333333337,\n",
              "  'luTP F1': 0.7407407407407407,\n",
              "  'mTP F1': 0.38117647058823534,\n",
              "  'noTP F1': 0.9648846960167715,\n",
              "  'Weighted Precision': 0.8860659669766846,\n",
              "  'Weighted Recall': 0.9535508637236084,\n",
              "  'Weighted F1': 0.9100798628707322,\n",
              "  'Weighted AUC': 0.9624143680793159},\n",
              " {'Loss': 'triplet',\n",
              "  'Selection': 'pvalue',\n",
              "  'Fold': 'validation_0',\n",
              "  'SP F1': 0.9223826714801443,\n",
              "  'cTP F1': 0.4210526315789474,\n",
              "  'luTP F1': 0.7142857142857143,\n",
              "  'mTP F1': 0.4277456647398844,\n",
              "  'noTP F1': 0.9291643608190371,\n",
              "  'Weighted Precision': 0.9294637020361987,\n",
              "  'Weighted Recall': 0.8821497120921306,\n",
              "  'Weighted F1': 0.8991005263546233,\n",
              "  'Weighted AUC': 0.9245273312109697},\n",
              " {'Loss': 'triplet',\n",
              "  'Selection': 'pvalue',\n",
              "  'Fold': 'test_1',\n",
              "  'SP F1': 0.9423604757548033,\n",
              "  'cTP F1': 0.4444444444444444,\n",
              "  'luTP F1': 0.6206896551724138,\n",
              "  'mTP F1': 0.48648648648648657,\n",
              "  'noTP F1': 0.9385166804521643,\n",
              "  'Weighted Precision': 0.9397665635246477,\n",
              "  'Weighted Recall': 0.8966973886328725,\n",
              "  'Weighted F1': 0.9119724099553761,\n",
              "  'Weighted AUC': 0.935668907564424},\n",
              " {'Loss': 'triplet',\n",
              "  'Selection': 'pvalue',\n",
              "  'Fold': 'validation_1',\n",
              "  'SP F1': 0.9246935201401051,\n",
              "  'cTP F1': 0.46031746031746035,\n",
              "  'luTP F1': 0.7272727272727274,\n",
              "  'mTP F1': 0.4369747899159664,\n",
              "  'noTP F1': 0.9250210614995787,\n",
              "  'Weighted Precision': 0.9320532598391472,\n",
              "  'Weighted Recall': 0.879416282642089,\n",
              "  'Weighted F1': 0.8971219383666137,\n",
              "  'Weighted AUC': 0.930790486024095},\n",
              " {'Loss': 'triplet',\n",
              "  'Selection': 'pvalue',\n",
              "  'Fold': 'test_2',\n",
              "  'SP F1': 0.8955495004541326,\n",
              "  'cTP F1': 0.5,\n",
              "  'luTP F1': 0.7368421052631577,\n",
              "  'mTP F1': 0.414985590778098,\n",
              "  'noTP F1': 0.9250760298589992,\n",
              "  'Weighted Precision': 0.919204432701117,\n",
              "  'Weighted Recall': 0.8743274404304381,\n",
              "  'Weighted F1': 0.8908092734020635,\n",
              "  'Weighted AUC': 0.9126382513504108},\n",
              " {'Loss': 'triplet',\n",
              "  'Selection': 'pvalue',\n",
              "  'Fold': 'validation_2',\n",
              "  'SP F1': 0.9136029411764707,\n",
              "  'cTP F1': 0.4552845528455285,\n",
              "  'luTP F1': 0.7368421052631577,\n",
              "  'mTP F1': 0.4484848484848485,\n",
              "  'noTP F1': 0.9385290889132821,\n",
              "  'Weighted Precision': 0.9299179140948882,\n",
              "  'Weighted Recall': 0.8900845503458877,\n",
              "  'Weighted F1': 0.9049244726496108,\n",
              "  'Weighted AUC': 0.9267726222421675},\n",
              " {'Loss': 'triplet',\n",
              "  'Selection': 'pvalue',\n",
              "  'Fold': 'test_3',\n",
              "  'SP F1': 0.9191111111111111,\n",
              "  'cTP F1': 0.4429530201342282,\n",
              "  'luTP F1': 0.5714285714285715,\n",
              "  'mTP F1': 0.4093567251461988,\n",
              "  'noTP F1': 0.9178120617110799,\n",
              "  'Weighted Precision': 0.9252715319183729,\n",
              "  'Weighted Recall': 0.8696655132641292,\n",
              "  'Weighted F1': 0.8891191915596104,\n",
              "  'Weighted AUC': 0.9182204679185161},\n",
              " {'Loss': 'triplet',\n",
              "  'Selection': 'pvalue',\n",
              "  'Fold': 'validation_3',\n",
              "  'SP F1': 0.9108910891089109,\n",
              "  'cTP F1': 0.5413533834586467,\n",
              "  'luTP F1': 0.5833333333333334,\n",
              "  'mTP F1': 0.43750000000000006,\n",
              "  'noTP F1': 0.9190396426577331,\n",
              "  'Weighted Precision': 0.9249045854360787,\n",
              "  'Weighted Recall': 0.8735101883890811,\n",
              "  'Weighted F1': 0.8911382887054011,\n",
              "  'Weighted AUC': 0.9166362246394865},\n",
              " {'Loss': 'triplet',\n",
              "  'Selection': 'pvalue',\n",
              "  'Fold': 'test_4',\n",
              "  'SP F1': 0.9203703703703703,\n",
              "  'cTP F1': 0.5128205128205129,\n",
              "  'luTP F1': 0.45714285714285713,\n",
              "  'mTP F1': 0.4299065420560748,\n",
              "  'noTP F1': 0.9358656757500688,\n",
              "  'Weighted Precision': 0.9325982544240429,\n",
              "  'Weighted Recall': 0.8885460856151176,\n",
              "  'Weighted F1': 0.9048989112114408,\n",
              "  'Weighted AUC': 0.9252777129928943},\n",
              " {'Loss': 'triplet',\n",
              "  'Selection': 'pvalue',\n",
              "  'Fold': 'validation_4',\n",
              "  'SP F1': 0.925560538116592,\n",
              "  'cTP F1': 0.5454545454545454,\n",
              "  'luTP F1': 0.7368421052631579,\n",
              "  'mTP F1': 0.5525291828793774,\n",
              "  'noTP F1': 0.9523809523809523,\n",
              "  'Weighted Precision': 0.9346273913449965,\n",
              "  'Weighted Recall': 0.9182414192055535,\n",
              "  'Weighted F1': 0.9241210896664233,\n",
              "  'Weighted AUC': 0.9382717983378929},\n",
              " {'Loss': 'triplet',\n",
              "  'Selection': 'pvalue',\n",
              "  'Fold': 'test_0',\n",
              "  'SP F1': 0.9181494661921709,\n",
              "  'cTP F1': 0.3486238532110092,\n",
              "  'luTP F1': 0.7826086956521738,\n",
              "  'mTP F1': 0.5074626865671642,\n",
              "  'noTP F1': 0.9441128594682583,\n",
              "  'Weighted Precision': 0.9254421740776357,\n",
              "  'Weighted Recall': 0.9028790786948176,\n",
              "  'Weighted F1': 0.9111786860148561,\n",
              "  'Weighted AUC': 0.9290591796843285}]"
            ]
          },
          "metadata": {},
          "execution_count": 8
        }
      ]
    },
    {
      "cell_type": "code",
      "source": [
        "from src.CLEAN.infer import infer_maxsep_supcon\n",
        "for i in range(5):\n",
        "  vid = str(i)\n",
        "  if i!=4:\n",
        "    tid = str(i+1)\n",
        "  else:\n",
        "    tid = '0'\n",
        "  print()\n",
        "  print('validation_'+vid,\"test_\"+tid)\n",
        "  print()\n",
        "  train_data = 'TargetP2_train_' + vid + tid\n",
        "  test_data = \"TargetP2_validation_\" + vid\n",
        "  m_name = 'TargetP2_supcon_'+vid+tid\n",
        "\n",
        "  dict1 = {'Loss': 'supcon', 'Selection': 'maxsep', 'Fold':'validation_'+vid}\n",
        "  dict11 = infer_maxsep_supcon(train_data, test_data, report_metrics=True, pretrained=False, model_name=m_name)\n",
        "  dict1.update(dict11)\n",
        "\n",
        "  test_data = \"TargetP2_test_\" + tid\n",
        "  dict2 = {'Loss': 'supcon', 'Selection': 'maxsep', 'Fold':\"test_\" + tid}\n",
        "  dict22 = infer_maxsep_supcon(train_data, test_data, report_metrics=True, pretrained=False, model_name=m_name)\n",
        "  dict2.update(dict22)\n",
        "\n",
        "  dict_list.append(dict1)\n",
        "  dict_list.append(dict2)\n",
        "dict_list"
      ],
      "metadata": {
        "colab": {
          "base_uri": "https://localhost:8080/"
        },
        "id": "YkYADpjIs1k0",
        "outputId": "ec0c46bf-ae9d-4901-d430-5ed863481304"
      },
      "execution_count": 9,
      "outputs": [
        {
          "output_type": "stream",
          "name": "stdout",
          "text": [
            "\n",
            "validation_0 test_1\n",
            "\n",
            "The embedding sizes for train and test: torch.Size([7796, 256]) torch.Size([2605, 256])\n"
          ]
        },
        {
          "output_type": "stream",
          "name": "stderr",
          "text": [
            "100%|██████████| 5/5 [00:00<00:00, 2453.38it/s]\n"
          ]
        },
        {
          "output_type": "stream",
          "name": "stdout",
          "text": [
            "Calculating eval distance map, between 2605 test ids and 5 train EC cluster centers\n"
          ]
        },
        {
          "output_type": "stream",
          "name": "stderr",
          "text": [
            "2605it [00:00, 10169.87it/s]\n"
          ]
        },
        {
          "output_type": "stream",
          "name": "stdout",
          "text": [
            "############ EC calling results using maximum separation ############\n",
            "---------------------------------------------------------------------------\n",
            ">>> total samples: 2605 | total ec: 5 \n",
            ">>> precision: 0.93 | recall: 0.959| F1: 0.937 | AUC: 0.965 \n",
            ">>> label: {'SP', 'noTP', 'cTP', 'mTP', 'luTP'} \n",
            ">>> precision: [0.94678899 0.37142857 0.72727273 0.29251701 0.97264598]\n",
            ">>> recall: [0.95732839 0.84782609 0.8        0.87755102 0.96705021]\n",
            ">>> F1: [0.95202952 0.51655629 0.76190476 0.43877551 0.96984002]\n",
            ">>> AUC: [0.97338075 0.91612722 0.89934489 0.92043096 0.96692417]\n",
            "---------------------------------------------------------------------------\n",
            "The embedding sizes for train and test: torch.Size([7796, 256]) torch.Size([2604, 256])\n"
          ]
        },
        {
          "output_type": "stream",
          "name": "stderr",
          "text": [
            "100%|██████████| 5/5 [00:00<00:00, 2126.50it/s]\n"
          ]
        },
        {
          "output_type": "stream",
          "name": "stdout",
          "text": [
            "Calculating eval distance map, between 2604 test ids and 5 train EC cluster centers\n"
          ]
        },
        {
          "output_type": "stream",
          "name": "stderr",
          "text": [
            "2604it [00:00, 10428.11it/s]\n"
          ]
        },
        {
          "output_type": "stream",
          "name": "stdout",
          "text": [
            "############ EC calling results using maximum separation ############\n",
            "---------------------------------------------------------------------------\n",
            ">>> total samples: 2604 | total ec: 5 \n",
            ">>> precision: 0.937 | recall: 0.947| F1: 0.934 | AUC: 0.963 \n",
            ">>> label: {'SP', 'noTP', 'cTP', 'mTP', 'luTP'} \n",
            ">>> precision: [0.96247655 0.26363636 0.57142857 0.31493506 0.98010753]\n",
            ">>> recall: [0.94824399 0.64444444 0.44444444 0.95098039 0.95595176]\n",
            ">>> F1: [0.95530726 0.37419355 0.5        0.47317073 0.96787895]\n",
            ">>> AUC: [0.96966086 0.81318223 0.72177264 0.95443841 0.96692056]\n",
            "---------------------------------------------------------------------------\n",
            "\n",
            "validation_1 test_2\n",
            "\n",
            "The embedding sizes for train and test: torch.Size([7799, 256]) torch.Size([2604, 256])\n"
          ]
        },
        {
          "output_type": "stream",
          "name": "stderr",
          "text": [
            "100%|██████████| 5/5 [00:00<00:00, 2424.73it/s]\n"
          ]
        },
        {
          "output_type": "stream",
          "name": "stdout",
          "text": [
            "Calculating eval distance map, between 2604 test ids and 5 train EC cluster centers\n"
          ]
        },
        {
          "output_type": "stream",
          "name": "stderr",
          "text": [
            "2604it [00:00, 10311.26it/s]\n"
          ]
        },
        {
          "output_type": "stream",
          "name": "stdout",
          "text": [
            "############ EC calling results using maximum separation ############\n",
            "---------------------------------------------------------------------------\n",
            ">>> total samples: 2604 | total ec: 5 \n",
            ">>> precision: 0.949 | recall: 0.952| F1: 0.946 | AUC: 0.968 \n",
            ">>> label: {'SP', 'noTP', 'cTP', 'mTP', 'luTP'} \n",
            ">>> precision: [0.96981132 0.36486486 0.7        0.40833333 0.98708288]\n",
            ">>> recall: [0.95009242 0.6        0.77777778 0.96078431 0.96171998]\n",
            ">>> F1: [0.95985061 0.45378151 0.73684211 0.57309942 0.97423639]\n",
            ">>> AUC: [0.97198461 0.79428596 0.88833226 0.96105469 0.97154221]\n",
            "---------------------------------------------------------------------------\n",
            "The embedding sizes for train and test: torch.Size([7799, 256]) torch.Size([2602, 256])\n"
          ]
        },
        {
          "output_type": "stream",
          "name": "stderr",
          "text": [
            "100%|██████████| 5/5 [00:00<00:00, 2483.31it/s]\n"
          ]
        },
        {
          "output_type": "stream",
          "name": "stdout",
          "text": [
            "Calculating eval distance map, between 2602 test ids and 5 train EC cluster centers\n"
          ]
        },
        {
          "output_type": "stream",
          "name": "stderr",
          "text": [
            "2602it [00:00, 10350.62it/s]\n"
          ]
        },
        {
          "output_type": "stream",
          "name": "stdout",
          "text": [
            "############ EC calling results using maximum separation ############\n",
            "---------------------------------------------------------------------------\n",
            ">>> total samples: 2602 | total ec: 5 \n",
            ">>> precision: 0.936 | recall: 0.946| F1: 0.937 | AUC: 0.959 \n",
            ">>> label: {'SP', 'noTP', 'cTP', 'mTP', 'luTP'} \n",
            ">>> precision: [0.93148148 0.45205479 1.         0.4028436  0.97658329]\n",
            ">>> recall: [0.93494424 0.7173913  0.55555556 0.83333333 0.96224436]\n",
            ">>> F1: [0.93320965 0.55462185 0.71428571 0.54313099 0.9693608 ]\n",
            ">>> AUC: [0.96211069 0.85266551 0.77777778 0.89723333 0.96475273]\n",
            "---------------------------------------------------------------------------\n",
            "\n",
            "validation_2 test_3\n",
            "\n",
            "The embedding sizes for train and test: torch.Size([7802, 256]) torch.Size([2602, 256])\n"
          ]
        },
        {
          "output_type": "stream",
          "name": "stderr",
          "text": [
            "100%|██████████| 5/5 [00:00<00:00, 2172.31it/s]\n"
          ]
        },
        {
          "output_type": "stream",
          "name": "stdout",
          "text": [
            "Calculating eval distance map, between 2602 test ids and 5 train EC cluster centers\n"
          ]
        },
        {
          "output_type": "stream",
          "name": "stderr",
          "text": [
            "2602it [00:00, 8476.45it/s]\n"
          ]
        },
        {
          "output_type": "stream",
          "name": "stdout",
          "text": [
            "############ EC calling results using maximum separation ############\n",
            "---------------------------------------------------------------------------\n",
            ">>> total samples: 2602 | total ec: 5 \n",
            ">>> precision: 0.925 | recall: 0.961| F1: 0.938 | AUC: 0.968 \n",
            ">>> label: {'SP', 'noTP', 'cTP', 'mTP', 'luTP'} \n",
            ">>> precision: [0.92882562 0.38571429 1.         0.35983264 0.96673597]\n",
            ">>> recall: [0.97026022 0.58695652 0.55555556 0.84313725 0.97535396]\n",
            ">>> F1: [0.94909091 0.46551724 0.71428571 0.50439883 0.97102584]\n",
            ">>> AUC: [0.97893523 0.78741835 0.77777778 0.90608824 0.97312552]\n",
            "---------------------------------------------------------------------------\n",
            "The embedding sizes for train and test: torch.Size([7802, 256]) torch.Size([2601, 256])\n"
          ]
        },
        {
          "output_type": "stream",
          "name": "stderr",
          "text": [
            "100%|██████████| 5/5 [00:00<00:00, 2168.94it/s]\n"
          ]
        },
        {
          "output_type": "stream",
          "name": "stdout",
          "text": [
            "Calculating eval distance map, between 2601 test ids and 5 train EC cluster centers\n"
          ]
        },
        {
          "output_type": "stream",
          "name": "stderr",
          "text": [
            "2601it [00:00, 10121.84it/s]\n"
          ]
        },
        {
          "output_type": "stream",
          "name": "stdout",
          "text": [
            "############ EC calling results using maximum separation ############\n",
            "---------------------------------------------------------------------------\n",
            ">>> total samples: 2601 | total ec: 5 \n",
            ">>> precision: 0.93 | recall: 0.957| F1: 0.938 | AUC: 0.966 \n",
            ">>> label: {'SP', 'noTP', 'cTP', 'mTP', 'luTP'} \n",
            ">>> precision: [0.91319444 0.3625     0.8        0.35123967 0.97877984]\n",
            ">>> recall: [0.97407407 0.64444444 0.44444444 0.85       0.9674882 ]\n",
            ">>> F1: [0.94265233 0.464      0.57142857 0.49707602 0.97310127]\n",
            ">>> AUC: [0.97886948 0.81535385 0.72200789 0.91153739 0.97037685]\n",
            "---------------------------------------------------------------------------\n",
            "\n",
            "validation_3 test_4\n",
            "\n",
            "The embedding sizes for train and test: torch.Size([7811, 256]) torch.Size([2601, 256])\n"
          ]
        },
        {
          "output_type": "stream",
          "name": "stderr",
          "text": [
            "100%|██████████| 5/5 [00:00<00:00, 2218.97it/s]\n"
          ]
        },
        {
          "output_type": "stream",
          "name": "stdout",
          "text": [
            "Calculating eval distance map, between 2601 test ids and 5 train EC cluster centers\n"
          ]
        },
        {
          "output_type": "stream",
          "name": "stderr",
          "text": [
            "2601it [00:00, 10363.80it/s]\n"
          ]
        },
        {
          "output_type": "stream",
          "name": "stdout",
          "text": [
            "############ EC calling results using maximum separation ############\n",
            "---------------------------------------------------------------------------\n",
            ">>> total samples: 2601 | total ec: 5 \n",
            ">>> precision: 0.935 | recall: 0.953| F1: 0.941 | AUC: 0.963 \n",
            ">>> label: {'SP', 'noTP', 'cTP', 'mTP', 'luTP'} \n",
            ">>> precision: [0.92665474 0.49206349 0.83333333 0.42647059 0.97506631]\n",
            ">>> recall: [0.95925926 0.68888889 0.55555556 0.87       0.96381751]\n",
            ">>> F1: [0.94267516 0.57407407 0.66666667 0.57236842 0.96940928]\n",
            ">>> AUC: [0.97258073 0.83974526 0.77758488 0.92190324 0.96587689]\n",
            "---------------------------------------------------------------------------\n",
            "The embedding sizes for train and test: torch.Size([7811, 256]) torch.Size([2593, 256])\n"
          ]
        },
        {
          "output_type": "stream",
          "name": "stderr",
          "text": [
            "100%|██████████| 5/5 [00:00<00:00, 2034.88it/s]\n"
          ]
        },
        {
          "output_type": "stream",
          "name": "stdout",
          "text": [
            "Calculating eval distance map, between 2593 test ids and 5 train EC cluster centers\n"
          ]
        },
        {
          "output_type": "stream",
          "name": "stderr",
          "text": [
            "2593it [00:00, 10247.49it/s]\n"
          ]
        },
        {
          "output_type": "stream",
          "name": "stdout",
          "text": [
            "############ EC calling results using maximum separation ############\n",
            "---------------------------------------------------------------------------\n",
            ">>> total samples: 2593 | total ec: 5 \n",
            ">>> precision: 0.939 | recall: 0.962| F1: 0.947 | AUC: 0.971 \n",
            ">>> label: {'SP', 'noTP', 'cTP', 'mTP', 'luTP'} \n",
            ">>> precision: [0.94444444 0.57692308 0.63636364 0.4278607  0.97310127]\n",
            ">>> recall: [0.97773655 0.66666667 0.875      0.88659794 0.96901261]\n",
            ">>> F1: [0.96080219 0.6185567  0.73684211 0.57718121 0.97105263]\n",
            ">>> AUC: [0.98460942 0.83058172 0.93662959 0.92741582 0.97265935]\n",
            "---------------------------------------------------------------------------\n",
            "\n",
            "validation_4 test_0\n",
            "\n",
            "The embedding sizes for train and test: torch.Size([7807, 256]) torch.Size([2593, 256])\n"
          ]
        },
        {
          "output_type": "stream",
          "name": "stderr",
          "text": [
            "100%|██████████| 5/5 [00:00<00:00, 2194.36it/s]\n"
          ]
        },
        {
          "output_type": "stream",
          "name": "stdout",
          "text": [
            "Calculating eval distance map, between 2593 test ids and 5 train EC cluster centers\n"
          ]
        },
        {
          "output_type": "stream",
          "name": "stderr",
          "text": [
            "2593it [00:00, 10443.04it/s]\n"
          ]
        },
        {
          "output_type": "stream",
          "name": "stdout",
          "text": [
            "############ EC calling results using maximum separation ############\n",
            "---------------------------------------------------------------------------\n",
            ">>> total samples: 2593 | total ec: 5 \n",
            ">>> precision: 0.935 | recall: 0.956| F1: 0.94 | AUC: 0.966 \n",
            ">>> label: {'SP', 'noTP', 'cTP', 'mTP', 'luTP'} \n",
            ">>> precision: [0.95437956 0.33333333 0.58333333 0.33858268 0.97550586]\n",
            ">>> recall: [0.9703154  0.68888889 0.875      0.88659794 0.96218487]\n",
            ">>> F1: [0.96228151 0.44927536 0.7        0.49002849 0.96879958]\n",
            ">>> AUC: [0.98102169 0.83834816 0.93655706 0.92422722 0.96715646]\n",
            "---------------------------------------------------------------------------\n",
            "The embedding sizes for train and test: torch.Size([7807, 256]) torch.Size([2605, 256])\n"
          ]
        },
        {
          "output_type": "stream",
          "name": "stderr",
          "text": [
            "100%|██████████| 5/5 [00:00<00:00, 1423.34it/s]\n"
          ]
        },
        {
          "output_type": "stream",
          "name": "stdout",
          "text": [
            "Calculating eval distance map, between 2605 test ids and 5 train EC cluster centers\n"
          ]
        },
        {
          "output_type": "stream",
          "name": "stderr",
          "text": [
            "2605it [00:00, 10190.38it/s]\n"
          ]
        },
        {
          "output_type": "stream",
          "name": "stdout",
          "text": [
            "############ EC calling results using maximum separation ############\n",
            "---------------------------------------------------------------------------\n",
            ">>> total samples: 2605 | total ec: 5 \n",
            ">>> precision: 0.93 | recall: 0.959| F1: 0.94 | AUC: 0.965 \n",
            ">>> label: {'SP', 'noTP', 'cTP', 'mTP', 'luTP'} \n",
            ">>> precision: [0.93189964 0.34065934 0.75       0.33061224 0.97582764]\n",
            ">>> recall: [0.96474954 0.67391304 0.9        0.82653061 0.97123431]\n",
            ">>> F1: [0.94804011 0.45255474 0.81818182 0.47230321 0.97352556]\n",
            ">>> AUC: [0.97492578 0.83080177 0.94986513 0.89905001 0.96835699]\n",
            "---------------------------------------------------------------------------\n"
          ]
        },
        {
          "output_type": "execute_result",
          "data": {
            "text/plain": [
              "[{'Loss': 'triplet',\n",
              "  'Selection': 'maxsep',\n",
              "  'Fold': 'validation_0',\n",
              "  'SP F1': 0.9121265377855888,\n",
              "  'cTP F1': 0.2206896551724138,\n",
              "  'luTP F1': 0.5555555555555556,\n",
              "  'mTP F1': 0.32233009708737864,\n",
              "  'noTP F1': 0.956683497209673,\n",
              "  'Weighted Precision': 0.9043061721304615,\n",
              "  'Weighted Recall': 0.9381957773512476,\n",
              "  'Weighted F1': 0.909063600667707,\n",
              "  'Weighted AUC': 0.9541621814012528},\n",
              " {'Loss': 'triplet',\n",
              "  'Selection': 'maxsep',\n",
              "  'Fold': 'test_1',\n",
              "  'SP F1': 0.9241622574955909,\n",
              "  'cTP F1': 0.28975265017667845,\n",
              "  'luTP F1': 0.6,\n",
              "  'mTP F1': 0.35658914728682173,\n",
              "  'noTP F1': 0.958032611601176,\n",
              "  'Weighted Precision': 0.9123098098533714,\n",
              "  'Weighted Recall': 0.9439324116743472,\n",
              "  'Weighted F1': 0.9146508962787111,\n",
              "  'Weighted AUC': 0.9635953222931893},\n",
              " {'Loss': 'triplet',\n",
              "  'Selection': 'maxsep',\n",
              "  'Fold': 'validation_1',\n",
              "  'SP F1': 0.8851913477537439,\n",
              "  'cTP F1': 0.34334763948497854,\n",
              "  'luTP F1': 0.5625,\n",
              "  'mTP F1': 0.325,\n",
              "  'noTP F1': 0.9531292332701166,\n",
              "  'Weighted Precision': 0.9020960023349094,\n",
              "  'Weighted Recall': 0.9335637480798771,\n",
              "  'Weighted F1': 0.9025226999837602,\n",
              "  'Weighted AUC': 0.9583079577474188},\n",
              " {'Loss': 'triplet',\n",
              "  'Selection': 'maxsep',\n",
              "  'Fold': 'test_2',\n",
              "  'SP F1': 0.871662360034453,\n",
              "  'cTP F1': 0.3773584905660377,\n",
              "  'luTP F1': 0.6086956521739131,\n",
              "  'mTP F1': 0.2945205479452055,\n",
              "  'noTP F1': 0.9570093457943926,\n",
              "  'Weighted Precision': 0.89547260272697,\n",
              "  'Weighted Recall': 0.9342813220599538,\n",
              "  'Weighted F1': 0.9019404379148563,\n",
              "  'Weighted AUC': 0.9488243703473609},\n",
              " {'Loss': 'triplet',\n",
              "  'Selection': 'maxsep',\n",
              "  'Fold': 'validation_2',\n",
              "  'SP F1': 0.9071803852889666,\n",
              "  'cTP F1': 0.36199095022624433,\n",
              "  'luTP F1': 0.6086956521739131,\n",
              "  'mTP F1': 0.35319148936170214,\n",
              "  'noTP F1': 0.9558745348219032,\n",
              "  'Weighted Precision': 0.9023133081569961,\n",
              "  'Weighted Recall': 0.9400461183704842,\n",
              "  'Weighted F1': 0.9104808461513065,\n",
              "  'Weighted AUC': 0.9584808135592795},\n",
              " {'Loss': 'triplet',\n",
              "  'Selection': 'maxsep',\n",
              "  'Fold': 'test_3',\n",
              "  'SP F1': 0.9050086355785838,\n",
              "  'cTP F1': 0.2934362934362934,\n",
              "  'luTP F1': 0.64,\n",
              "  'mTP F1': 0.3561076604554866,\n",
              "  'noTP F1': 0.9425162689804771,\n",
              "  'Weighted Precision': 0.9049469161076537,\n",
              "  'Weighted Recall': 0.9204152249134948,\n",
              "  'Weighted F1': 0.8999071847014176,\n",
              "  'Weighted AUC': 0.9462035292369446},\n",
              " {'Loss': 'triplet',\n",
              "  'Selection': 'maxsep',\n",
              "  'Fold': 'validation_3',\n",
              "  'SP F1': 0.8613861386138614,\n",
              "  'cTP F1': 0.31007751937984496,\n",
              "  'luTP F1': 0.48484848484848486,\n",
              "  'mTP F1': 0.2727272727272727,\n",
              "  'noTP F1': 0.9472839175809473,\n",
              "  'Weighted Precision': 0.8810309125310171,\n",
              "  'Weighted Recall': 0.9331026528258363,\n",
              "  'Weighted F1': 0.8908915023786268,\n",
              "  'Weighted AUC': 0.9482917344873631},\n",
              " {'Loss': 'triplet',\n",
              "  'Selection': 'maxsep',\n",
              "  'Fold': 'test_4',\n",
              "  'SP F1': 0.8517915309446256,\n",
              "  'cTP F1': 0.2631578947368421,\n",
              "  'luTP F1': 0.38095238095238093,\n",
              "  'mTP F1': 0.2614173228346457,\n",
              "  'noTP F1': 0.9563607511240412,\n",
              "  'Weighted Precision': 0.8743233802024996,\n",
              "  'Weighted Recall': 0.9475510991129965,\n",
              "  'Weighted F1': 0.8948221017913864,\n",
              "  'Weighted AUC': 0.9592442303333149},\n",
              " {'Loss': 'triplet',\n",
              "  'Selection': 'maxsep',\n",
              "  'Fold': 'validation_4',\n",
              "  'SP F1': 0.8748964374482187,\n",
              "  'cTP F1': 0.49206349206349204,\n",
              "  'luTP F1': 0.6956521739130436,\n",
              "  'mTP F1': 0.40302267002518893,\n",
              "  'noTP F1': 0.9649354073292907,\n",
              "  'Weighted Precision': 0.8939155348424358,\n",
              "  'Weighted Recall': 0.95526417277285,\n",
              "  'Weighted F1': 0.916161769713137,\n",
              "  'Weighted AUC': 0.9623306992531565},\n",
              " {'Loss': 'triplet',\n",
              "  'Selection': 'maxsep',\n",
              "  'Fold': 'test_0',\n",
              "  'SP F1': 0.8641975308641976,\n",
              "  'cTP F1': 0.33333333333333337,\n",
              "  'luTP F1': 0.7407407407407407,\n",
              "  'mTP F1': 0.38117647058823534,\n",
              "  'noTP F1': 0.9648846960167715,\n",
              "  'Weighted Precision': 0.8860659669766846,\n",
              "  'Weighted Recall': 0.9535508637236084,\n",
              "  'Weighted F1': 0.9100798628707322,\n",
              "  'Weighted AUC': 0.9624143680793159},\n",
              " {'Loss': 'triplet',\n",
              "  'Selection': 'pvalue',\n",
              "  'Fold': 'validation_0',\n",
              "  'SP F1': 0.9223826714801443,\n",
              "  'cTP F1': 0.4210526315789474,\n",
              "  'luTP F1': 0.7142857142857143,\n",
              "  'mTP F1': 0.4277456647398844,\n",
              "  'noTP F1': 0.9291643608190371,\n",
              "  'Weighted Precision': 0.9294637020361987,\n",
              "  'Weighted Recall': 0.8821497120921306,\n",
              "  'Weighted F1': 0.8991005263546233,\n",
              "  'Weighted AUC': 0.9245273312109697},\n",
              " {'Loss': 'triplet',\n",
              "  'Selection': 'pvalue',\n",
              "  'Fold': 'test_1',\n",
              "  'SP F1': 0.9423604757548033,\n",
              "  'cTP F1': 0.4444444444444444,\n",
              "  'luTP F1': 0.6206896551724138,\n",
              "  'mTP F1': 0.48648648648648657,\n",
              "  'noTP F1': 0.9385166804521643,\n",
              "  'Weighted Precision': 0.9397665635246477,\n",
              "  'Weighted Recall': 0.8966973886328725,\n",
              "  'Weighted F1': 0.9119724099553761,\n",
              "  'Weighted AUC': 0.935668907564424},\n",
              " {'Loss': 'triplet',\n",
              "  'Selection': 'pvalue',\n",
              "  'Fold': 'validation_1',\n",
              "  'SP F1': 0.9246935201401051,\n",
              "  'cTP F1': 0.46031746031746035,\n",
              "  'luTP F1': 0.7272727272727274,\n",
              "  'mTP F1': 0.4369747899159664,\n",
              "  'noTP F1': 0.9250210614995787,\n",
              "  'Weighted Precision': 0.9320532598391472,\n",
              "  'Weighted Recall': 0.879416282642089,\n",
              "  'Weighted F1': 0.8971219383666137,\n",
              "  'Weighted AUC': 0.930790486024095},\n",
              " {'Loss': 'triplet',\n",
              "  'Selection': 'pvalue',\n",
              "  'Fold': 'test_2',\n",
              "  'SP F1': 0.8955495004541326,\n",
              "  'cTP F1': 0.5,\n",
              "  'luTP F1': 0.7368421052631577,\n",
              "  'mTP F1': 0.414985590778098,\n",
              "  'noTP F1': 0.9250760298589992,\n",
              "  'Weighted Precision': 0.919204432701117,\n",
              "  'Weighted Recall': 0.8743274404304381,\n",
              "  'Weighted F1': 0.8908092734020635,\n",
              "  'Weighted AUC': 0.9126382513504108},\n",
              " {'Loss': 'triplet',\n",
              "  'Selection': 'pvalue',\n",
              "  'Fold': 'validation_2',\n",
              "  'SP F1': 0.9136029411764707,\n",
              "  'cTP F1': 0.4552845528455285,\n",
              "  'luTP F1': 0.7368421052631577,\n",
              "  'mTP F1': 0.4484848484848485,\n",
              "  'noTP F1': 0.9385290889132821,\n",
              "  'Weighted Precision': 0.9299179140948882,\n",
              "  'Weighted Recall': 0.8900845503458877,\n",
              "  'Weighted F1': 0.9049244726496108,\n",
              "  'Weighted AUC': 0.9267726222421675},\n",
              " {'Loss': 'triplet',\n",
              "  'Selection': 'pvalue',\n",
              "  'Fold': 'test_3',\n",
              "  'SP F1': 0.9191111111111111,\n",
              "  'cTP F1': 0.4429530201342282,\n",
              "  'luTP F1': 0.5714285714285715,\n",
              "  'mTP F1': 0.4093567251461988,\n",
              "  'noTP F1': 0.9178120617110799,\n",
              "  'Weighted Precision': 0.9252715319183729,\n",
              "  'Weighted Recall': 0.8696655132641292,\n",
              "  'Weighted F1': 0.8891191915596104,\n",
              "  'Weighted AUC': 0.9182204679185161},\n",
              " {'Loss': 'triplet',\n",
              "  'Selection': 'pvalue',\n",
              "  'Fold': 'validation_3',\n",
              "  'SP F1': 0.9108910891089109,\n",
              "  'cTP F1': 0.5413533834586467,\n",
              "  'luTP F1': 0.5833333333333334,\n",
              "  'mTP F1': 0.43750000000000006,\n",
              "  'noTP F1': 0.9190396426577331,\n",
              "  'Weighted Precision': 0.9249045854360787,\n",
              "  'Weighted Recall': 0.8735101883890811,\n",
              "  'Weighted F1': 0.8911382887054011,\n",
              "  'Weighted AUC': 0.9166362246394865},\n",
              " {'Loss': 'triplet',\n",
              "  'Selection': 'pvalue',\n",
              "  'Fold': 'test_4',\n",
              "  'SP F1': 0.9203703703703703,\n",
              "  'cTP F1': 0.5128205128205129,\n",
              "  'luTP F1': 0.45714285714285713,\n",
              "  'mTP F1': 0.4299065420560748,\n",
              "  'noTP F1': 0.9358656757500688,\n",
              "  'Weighted Precision': 0.9325982544240429,\n",
              "  'Weighted Recall': 0.8885460856151176,\n",
              "  'Weighted F1': 0.9048989112114408,\n",
              "  'Weighted AUC': 0.9252777129928943},\n",
              " {'Loss': 'triplet',\n",
              "  'Selection': 'pvalue',\n",
              "  'Fold': 'validation_4',\n",
              "  'SP F1': 0.925560538116592,\n",
              "  'cTP F1': 0.5454545454545454,\n",
              "  'luTP F1': 0.7368421052631579,\n",
              "  'mTP F1': 0.5525291828793774,\n",
              "  'noTP F1': 0.9523809523809523,\n",
              "  'Weighted Precision': 0.9346273913449965,\n",
              "  'Weighted Recall': 0.9182414192055535,\n",
              "  'Weighted F1': 0.9241210896664233,\n",
              "  'Weighted AUC': 0.9382717983378929},\n",
              " {'Loss': 'triplet',\n",
              "  'Selection': 'pvalue',\n",
              "  'Fold': 'test_0',\n",
              "  'SP F1': 0.9181494661921709,\n",
              "  'cTP F1': 0.3486238532110092,\n",
              "  'luTP F1': 0.7826086956521738,\n",
              "  'mTP F1': 0.5074626865671642,\n",
              "  'noTP F1': 0.9441128594682583,\n",
              "  'Weighted Precision': 0.9254421740776357,\n",
              "  'Weighted Recall': 0.9028790786948176,\n",
              "  'Weighted F1': 0.9111786860148561,\n",
              "  'Weighted AUC': 0.9290591796843285},\n",
              " {'Loss': 'supcon',\n",
              "  'Selection': 'maxsep',\n",
              "  'Fold': 'validation_0',\n",
              "  'SP F1': 0.952029520295203,\n",
              "  'cTP F1': 0.5165562913907285,\n",
              "  'luTP F1': 0.761904761904762,\n",
              "  'mTP F1': 0.4387755102040817,\n",
              "  'noTP F1': 0.969840020980855,\n",
              "  'Weighted Precision': 0.9301510479900109,\n",
              "  'Weighted Recall': 0.9589251439539347,\n",
              "  'Weighted F1': 0.9373737691276506,\n",
              "  'Weighted AUC': 0.9653546181403208},\n",
              " {'Loss': 'supcon',\n",
              "  'Selection': 'maxsep',\n",
              "  'Fold': 'test_1',\n",
              "  'SP F1': 0.9553072625698323,\n",
              "  'cTP F1': 0.37419354838709673,\n",
              "  'luTP F1': 0.5,\n",
              "  'mTP F1': 0.47317073170731716,\n",
              "  'noTP F1': 0.967878948765596,\n",
              "  'Weighted Precision': 0.9365955208433372,\n",
              "  'Weighted Recall': 0.9470046082949308,\n",
              "  'Weighted F1': 0.9340124841235931,\n",
              "  'Weighted AUC': 0.9634968894460879},\n",
              " {'Loss': 'supcon',\n",
              "  'Selection': 'maxsep',\n",
              "  'Fold': 'validation_1',\n",
              "  'SP F1': 0.9598506069094305,\n",
              "  'cTP F1': 0.453781512605042,\n",
              "  'luTP F1': 0.7368421052631577,\n",
              "  'mTP F1': 0.5730994152046783,\n",
              "  'noTP F1': 0.9742363877822044,\n",
              "  'Weighted Precision': 0.9490798405543464,\n",
              "  'Weighted Recall': 0.9523809523809523,\n",
              "  'Weighted F1': 0.9457203752704065,\n",
              "  'Weighted AUC': 0.9678725425612192},\n",
              " {'Loss': 'supcon',\n",
              "  'Selection': 'maxsep',\n",
              "  'Fold': 'test_2',\n",
              "  'SP F1': 0.9332096474953617,\n",
              "  'cTP F1': 0.5546218487394958,\n",
              "  'luTP F1': 0.7142857142857143,\n",
              "  'mTP F1': 0.5431309904153355,\n",
              "  'noTP F1': 0.9693608029582673,\n",
              "  'Weighted Precision': 0.9355749181667506,\n",
              "  'Weighted Recall': 0.9458109146810146,\n",
              "  'Weighted F1': 0.9369632509941863,\n",
              "  'Weighted AUC': 0.9589313678022752},\n",
              " {'Loss': 'supcon',\n",
              "  'Selection': 'maxsep',\n",
              "  'Fold': 'validation_2',\n",
              "  'SP F1': 0.9490909090909091,\n",
              "  'cTP F1': 0.46551724137931033,\n",
              "  'luTP F1': 0.7142857142857143,\n",
              "  'mTP F1': 0.5043988269794721,\n",
              "  'noTP F1': 0.971025841816758,\n",
              "  'Weighted Precision': 0.9249498307578861,\n",
              "  'Weighted Recall': 0.9607993850883936,\n",
              "  'Weighted F1': 0.9383736488544937,\n",
              "  'Weighted AUC': 0.9677401056904215},\n",
              " {'Loss': 'supcon',\n",
              "  'Selection': 'maxsep',\n",
              "  'Fold': 'test_3',\n",
              "  'SP F1': 0.942652329749104,\n",
              "  'cTP F1': 0.464,\n",
              "  'luTP F1': 0.5714285714285714,\n",
              "  'mTP F1': 0.49707602339181284,\n",
              "  'noTP F1': 0.9731012658227848,\n",
              "  'Weighted Precision': 0.9297557183547952,\n",
              "  'Weighted Recall': 0.9569396386005382,\n",
              "  'Weighted F1': 0.9382802120225318,\n",
              "  'Weighted AUC': 0.9663363698553373},\n",
              " {'Loss': 'supcon',\n",
              "  'Selection': 'maxsep',\n",
              "  'Fold': 'validation_3',\n",
              "  'SP F1': 0.9426751592356687,\n",
              "  'cTP F1': 0.5740740740740741,\n",
              "  'luTP F1': 0.6666666666666667,\n",
              "  'mTP F1': 0.5723684210526316,\n",
              "  'noTP F1': 0.969409282700422,\n",
              "  'Weighted Precision': 0.9350768684278246,\n",
              "  'Weighted Recall': 0.9530949634755863,\n",
              "  'Weighted F1': 0.9407067526088283,\n",
              "  'Weighted AUC': 0.962744311152255},\n",
              " {'Loss': 'supcon',\n",
              "  'Selection': 'maxsep',\n",
              "  'Fold': 'test_4',\n",
              "  'SP F1': 0.9608021877848678,\n",
              "  'cTP F1': 0.6185567010309277,\n",
              "  'luTP F1': 0.7368421052631579,\n",
              "  'mTP F1': 0.5771812080536912,\n",
              "  'noTP F1': 0.9710526315789474,\n",
              "  'Weighted Precision': 0.938833513612331,\n",
              "  'Weighted Recall': 0.9622059390667181,\n",
              "  'Weighted F1': 0.9473478423879925,\n",
              "  'Weighted AUC': 0.9708740549063127},\n",
              " {'Loss': 'supcon',\n",
              "  'Selection': 'maxsep',\n",
              "  'Fold': 'validation_4',\n",
              "  'SP F1': 0.9622815087396503,\n",
              "  'cTP F1': 0.44927536231884063,\n",
              "  'luTP F1': 0.7000000000000001,\n",
              "  'mTP F1': 0.49002849002848997,\n",
              "  'noTP F1': 0.9687995769434162,\n",
              "  'Weighted Precision': 0.9349336377103671,\n",
              "  'Weighted Recall': 0.9560354801388353,\n",
              "  'Weighted F1': 0.939689272097203,\n",
              "  'Weighted AUC': 0.9661028722197057},\n",
              " {'Loss': 'supcon',\n",
              "  'Selection': 'maxsep',\n",
              "  'Fold': 'test_0',\n",
              "  'SP F1': 0.9480401093892434,\n",
              "  'cTP F1': 0.45255474452554745,\n",
              "  'luTP F1': 0.8181818181818182,\n",
              "  'mTP F1': 0.4723032069970846,\n",
              "  'noTP F1': 0.9735255570117954,\n",
              "  'Weighted Precision': 0.9303826047007575,\n",
              "  'Weighted Recall': 0.9589251439539347,\n",
              "  'Weighted F1': 0.9396005891297745,\n",
              "  'Weighted AUC': 0.9646088236787594}]"
            ]
          },
          "metadata": {},
          "execution_count": 9
        }
      ]
    },
    {
      "cell_type": "code",
      "source": [
        "from src.CLEAN.infer import infer_pvalue_supcon\n",
        "for i in range(5):\n",
        "  vid = str(i)\n",
        "  if i!=4:\n",
        "    tid = str(i+1)\n",
        "  else:\n",
        "    tid = '0'\n",
        "  print()\n",
        "  print('validation_'+vid,\"test_\"+tid)\n",
        "  print()\n",
        "  train_data = 'TargetP2_train_' + vid + tid\n",
        "  test_data = \"TargetP2_validation_\" + vid\n",
        "  m_name = 'TargetP2_supcon_'+vid+tid\n",
        "\n",
        "  dict1 = {'Loss': 'supcon', 'Selection': 'pvalue', 'Fold':'validation_'+vid}\n",
        "  dict11 = infer_pvalue_supcon(train_data, test_data, p_value=1e-5, nk_random=20, report_metrics=True, pretrained=False, model_name=m_name)\n",
        "  dict1.update(dict11)\n",
        "  test_data = \"TargetP2_test_\" + tid\n",
        "\n",
        "  dict2 = {'Loss': 'supcon', 'Selection': 'pvalue', 'Fold':\"test_\" + tid}\n",
        "  dict22 = infer_pvalue_supcon(train_data, test_data, p_value=1e-5, nk_random=20, report_metrics=True, pretrained=False, model_name=m_name)\n",
        "  dict2.update(dict22)\n",
        "  dict_list.append(dict1)\n",
        "  dict_list.append(dict2)\n",
        "dict_list"
      ],
      "metadata": {
        "colab": {
          "base_uri": "https://localhost:8080/"
        },
        "id": "KfRNkc_ns36s",
        "outputId": "7ee64776-2c88-43c6-978e-3c3fa13268bc"
      },
      "execution_count": 11,
      "outputs": [
        {
          "output_type": "stream",
          "name": "stdout",
          "text": [
            "\n",
            "validation_0 test_1\n",
            "\n",
            "The embedding sizes for train and test: torch.Size([7796, 256]) torch.Size([2605, 256])\n"
          ]
        },
        {
          "output_type": "stream",
          "name": "stderr",
          "text": [
            "100%|██████████| 5/5 [00:00<00:00, 2130.17it/s]\n"
          ]
        },
        {
          "output_type": "stream",
          "name": "stdout",
          "text": [
            "Calculating eval distance map, between 2605 test ids and 5 train EC cluster centers\n"
          ]
        },
        {
          "output_type": "stream",
          "name": "stderr",
          "text": [
            "2605it [00:00, 10040.03it/s]\n",
            "100%|██████████| 5/5 [00:00<00:00, 2656.64it/s]\n",
            "20000it [00:01, 10306.99it/s]\n",
            "100%|██████████| 2605/2605 [00:07<00:00, 336.16it/s]\n"
          ]
        },
        {
          "output_type": "stream",
          "name": "stdout",
          "text": [
            "############ EC calling results using random chosen 20k samples ############\n",
            "---------------------------------------------------------------------------\n",
            ">>> total samples: 2605 | total ec: 5 \n",
            ">>> precision: 0.947 | recall: 0.927| F1: 0.934 | AUC: 0.943 \n",
            ">>> label: {'SP', 'noTP', 'cTP', 'mTP', 'luTP'} \n",
            ">>> precision: [0.9588785  0.58       0.7        0.40957447 0.98133919]\n",
            ">>> recall: [0.95176252 0.63043478 0.7        0.78571429 0.93514644]\n",
            ">>> F1: [0.95530726 0.60416667 0.7        0.53846154 0.95768613]\n",
            ">>> AUC: [0.97055696 0.81111423 0.84942197 0.87071913 0.9430422 ]\n",
            "---------------------------------------------------------------------------\n",
            "The embedding sizes for train and test: torch.Size([7796, 256]) torch.Size([2604, 256])\n"
          ]
        },
        {
          "output_type": "stream",
          "name": "stderr",
          "text": [
            "100%|██████████| 5/5 [00:00<00:00, 2641.91it/s]\n"
          ]
        },
        {
          "output_type": "stream",
          "name": "stdout",
          "text": [
            "Calculating eval distance map, between 2604 test ids and 5 train EC cluster centers\n"
          ]
        },
        {
          "output_type": "stream",
          "name": "stderr",
          "text": [
            "2604it [00:00, 10037.11it/s]\n",
            "100%|██████████| 5/5 [00:00<00:00, 3324.06it/s]\n",
            "20000it [00:01, 10032.78it/s]\n",
            "100%|██████████| 2604/2604 [00:07<00:00, 337.93it/s]\n"
          ]
        },
        {
          "output_type": "stream",
          "name": "stdout",
          "text": [
            "############ EC calling results using random chosen 20k samples ############\n",
            "---------------------------------------------------------------------------\n",
            ">>> total samples: 2604 | total ec: 5 \n",
            ">>> precision: 0.952 | recall: 0.924| F1: 0.934 | AUC: 0.95 \n",
            ">>> label: {'SP', 'noTP', 'cTP', 'mTP', 'luTP'} \n",
            ">>> precision: [0.96401515 0.4516129  0.8        0.42325581 0.98940914]\n",
            ">>> recall: [0.94085028 0.62222222 0.44444444 0.89215686 0.93078133]\n",
            ">>> F1: [0.95229186 0.52336449 0.57142857 0.57413249 0.95920022]\n",
            ">>> AUC: [0.96582019 0.80446789 0.72202954 0.92129826 0.95176082]\n",
            "---------------------------------------------------------------------------\n",
            "\n",
            "validation_1 test_2\n",
            "\n",
            "The embedding sizes for train and test: torch.Size([7799, 256]) torch.Size([2604, 256])\n"
          ]
        },
        {
          "output_type": "stream",
          "name": "stderr",
          "text": [
            "100%|██████████| 5/5 [00:00<00:00, 2234.34it/s]\n"
          ]
        },
        {
          "output_type": "stream",
          "name": "stdout",
          "text": [
            "Calculating eval distance map, between 2604 test ids and 5 train EC cluster centers\n"
          ]
        },
        {
          "output_type": "stream",
          "name": "stderr",
          "text": [
            "2604it [00:00, 10252.06it/s]\n",
            "100%|██████████| 5/5 [00:00<00:00, 2891.03it/s]\n",
            "20000it [00:01, 10373.67it/s]\n",
            "100%|██████████| 2604/2604 [00:07<00:00, 332.94it/s]\n"
          ]
        },
        {
          "output_type": "stream",
          "name": "stdout",
          "text": [
            "############ EC calling results using random chosen 20k samples ############\n",
            "---------------------------------------------------------------------------\n",
            ">>> total samples: 2604 | total ec: 5 \n",
            ">>> precision: 0.956 | recall: 0.936| F1: 0.943 | AUC: 0.957 \n",
            ">>> label: {'SP', 'noTP', 'cTP', 'mTP', 'luTP'} \n",
            ">>> precision: [0.9729207  0.5        0.66666667 0.46534653 0.99016931]\n",
            ">>> recall: [0.9297597  0.53333333 0.44444444 0.92156863 0.95070792]\n",
            ">>> F1: [0.95085066 0.51612903 0.53333333 0.61842105 0.97003745]\n",
            ">>> AUC: [0.96148674 0.76197733 0.72183687 0.93920158 0.96244148]\n",
            "---------------------------------------------------------------------------\n",
            "The embedding sizes for train and test: torch.Size([7799, 256]) torch.Size([2602, 256])\n"
          ]
        },
        {
          "output_type": "stream",
          "name": "stderr",
          "text": [
            "100%|██████████| 5/5 [00:00<00:00, 1611.46it/s]\n"
          ]
        },
        {
          "output_type": "stream",
          "name": "stdout",
          "text": [
            "Calculating eval distance map, between 2602 test ids and 5 train EC cluster centers\n"
          ]
        },
        {
          "output_type": "stream",
          "name": "stderr",
          "text": [
            "2602it [00:00, 10149.62it/s]\n",
            "100%|██████████| 5/5 [00:00<00:00, 3170.78it/s]\n",
            "20000it [00:01, 10226.36it/s]\n",
            "100%|██████████| 2602/2602 [00:07<00:00, 337.13it/s]\n"
          ]
        },
        {
          "output_type": "stream",
          "name": "stdout",
          "text": [
            "############ EC calling results using random chosen 20k samples ############\n",
            "---------------------------------------------------------------------------\n",
            ">>> total samples: 2602 | total ec: 5 \n",
            ">>> precision: 0.948 | recall: 0.932| F1: 0.938 | AUC: 0.95 \n",
            ">>> label: {'SP', 'noTP', 'cTP', 'mTP', 'luTP'} \n",
            ">>> precision: [0.9486692  0.46774194 1.         0.44970414 0.98641304]\n",
            ">>> recall: [0.92750929 0.63043478 0.55555556 0.74509804 0.95175669]\n",
            ">>> F1: [0.93796992 0.53703704 0.71428571 0.56088561 0.96877502]\n",
            ">>> AUC: [0.95721395 0.80876199 0.77777778 0.85394902 0.95789273]\n",
            "---------------------------------------------------------------------------\n",
            "\n",
            "validation_2 test_3\n",
            "\n",
            "The embedding sizes for train and test: torch.Size([7802, 256]) torch.Size([2602, 256])\n"
          ]
        },
        {
          "output_type": "stream",
          "name": "stderr",
          "text": [
            "100%|██████████| 5/5 [00:00<00:00, 3470.96it/s]\n"
          ]
        },
        {
          "output_type": "stream",
          "name": "stdout",
          "text": [
            "Calculating eval distance map, between 2602 test ids and 5 train EC cluster centers\n"
          ]
        },
        {
          "output_type": "stream",
          "name": "stderr",
          "text": [
            "2602it [00:00, 10226.94it/s]\n",
            "100%|██████████| 5/5 [00:00<00:00, 3380.87it/s]\n",
            "20000it [00:01, 10026.97it/s]\n",
            "100%|██████████| 2602/2602 [00:07<00:00, 329.38it/s]\n"
          ]
        },
        {
          "output_type": "stream",
          "name": "stdout",
          "text": [
            "############ EC calling results using random chosen 20k samples ############\n",
            "---------------------------------------------------------------------------\n",
            ">>> total samples: 2602 | total ec: 5 \n",
            ">>> precision: 0.946 | recall: 0.938| F1: 0.941 | AUC: 0.947 \n",
            ">>> label: {'SP', 'noTP', 'cTP', 'mTP', 'luTP'} \n",
            ">>> precision: [0.94434137 0.5        1.         0.51315789 0.98017149]\n",
            ">>> recall: [0.94609665 0.43478261 0.55555556 0.76470588 0.95909806]\n",
            ">>> F1: [0.9452182  0.46511628 0.71428571 0.61417323 0.96952028]\n",
            ">>> AUC: [0.96578089 0.71347894 0.77777778 0.86755294 0.95293032]\n",
            "---------------------------------------------------------------------------\n",
            "The embedding sizes for train and test: torch.Size([7802, 256]) torch.Size([2601, 256])\n"
          ]
        },
        {
          "output_type": "stream",
          "name": "stderr",
          "text": [
            "100%|██████████| 5/5 [00:00<00:00, 2487.43it/s]\n"
          ]
        },
        {
          "output_type": "stream",
          "name": "stdout",
          "text": [
            "Calculating eval distance map, between 2601 test ids and 5 train EC cluster centers\n"
          ]
        },
        {
          "output_type": "stream",
          "name": "stderr",
          "text": [
            "2601it [00:00, 10267.45it/s]\n",
            "100%|██████████| 5/5 [00:00<00:00, 3845.16it/s]\n",
            "20000it [00:01, 10373.22it/s]\n",
            "100%|██████████| 2601/2601 [00:07<00:00, 327.96it/s]\n"
          ]
        },
        {
          "output_type": "stream",
          "name": "stdout",
          "text": [
            "############ EC calling results using random chosen 20k samples ############\n",
            "---------------------------------------------------------------------------\n",
            ">>> total samples: 2601 | total ec: 5 \n",
            ">>> precision: 0.948 | recall: 0.936| F1: 0.94 | AUC: 0.953 \n",
            ">>> label: {'SP', 'noTP', 'cTP', 'mTP', 'luTP'} \n",
            ">>> precision: [0.92998205 0.5        0.8        0.51234568 0.98687808]\n",
            ">>> recall: [0.95925926 0.53333333 0.44444444 0.83       0.94651285]\n",
            ">>> F1: [0.9443938  0.51612903 0.57142857 0.63358779 0.96627409]\n",
            ">>> AUC: [0.9701682  0.76197183 0.72202932 0.89920632 0.95596536]\n",
            "---------------------------------------------------------------------------\n",
            "\n",
            "validation_3 test_4\n",
            "\n",
            "The embedding sizes for train and test: torch.Size([7811, 256]) torch.Size([2601, 256])\n"
          ]
        },
        {
          "output_type": "stream",
          "name": "stderr",
          "text": [
            "100%|██████████| 5/5 [00:00<00:00, 2227.46it/s]\n"
          ]
        },
        {
          "output_type": "stream",
          "name": "stdout",
          "text": [
            "Calculating eval distance map, between 2601 test ids and 5 train EC cluster centers\n"
          ]
        },
        {
          "output_type": "stream",
          "name": "stderr",
          "text": [
            "2601it [00:00, 10100.54it/s]\n",
            "100%|██████████| 5/5 [00:00<00:00, 3170.78it/s]\n",
            "20000it [00:01, 10289.89it/s]\n",
            "100%|██████████| 2601/2601 [00:07<00:00, 331.84it/s]\n"
          ]
        },
        {
          "output_type": "stream",
          "name": "stdout",
          "text": [
            "############ EC calling results using random chosen 20k samples ############\n",
            "---------------------------------------------------------------------------\n",
            ">>> total samples: 2601 | total ec: 5 \n",
            ">>> precision: 0.949 | recall: 0.937| F1: 0.941 | AUC: 0.95 \n",
            ">>> label: {'SP', 'noTP', 'cTP', 'mTP', 'luTP'} \n",
            ">>> precision: [0.93922652 0.57777778 0.83333333 0.51807229 0.98316133]\n",
            ">>> recall: [0.94444444 0.57777778 0.55555556 0.86       0.94913477]\n",
            ">>> F1: [0.94182825 0.57777778 0.66666667 0.64661654 0.96584845]\n",
            ">>> AUC: [0.9642164  0.78517214 0.77758488 0.9140064  0.95223309]\n",
            "---------------------------------------------------------------------------\n",
            "The embedding sizes for train and test: torch.Size([7811, 256]) torch.Size([2593, 256])\n"
          ]
        },
        {
          "output_type": "stream",
          "name": "stderr",
          "text": [
            "100%|██████████| 5/5 [00:00<00:00, 2463.76it/s]\n"
          ]
        },
        {
          "output_type": "stream",
          "name": "stdout",
          "text": [
            "Calculating eval distance map, between 2593 test ids and 5 train EC cluster centers\n"
          ]
        },
        {
          "output_type": "stream",
          "name": "stderr",
          "text": [
            "2593it [00:00, 10241.04it/s]\n",
            "100%|██████████| 5/5 [00:00<00:00, 3142.27it/s]\n",
            "20000it [00:01, 10286.23it/s]\n",
            "100%|██████████| 2593/2593 [00:07<00:00, 338.13it/s]\n"
          ]
        },
        {
          "output_type": "stream",
          "name": "stdout",
          "text": [
            "############ EC calling results using random chosen 20k samples ############\n",
            "---------------------------------------------------------------------------\n",
            ">>> total samples: 2593 | total ec: 5 \n",
            ">>> precision: 0.954 | recall: 0.944| F1: 0.948 | AUC: 0.954 \n",
            ">>> label: {'SP', 'noTP', 'cTP', 'mTP', 'luTP'} \n",
            ">>> precision: [0.96096654 0.7027027  0.63636364 0.5        0.98274933]\n",
            ">>> recall: [0.95918367 0.57777778 0.875      0.78350515 0.95745798]\n",
            ">>> F1: [0.96007428 0.63414634 0.73684211 0.61044177 0.96993881]\n",
            ">>> AUC: [0.97447986 0.78673033 0.93672631 0.87652822 0.95550693]\n",
            "---------------------------------------------------------------------------\n",
            "\n",
            "validation_4 test_0\n",
            "\n",
            "The embedding sizes for train and test: torch.Size([7807, 256]) torch.Size([2593, 256])\n"
          ]
        },
        {
          "output_type": "stream",
          "name": "stderr",
          "text": [
            "100%|██████████| 5/5 [00:00<00:00, 1948.30it/s]\n"
          ]
        },
        {
          "output_type": "stream",
          "name": "stdout",
          "text": [
            "Calculating eval distance map, between 2593 test ids and 5 train EC cluster centers\n"
          ]
        },
        {
          "output_type": "stream",
          "name": "stderr",
          "text": [
            "2593it [00:00, 10196.69it/s]\n",
            "100%|██████████| 5/5 [00:00<00:00, 2447.94it/s]\n",
            "20000it [00:01, 10209.83it/s]\n",
            "100%|██████████| 2593/2593 [00:07<00:00, 333.83it/s]\n"
          ]
        },
        {
          "output_type": "stream",
          "name": "stdout",
          "text": [
            "############ EC calling results using random chosen 20k samples ############\n",
            "---------------------------------------------------------------------------\n",
            ">>> total samples: 2593 | total ec: 5 \n",
            ">>> precision: 0.952 | recall: 0.934| F1: 0.941 | AUC: 0.951 \n",
            ">>> label: {'SP', 'noTP', 'cTP', 'mTP', 'luTP'} \n",
            ">>> precision: [0.96455224 0.58333333 0.54545455 0.44382022 0.98516484]\n",
            ">>> recall: [0.95918367 0.62222222 0.75       0.81443299 0.94170168]\n",
            ">>> F1: [0.96186047 0.60215054 0.63157895 0.57454545 0.96294307]\n",
            ">>> AUC: [0.97496672 0.80718646 0.87403288 0.88738476 0.95125723]\n",
            "---------------------------------------------------------------------------\n",
            "The embedding sizes for train and test: torch.Size([7807, 256]) torch.Size([2605, 256])\n"
          ]
        },
        {
          "output_type": "stream",
          "name": "stderr",
          "text": [
            "100%|██████████| 5/5 [00:00<00:00, 2432.04it/s]\n"
          ]
        },
        {
          "output_type": "stream",
          "name": "stdout",
          "text": [
            "Calculating eval distance map, between 2605 test ids and 5 train EC cluster centers\n"
          ]
        },
        {
          "output_type": "stream",
          "name": "stderr",
          "text": [
            "2605it [00:00, 10291.34it/s]\n",
            "100%|██████████| 5/5 [00:00<00:00, 3602.73it/s]\n",
            "20000it [00:01, 10476.87it/s]\n",
            "100%|██████████| 2605/2605 [00:07<00:00, 331.22it/s]\n"
          ]
        },
        {
          "output_type": "stream",
          "name": "stdout",
          "text": [
            "############ EC calling results using random chosen 20k samples ############\n",
            "---------------------------------------------------------------------------\n",
            ">>> total samples: 2605 | total ec: 5 \n",
            ">>> precision: 0.947 | recall: 0.934| F1: 0.938 | AUC: 0.949 \n",
            ">>> label: {'SP', 'noTP', 'cTP', 'mTP', 'luTP'} \n",
            ">>> precision: [0.93589744 0.55555556 0.81818182 0.47904192 0.98420479]\n",
            ">>> recall: [0.94805195 0.54347826 0.9        0.81632653 0.94508368]\n",
            ">>> F1: [0.94193548 0.54945055 0.85714286 0.60377358 0.9642476 ]\n",
            ">>> AUC: [0.9655555  0.76783135 0.94961464 0.89081185 0.95161832]\n",
            "---------------------------------------------------------------------------\n"
          ]
        },
        {
          "output_type": "execute_result",
          "data": {
            "text/plain": [
              "[{'Loss': 'triplet',\n",
              "  'Selection': 'maxsep',\n",
              "  'Fold': 'validation_0',\n",
              "  'SP F1': 0.9121265377855888,\n",
              "  'cTP F1': 0.2206896551724138,\n",
              "  'luTP F1': 0.5555555555555556,\n",
              "  'mTP F1': 0.32233009708737864,\n",
              "  'noTP F1': 0.956683497209673,\n",
              "  'Weighted Precision': 0.9043061721304615,\n",
              "  'Weighted Recall': 0.9381957773512476,\n",
              "  'Weighted F1': 0.909063600667707,\n",
              "  'Weighted AUC': 0.9541621814012528},\n",
              " {'Loss': 'triplet',\n",
              "  'Selection': 'maxsep',\n",
              "  'Fold': 'test_1',\n",
              "  'SP F1': 0.9241622574955909,\n",
              "  'cTP F1': 0.28975265017667845,\n",
              "  'luTP F1': 0.6,\n",
              "  'mTP F1': 0.35658914728682173,\n",
              "  'noTP F1': 0.958032611601176,\n",
              "  'Weighted Precision': 0.9123098098533714,\n",
              "  'Weighted Recall': 0.9439324116743472,\n",
              "  'Weighted F1': 0.9146508962787111,\n",
              "  'Weighted AUC': 0.9635953222931893},\n",
              " {'Loss': 'triplet',\n",
              "  'Selection': 'maxsep',\n",
              "  'Fold': 'validation_1',\n",
              "  'SP F1': 0.8851913477537439,\n",
              "  'cTP F1': 0.34334763948497854,\n",
              "  'luTP F1': 0.5625,\n",
              "  'mTP F1': 0.325,\n",
              "  'noTP F1': 0.9531292332701166,\n",
              "  'Weighted Precision': 0.9020960023349094,\n",
              "  'Weighted Recall': 0.9335637480798771,\n",
              "  'Weighted F1': 0.9025226999837602,\n",
              "  'Weighted AUC': 0.9583079577474188},\n",
              " {'Loss': 'triplet',\n",
              "  'Selection': 'maxsep',\n",
              "  'Fold': 'test_2',\n",
              "  'SP F1': 0.871662360034453,\n",
              "  'cTP F1': 0.3773584905660377,\n",
              "  'luTP F1': 0.6086956521739131,\n",
              "  'mTP F1': 0.2945205479452055,\n",
              "  'noTP F1': 0.9570093457943926,\n",
              "  'Weighted Precision': 0.89547260272697,\n",
              "  'Weighted Recall': 0.9342813220599538,\n",
              "  'Weighted F1': 0.9019404379148563,\n",
              "  'Weighted AUC': 0.9488243703473609},\n",
              " {'Loss': 'triplet',\n",
              "  'Selection': 'maxsep',\n",
              "  'Fold': 'validation_2',\n",
              "  'SP F1': 0.9071803852889666,\n",
              "  'cTP F1': 0.36199095022624433,\n",
              "  'luTP F1': 0.6086956521739131,\n",
              "  'mTP F1': 0.35319148936170214,\n",
              "  'noTP F1': 0.9558745348219032,\n",
              "  'Weighted Precision': 0.9023133081569961,\n",
              "  'Weighted Recall': 0.9400461183704842,\n",
              "  'Weighted F1': 0.9104808461513065,\n",
              "  'Weighted AUC': 0.9584808135592795},\n",
              " {'Loss': 'triplet',\n",
              "  'Selection': 'maxsep',\n",
              "  'Fold': 'test_3',\n",
              "  'SP F1': 0.9050086355785838,\n",
              "  'cTP F1': 0.2934362934362934,\n",
              "  'luTP F1': 0.64,\n",
              "  'mTP F1': 0.3561076604554866,\n",
              "  'noTP F1': 0.9425162689804771,\n",
              "  'Weighted Precision': 0.9049469161076537,\n",
              "  'Weighted Recall': 0.9204152249134948,\n",
              "  'Weighted F1': 0.8999071847014176,\n",
              "  'Weighted AUC': 0.9462035292369446},\n",
              " {'Loss': 'triplet',\n",
              "  'Selection': 'maxsep',\n",
              "  'Fold': 'validation_3',\n",
              "  'SP F1': 0.8613861386138614,\n",
              "  'cTP F1': 0.31007751937984496,\n",
              "  'luTP F1': 0.48484848484848486,\n",
              "  'mTP F1': 0.2727272727272727,\n",
              "  'noTP F1': 0.9472839175809473,\n",
              "  'Weighted Precision': 0.8810309125310171,\n",
              "  'Weighted Recall': 0.9331026528258363,\n",
              "  'Weighted F1': 0.8908915023786268,\n",
              "  'Weighted AUC': 0.9482917344873631},\n",
              " {'Loss': 'triplet',\n",
              "  'Selection': 'maxsep',\n",
              "  'Fold': 'test_4',\n",
              "  'SP F1': 0.8517915309446256,\n",
              "  'cTP F1': 0.2631578947368421,\n",
              "  'luTP F1': 0.38095238095238093,\n",
              "  'mTP F1': 0.2614173228346457,\n",
              "  'noTP F1': 0.9563607511240412,\n",
              "  'Weighted Precision': 0.8743233802024996,\n",
              "  'Weighted Recall': 0.9475510991129965,\n",
              "  'Weighted F1': 0.8948221017913864,\n",
              "  'Weighted AUC': 0.9592442303333149},\n",
              " {'Loss': 'triplet',\n",
              "  'Selection': 'maxsep',\n",
              "  'Fold': 'validation_4',\n",
              "  'SP F1': 0.8748964374482187,\n",
              "  'cTP F1': 0.49206349206349204,\n",
              "  'luTP F1': 0.6956521739130436,\n",
              "  'mTP F1': 0.40302267002518893,\n",
              "  'noTP F1': 0.9649354073292907,\n",
              "  'Weighted Precision': 0.8939155348424358,\n",
              "  'Weighted Recall': 0.95526417277285,\n",
              "  'Weighted F1': 0.916161769713137,\n",
              "  'Weighted AUC': 0.9623306992531565},\n",
              " {'Loss': 'triplet',\n",
              "  'Selection': 'maxsep',\n",
              "  'Fold': 'test_0',\n",
              "  'SP F1': 0.8641975308641976,\n",
              "  'cTP F1': 0.33333333333333337,\n",
              "  'luTP F1': 0.7407407407407407,\n",
              "  'mTP F1': 0.38117647058823534,\n",
              "  'noTP F1': 0.9648846960167715,\n",
              "  'Weighted Precision': 0.8860659669766846,\n",
              "  'Weighted Recall': 0.9535508637236084,\n",
              "  'Weighted F1': 0.9100798628707322,\n",
              "  'Weighted AUC': 0.9624143680793159},\n",
              " {'Loss': 'triplet',\n",
              "  'Selection': 'pvalue',\n",
              "  'Fold': 'validation_0',\n",
              "  'SP F1': 0.9223826714801443,\n",
              "  'cTP F1': 0.4210526315789474,\n",
              "  'luTP F1': 0.7142857142857143,\n",
              "  'mTP F1': 0.4277456647398844,\n",
              "  'noTP F1': 0.9291643608190371,\n",
              "  'Weighted Precision': 0.9294637020361987,\n",
              "  'Weighted Recall': 0.8821497120921306,\n",
              "  'Weighted F1': 0.8991005263546233,\n",
              "  'Weighted AUC': 0.9245273312109697},\n",
              " {'Loss': 'triplet',\n",
              "  'Selection': 'pvalue',\n",
              "  'Fold': 'test_1',\n",
              "  'SP F1': 0.9423604757548033,\n",
              "  'cTP F1': 0.4444444444444444,\n",
              "  'luTP F1': 0.6206896551724138,\n",
              "  'mTP F1': 0.48648648648648657,\n",
              "  'noTP F1': 0.9385166804521643,\n",
              "  'Weighted Precision': 0.9397665635246477,\n",
              "  'Weighted Recall': 0.8966973886328725,\n",
              "  'Weighted F1': 0.9119724099553761,\n",
              "  'Weighted AUC': 0.935668907564424},\n",
              " {'Loss': 'triplet',\n",
              "  'Selection': 'pvalue',\n",
              "  'Fold': 'validation_1',\n",
              "  'SP F1': 0.9246935201401051,\n",
              "  'cTP F1': 0.46031746031746035,\n",
              "  'luTP F1': 0.7272727272727274,\n",
              "  'mTP F1': 0.4369747899159664,\n",
              "  'noTP F1': 0.9250210614995787,\n",
              "  'Weighted Precision': 0.9320532598391472,\n",
              "  'Weighted Recall': 0.879416282642089,\n",
              "  'Weighted F1': 0.8971219383666137,\n",
              "  'Weighted AUC': 0.930790486024095},\n",
              " {'Loss': 'triplet',\n",
              "  'Selection': 'pvalue',\n",
              "  'Fold': 'test_2',\n",
              "  'SP F1': 0.8955495004541326,\n",
              "  'cTP F1': 0.5,\n",
              "  'luTP F1': 0.7368421052631577,\n",
              "  'mTP F1': 0.414985590778098,\n",
              "  'noTP F1': 0.9250760298589992,\n",
              "  'Weighted Precision': 0.919204432701117,\n",
              "  'Weighted Recall': 0.8743274404304381,\n",
              "  'Weighted F1': 0.8908092734020635,\n",
              "  'Weighted AUC': 0.9126382513504108},\n",
              " {'Loss': 'triplet',\n",
              "  'Selection': 'pvalue',\n",
              "  'Fold': 'validation_2',\n",
              "  'SP F1': 0.9136029411764707,\n",
              "  'cTP F1': 0.4552845528455285,\n",
              "  'luTP F1': 0.7368421052631577,\n",
              "  'mTP F1': 0.4484848484848485,\n",
              "  'noTP F1': 0.9385290889132821,\n",
              "  'Weighted Precision': 0.9299179140948882,\n",
              "  'Weighted Recall': 0.8900845503458877,\n",
              "  'Weighted F1': 0.9049244726496108,\n",
              "  'Weighted AUC': 0.9267726222421675},\n",
              " {'Loss': 'triplet',\n",
              "  'Selection': 'pvalue',\n",
              "  'Fold': 'test_3',\n",
              "  'SP F1': 0.9191111111111111,\n",
              "  'cTP F1': 0.4429530201342282,\n",
              "  'luTP F1': 0.5714285714285715,\n",
              "  'mTP F1': 0.4093567251461988,\n",
              "  'noTP F1': 0.9178120617110799,\n",
              "  'Weighted Precision': 0.9252715319183729,\n",
              "  'Weighted Recall': 0.8696655132641292,\n",
              "  'Weighted F1': 0.8891191915596104,\n",
              "  'Weighted AUC': 0.9182204679185161},\n",
              " {'Loss': 'triplet',\n",
              "  'Selection': 'pvalue',\n",
              "  'Fold': 'validation_3',\n",
              "  'SP F1': 0.9108910891089109,\n",
              "  'cTP F1': 0.5413533834586467,\n",
              "  'luTP F1': 0.5833333333333334,\n",
              "  'mTP F1': 0.43750000000000006,\n",
              "  'noTP F1': 0.9190396426577331,\n",
              "  'Weighted Precision': 0.9249045854360787,\n",
              "  'Weighted Recall': 0.8735101883890811,\n",
              "  'Weighted F1': 0.8911382887054011,\n",
              "  'Weighted AUC': 0.9166362246394865},\n",
              " {'Loss': 'triplet',\n",
              "  'Selection': 'pvalue',\n",
              "  'Fold': 'test_4',\n",
              "  'SP F1': 0.9203703703703703,\n",
              "  'cTP F1': 0.5128205128205129,\n",
              "  'luTP F1': 0.45714285714285713,\n",
              "  'mTP F1': 0.4299065420560748,\n",
              "  'noTP F1': 0.9358656757500688,\n",
              "  'Weighted Precision': 0.9325982544240429,\n",
              "  'Weighted Recall': 0.8885460856151176,\n",
              "  'Weighted F1': 0.9048989112114408,\n",
              "  'Weighted AUC': 0.9252777129928943},\n",
              " {'Loss': 'triplet',\n",
              "  'Selection': 'pvalue',\n",
              "  'Fold': 'validation_4',\n",
              "  'SP F1': 0.925560538116592,\n",
              "  'cTP F1': 0.5454545454545454,\n",
              "  'luTP F1': 0.7368421052631579,\n",
              "  'mTP F1': 0.5525291828793774,\n",
              "  'noTP F1': 0.9523809523809523,\n",
              "  'Weighted Precision': 0.9346273913449965,\n",
              "  'Weighted Recall': 0.9182414192055535,\n",
              "  'Weighted F1': 0.9241210896664233,\n",
              "  'Weighted AUC': 0.9382717983378929},\n",
              " {'Loss': 'triplet',\n",
              "  'Selection': 'pvalue',\n",
              "  'Fold': 'test_0',\n",
              "  'SP F1': 0.9181494661921709,\n",
              "  'cTP F1': 0.3486238532110092,\n",
              "  'luTP F1': 0.7826086956521738,\n",
              "  'mTP F1': 0.5074626865671642,\n",
              "  'noTP F1': 0.9441128594682583,\n",
              "  'Weighted Precision': 0.9254421740776357,\n",
              "  'Weighted Recall': 0.9028790786948176,\n",
              "  'Weighted F1': 0.9111786860148561,\n",
              "  'Weighted AUC': 0.9290591796843285},\n",
              " {'Loss': 'supcon',\n",
              "  'Selection': 'maxsep',\n",
              "  'Fold': 'validation_0',\n",
              "  'SP F1': 0.952029520295203,\n",
              "  'cTP F1': 0.5165562913907285,\n",
              "  'luTP F1': 0.761904761904762,\n",
              "  'mTP F1': 0.4387755102040817,\n",
              "  'noTP F1': 0.969840020980855,\n",
              "  'Weighted Precision': 0.9301510479900109,\n",
              "  'Weighted Recall': 0.9589251439539347,\n",
              "  'Weighted F1': 0.9373737691276506,\n",
              "  'Weighted AUC': 0.9653546181403208},\n",
              " {'Loss': 'supcon',\n",
              "  'Selection': 'maxsep',\n",
              "  'Fold': 'test_1',\n",
              "  'SP F1': 0.9553072625698323,\n",
              "  'cTP F1': 0.37419354838709673,\n",
              "  'luTP F1': 0.5,\n",
              "  'mTP F1': 0.47317073170731716,\n",
              "  'noTP F1': 0.967878948765596,\n",
              "  'Weighted Precision': 0.9365955208433372,\n",
              "  'Weighted Recall': 0.9470046082949308,\n",
              "  'Weighted F1': 0.9340124841235931,\n",
              "  'Weighted AUC': 0.9634968894460879},\n",
              " {'Loss': 'supcon',\n",
              "  'Selection': 'maxsep',\n",
              "  'Fold': 'validation_1',\n",
              "  'SP F1': 0.9598506069094305,\n",
              "  'cTP F1': 0.453781512605042,\n",
              "  'luTP F1': 0.7368421052631577,\n",
              "  'mTP F1': 0.5730994152046783,\n",
              "  'noTP F1': 0.9742363877822044,\n",
              "  'Weighted Precision': 0.9490798405543464,\n",
              "  'Weighted Recall': 0.9523809523809523,\n",
              "  'Weighted F1': 0.9457203752704065,\n",
              "  'Weighted AUC': 0.9678725425612192},\n",
              " {'Loss': 'supcon',\n",
              "  'Selection': 'maxsep',\n",
              "  'Fold': 'test_2',\n",
              "  'SP F1': 0.9332096474953617,\n",
              "  'cTP F1': 0.5546218487394958,\n",
              "  'luTP F1': 0.7142857142857143,\n",
              "  'mTP F1': 0.5431309904153355,\n",
              "  'noTP F1': 0.9693608029582673,\n",
              "  'Weighted Precision': 0.9355749181667506,\n",
              "  'Weighted Recall': 0.9458109146810146,\n",
              "  'Weighted F1': 0.9369632509941863,\n",
              "  'Weighted AUC': 0.9589313678022752},\n",
              " {'Loss': 'supcon',\n",
              "  'Selection': 'maxsep',\n",
              "  'Fold': 'validation_2',\n",
              "  'SP F1': 0.9490909090909091,\n",
              "  'cTP F1': 0.46551724137931033,\n",
              "  'luTP F1': 0.7142857142857143,\n",
              "  'mTP F1': 0.5043988269794721,\n",
              "  'noTP F1': 0.971025841816758,\n",
              "  'Weighted Precision': 0.9249498307578861,\n",
              "  'Weighted Recall': 0.9607993850883936,\n",
              "  'Weighted F1': 0.9383736488544937,\n",
              "  'Weighted AUC': 0.9677401056904215},\n",
              " {'Loss': 'supcon',\n",
              "  'Selection': 'maxsep',\n",
              "  'Fold': 'test_3',\n",
              "  'SP F1': 0.942652329749104,\n",
              "  'cTP F1': 0.464,\n",
              "  'luTP F1': 0.5714285714285714,\n",
              "  'mTP F1': 0.49707602339181284,\n",
              "  'noTP F1': 0.9731012658227848,\n",
              "  'Weighted Precision': 0.9297557183547952,\n",
              "  'Weighted Recall': 0.9569396386005382,\n",
              "  'Weighted F1': 0.9382802120225318,\n",
              "  'Weighted AUC': 0.9663363698553373},\n",
              " {'Loss': 'supcon',\n",
              "  'Selection': 'maxsep',\n",
              "  'Fold': 'validation_3',\n",
              "  'SP F1': 0.9426751592356687,\n",
              "  'cTP F1': 0.5740740740740741,\n",
              "  'luTP F1': 0.6666666666666667,\n",
              "  'mTP F1': 0.5723684210526316,\n",
              "  'noTP F1': 0.969409282700422,\n",
              "  'Weighted Precision': 0.9350768684278246,\n",
              "  'Weighted Recall': 0.9530949634755863,\n",
              "  'Weighted F1': 0.9407067526088283,\n",
              "  'Weighted AUC': 0.962744311152255},\n",
              " {'Loss': 'supcon',\n",
              "  'Selection': 'maxsep',\n",
              "  'Fold': 'test_4',\n",
              "  'SP F1': 0.9608021877848678,\n",
              "  'cTP F1': 0.6185567010309277,\n",
              "  'luTP F1': 0.7368421052631579,\n",
              "  'mTP F1': 0.5771812080536912,\n",
              "  'noTP F1': 0.9710526315789474,\n",
              "  'Weighted Precision': 0.938833513612331,\n",
              "  'Weighted Recall': 0.9622059390667181,\n",
              "  'Weighted F1': 0.9473478423879925,\n",
              "  'Weighted AUC': 0.9708740549063127},\n",
              " {'Loss': 'supcon',\n",
              "  'Selection': 'maxsep',\n",
              "  'Fold': 'validation_4',\n",
              "  'SP F1': 0.9622815087396503,\n",
              "  'cTP F1': 0.44927536231884063,\n",
              "  'luTP F1': 0.7000000000000001,\n",
              "  'mTP F1': 0.49002849002848997,\n",
              "  'noTP F1': 0.9687995769434162,\n",
              "  'Weighted Precision': 0.9349336377103671,\n",
              "  'Weighted Recall': 0.9560354801388353,\n",
              "  'Weighted F1': 0.939689272097203,\n",
              "  'Weighted AUC': 0.9661028722197057},\n",
              " {'Loss': 'supcon',\n",
              "  'Selection': 'maxsep',\n",
              "  'Fold': 'test_0',\n",
              "  'SP F1': 0.9480401093892434,\n",
              "  'cTP F1': 0.45255474452554745,\n",
              "  'luTP F1': 0.8181818181818182,\n",
              "  'mTP F1': 0.4723032069970846,\n",
              "  'noTP F1': 0.9735255570117954,\n",
              "  'Weighted Precision': 0.9303826047007575,\n",
              "  'Weighted Recall': 0.9589251439539347,\n",
              "  'Weighted F1': 0.9396005891297745,\n",
              "  'Weighted AUC': 0.9646088236787594},\n",
              " {'Loss': 'supcon',\n",
              "  'Selection': 'pvalue',\n",
              "  'Fold': 'validation_0',\n",
              "  'SP F1': 0.9553072625698324,\n",
              "  'cTP F1': 0.6041666666666666,\n",
              "  'luTP F1': 0.7,\n",
              "  'mTP F1': 0.5384615384615384,\n",
              "  'noTP F1': 0.9576861274772362,\n",
              "  'Weighted Precision': 0.9470151012608659,\n",
              "  'Weighted Recall': 0.926679462571977,\n",
              "  'Weighted F1': 0.9341909357763966,\n",
              "  'Weighted AUC': 0.9433254637652263},\n",
              " {'Loss': 'supcon',\n",
              "  'Selection': 'pvalue',\n",
              "  'Fold': 'test_1',\n",
              "  'SP F1': 0.9522918615528531,\n",
              "  'cTP F1': 0.5233644859813085,\n",
              "  'luTP F1': 0.5714285714285714,\n",
              "  'mTP F1': 0.5741324921135647,\n",
              "  'noTP F1': 0.9592002161577952,\n",
              "  'Weighted Precision': 0.9520084883398614,\n",
              "  'Weighted Recall': 0.924347158218126,\n",
              "  'Weighted F1': 0.9338097091092967,\n",
              "  'Weighted AUC': 0.9501491394687991},\n",
              " {'Loss': 'supcon',\n",
              "  'Selection': 'pvalue',\n",
              "  'Fold': 'validation_1',\n",
              "  'SP F1': 0.9508506616257089,\n",
              "  'cTP F1': 0.5161290322580646,\n",
              "  'luTP F1': 0.5333333333333333,\n",
              "  'mTP F1': 0.618421052631579,\n",
              "  'noTP F1': 0.9700374531835206,\n",
              "  'Weighted Precision': 0.9564394433686976,\n",
              "  'Weighted Recall': 0.9362519201228878,\n",
              "  'Weighted F1': 0.9429248790247758,\n",
              "  'Weighted AUC': 0.957036979075945},\n",
              " {'Loss': 'supcon',\n",
              "  'Selection': 'pvalue',\n",
              "  'Fold': 'test_2',\n",
              "  'SP F1': 0.9379699248120301,\n",
              "  'cTP F1': 0.5370370370370371,\n",
              "  'luTP F1': 0.7142857142857143,\n",
              "  'mTP F1': 0.5608856088560886,\n",
              "  'noTP F1': 0.9687750200160129,\n",
              "  'Weighted Precision': 0.9484472159295771,\n",
              "  'Weighted Recall': 0.9315910837817064,\n",
              "  'Weighted F1': 0.9379033012893946,\n",
              "  'Weighted AUC': 0.950418291753757},\n",
              " {'Loss': 'supcon',\n",
              "  'Selection': 'pvalue',\n",
              "  'Fold': 'validation_2',\n",
              "  'SP F1': 0.9452181987000929,\n",
              "  'cTP F1': 0.46511627906976744,\n",
              "  'luTP F1': 0.7142857142857143,\n",
              "  'mTP F1': 0.6141732283464567,\n",
              "  'noTP F1': 0.9695202756427247,\n",
              "  'Weighted Precision': 0.9460356629411126,\n",
              "  'Weighted Recall': 0.9381245196003074,\n",
              "  'Weighted F1': 0.9407656211024001,\n",
              "  'Weighted AUC': 0.9474014900362712},\n",
              " {'Loss': 'supcon',\n",
              "  'Selection': 'pvalue',\n",
              "  'Fold': 'test_3',\n",
              "  'SP F1': 0.9443938012762079,\n",
              "  'cTP F1': 0.5161290322580646,\n",
              "  'luTP F1': 0.5714285714285714,\n",
              "  'mTP F1': 0.633587786259542,\n",
              "  'noTP F1': 0.9662740899357602,\n",
              "  'Weighted Precision': 0.9477513890783856,\n",
              "  'Weighted Recall': 0.9357939254133025,\n",
              "  'Weighted F1': 0.9397865376459329,\n",
              "  'Weighted AUC': 0.9525660877832767},\n",
              " {'Loss': 'supcon',\n",
              "  'Selection': 'pvalue',\n",
              "  'Fold': 'validation_3',\n",
              "  'SP F1': 0.9418282548476455,\n",
              "  'cTP F1': 0.5777777777777777,\n",
              "  'luTP F1': 0.6666666666666667,\n",
              "  'mTP F1': 0.6466165413533834,\n",
              "  'noTP F1': 0.9658484525080042,\n",
              "  'Weighted Precision': 0.9486267577208192,\n",
              "  'Weighted Recall': 0.9369473279507882,\n",
              "  'Weighted F1': 0.940838873773868,\n",
              "  'Weighted AUC': 0.949756634928098},\n",
              " {'Loss': 'supcon',\n",
              "  'Selection': 'pvalue',\n",
              "  'Fold': 'test_4',\n",
              "  'SP F1': 0.9600742804085423,\n",
              "  'cTP F1': 0.6341463414634145,\n",
              "  'luTP F1': 0.7368421052631579,\n",
              "  'mTP F1': 0.6104417670682731,\n",
              "  'noTP F1': 0.9699388135142325,\n",
              "  'Weighted Precision': 0.9542337887529555,\n",
              "  'Weighted Recall': 0.9444658696490551,\n",
              "  'Weighted F1': 0.9478934483937078,\n",
              "  'Weighted AUC': 0.953509353316067},\n",
              " {'Loss': 'supcon',\n",
              "  'Selection': 'pvalue',\n",
              "  'Fold': 'validation_4',\n",
              "  'SP F1': 0.9618604651162791,\n",
              "  'cTP F1': 0.6021505376344085,\n",
              "  'luTP F1': 0.631578947368421,\n",
              "  'mTP F1': 0.5745454545454546,\n",
              "  'noTP F1': 0.9629430719656283,\n",
              "  'Weighted Precision': 0.9522991519597584,\n",
              "  'Weighted Recall': 0.9344388738912457,\n",
              "  'Weighted F1': 0.9409050191221118,\n",
              "  'Weighted AUC': 0.9510577688136191},\n",
              " {'Loss': 'supcon',\n",
              "  'Selection': 'pvalue',\n",
              "  'Fold': 'test_0',\n",
              "  'SP F1': 0.9419354838709677,\n",
              "  'cTP F1': 0.5494505494505495,\n",
              "  'luTP F1': 0.8571428571428572,\n",
              "  'mTP F1': 0.6037735849056604,\n",
              "  'noTP F1': 0.964247598719317,\n",
              "  'Weighted Precision': 0.9469987576739636,\n",
              "  'Weighted Recall': 0.9335892514395393,\n",
              "  'Weighted F1': 0.9383342033492108,\n",
              "  'Weighted AUC': 0.9489614557649079}]"
            ]
          },
          "metadata": {},
          "execution_count": 11
        }
      ]
    },
    {
      "cell_type": "code",
      "source": [
        "import pandas as pd\n",
        "pd.DataFrame(dict_list).to_csv('output.csv', index=False)"
      ],
      "metadata": {
        "id": "I_iM8rBVs6fk"
      },
      "execution_count": 12,
      "outputs": []
    }
  ]
}