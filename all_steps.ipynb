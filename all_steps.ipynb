{
  "nbformat": 4,
  "nbformat_minor": 0,
  "metadata": {
    "colab": {
      "provenance": [],
      "gpuType": "T4"
    },
    "kernelspec": {
      "name": "python3",
      "display_name": "Python 3"
    },
    "language_info": {
      "name": "python"
    },
    "accelerator": "GPU"
  },
  "cells": [
    {
      "cell_type": "markdown",
      "source": [
        "1. Clone CLEAN (v1.0.1) from GitHub"
      ],
      "metadata": {
        "id": "DeoSAsTSRc8a"
      }
    },
    {
      "cell_type": "code",
      "execution_count": null,
      "metadata": {
        "colab": {
          "base_uri": "https://localhost:8080/"
        },
        "id": "cE3IhDEcVEkI",
        "outputId": "07c497c2-b93d-4f12-c536-405b6a7768dd"
      },
      "outputs": [
        {
          "output_type": "stream",
          "name": "stdout",
          "text": [
            "fatal: destination path 'CLEAN' already exists and is not an empty directory.\n"
          ]
        }
      ],
      "source": [
        "!git clone https://github.com/tttianhao/CLEAN.git"
      ]
    },
    {
      "cell_type": "markdown",
      "source": [
        "2. In Colab, change Directory to /content/CLEAN/app\n",
        "Then you could see:\n",
        "['gmm.py',\n",
        " 'train-supconH.py',\n",
        " 'requirements.txt',\n",
        " 'results',\n",
        " 'build.py',\n",
        " 'data',\n",
        " 'DEMO.ipynb',\n",
        " 'CLEAN_infer_fasta.py',\n",
        " 'src',\n",
        " 'inference.py',\n",
        " 'train-triplet.py']"
      ],
      "metadata": {
        "id": "zeUCT6P7RiNV"
      }
    },
    {
      "cell_type": "code",
      "source": [
        "import shutil\n",
        "shutil.copy('/content/drive/MyDrive/MUTarget_data/combined_columns.csv', '/content/CLEAN/app/data/combined_columns.csv')\n",
        "shutil.copy('/content/drive/MyDrive/MUTarget_data/new.csv', '/content/CLEAN/app/data/new.csv')\n",
        "import os\n",
        "os.chdir('/content/CLEAN/app')\n",
        "current_path = os.getcwd()\n",
        "os.listdir(current_path)"
      ],
      "metadata": {
        "colab": {
          "base_uri": "https://localhost:8080/"
        },
        "id": "sNQ1sQQ3Vd3X",
        "outputId": "a871ec1d-95b8-4609-ec21-6a0f83e10a48"
      },
      "execution_count": null,
      "outputs": [
        {
          "output_type": "execute_result",
          "data": {
            "text/plain": [
              "['requirements.txt',\n",
              " 'CLEAN_infer_fasta.py',\n",
              " 'src',\n",
              " 'data',\n",
              " 'DEMO.ipynb',\n",
              " 'gmm.py',\n",
              " 'inference.py',\n",
              " 'train-supconH.py',\n",
              " 'train-triplet.py',\n",
              " 'esm',\n",
              " 'build.py',\n",
              " 'results']"
            ]
          },
          "metadata": {},
          "execution_count": 2
        }
      ]
    },
    {
      "cell_type": "markdown",
      "source": [
        "3. Install the latest release of esm, clone esm gits from GitHub"
      ],
      "metadata": {
        "id": "TXobhQlKSHo3"
      }
    },
    {
      "cell_type": "code",
      "source": [
        "!pip install fair-esm  # latest release\n",
        "!git clone https://github.com/facebookresearch/esm.git"
      ],
      "metadata": {
        "colab": {
          "base_uri": "https://localhost:8080/"
        },
        "id": "q33CW4Y8Walt",
        "outputId": "d7ff6b51-7068-40fd-cf0c-686ab5a924f8"
      },
      "execution_count": null,
      "outputs": [
        {
          "output_type": "stream",
          "name": "stdout",
          "text": [
            "Requirement already satisfied: fair-esm in /usr/local/lib/python3.10/dist-packages (2.0.0)\n",
            "fatal: destination path 'esm' already exists and is not an empty directory.\n"
          ]
        }
      ]
    },
    {
      "cell_type": "markdown",
      "source": [
        "4. Retrive esm from dataset, upload your dataset to ./data"
      ],
      "metadata": {
        "id": "sQJAxUuHS4RS"
      }
    },
    {
      "cell_type": "code",
      "source": [
        "file_path = 'src/CLEAN/utils.py'\n",
        "with open(file_path, 'r') as file:\n",
        "    content = file.read()\n",
        "content = content.replace('esm1b_t33_650M_UR50S', 'esm2_t6_8M_UR50D')"
      ],
      "metadata": {
        "id": "sAmwYHblCH7I"
      },
      "execution_count": null,
      "outputs": []
    },
    {
      "cell_type": "code",
      "source": [
        "# from src.CLEAN.utils import csv_to_fasta, mutate_single_seq_ECs, retrive_esm1b_embedding, compute_esm_distance\n",
        "# csv_to_fasta(\"data/combined_columns.csv\", \"data/combined_columns.fasta\")\n",
        "# retrive_esm1b_embedding(\"combined_columns\")"
      ],
      "metadata": {
        "id": "cIyfT39kSXlO"
      },
      "execution_count": null,
      "outputs": []
    },
    {
      "cell_type": "markdown",
      "source": [
        "5. Mutate single sequences and retrive esm from the mutated sequences"
      ],
      "metadata": {
        "id": "PDIWantfTImz"
      }
    },
    {
      "cell_type": "code",
      "source": [
        "# from src.CLEAN.utils import mutate_single_seq_ECs, retrive_esm1b_embedding\n",
        "# train_file = \"combined_columns\"\n",
        "# train_fasta_file = mutate_single_seq_ECs(train_file)\n",
        "# train_fasta_file"
      ],
      "metadata": {
        "id": "KqvehUKprX-a"
      },
      "execution_count": null,
      "outputs": []
    },
    {
      "cell_type": "code",
      "source": [
        "# retrive_esm1b_embedding(train_fasta_file)"
      ],
      "metadata": {
        "id": "2Hjnn-2hZeBz"
      },
      "execution_count": null,
      "outputs": []
    },
    {
      "cell_type": "markdown",
      "source": [
        "6. Compute default esm distance for training"
      ],
      "metadata": {
        "id": "v2DkVUVVUpx9"
      }
    },
    {
      "cell_type": "code",
      "source": [
        "# from src.CLEAN.utils import compute_esm_distance\n",
        "# train_file = \"combined_columns\"\n",
        "# compute_esm_distance(train_file)"
      ],
      "metadata": {
        "id": "vXtL3JEFgS82"
      },
      "execution_count": null,
      "outputs": []
    },
    {
      "cell_type": "code",
      "source": [
        "file_path = 'train-triplet.py'\n",
        "with open(file_path, 'r') as file:\n",
        "    content = file.read()\n",
        "content = content.replace('from CLEAN.', 'from src.CLEAN.')\n",
        "with open(file_path, 'w') as file:\n",
        "    file.write(content)\n",
        "with open('data/model/triplettest_10.pth', 'w') as file:\n",
        "    file.write('')\n",
        "!python train-triplet.py --training_data combined_columns --model_name triplettest --epoch 10"
      ],
      "metadata": {
        "colab": {
          "base_uri": "https://localhost:8080/"
        },
        "id": "x4MNaRExKoTj",
        "outputId": "ba5959cb-c1ed-4a42-9fa7-cee2b53617d8"
      },
      "execution_count": null,
      "outputs": [
        {
          "output_type": "stream",
          "name": "stdout",
          "text": [
            "==> device used: cuda:0 | dtype used:  torch.float32 \n",
            "==> args: Namespace(learning_rate=0.0005, epoch=10, model_name='triplettest', training_data='combined_columns', hidden_dim=512, out_dim=128, adaptive_rate=100, verbose=False)\n",
            "The number of unique EC numbers:  9\n",
            "---------------------------------------------------------------------------\n",
            "| end of epoch   1 | time:  0.19s | training loss 0.9969\n",
            "---------------------------------------------------------------------------\n",
            "---------------------------------------------------------------------------\n",
            "| end of epoch   2 | time:  0.01s | training loss 1.0215\n",
            "---------------------------------------------------------------------------\n",
            "---------------------------------------------------------------------------\n",
            "| end of epoch   3 | time:  0.01s | training loss 0.8902\n",
            "---------------------------------------------------------------------------\n",
            "---------------------------------------------------------------------------\n",
            "| end of epoch   4 | time:  0.02s | training loss 0.7986\n",
            "---------------------------------------------------------------------------\n",
            "---------------------------------------------------------------------------\n",
            "| end of epoch   5 | time:  0.01s | training loss 0.7019\n",
            "---------------------------------------------------------------------------\n",
            "---------------------------------------------------------------------------\n",
            "| end of epoch   6 | time:  0.01s | training loss 0.8759\n",
            "---------------------------------------------------------------------------\n",
            "---------------------------------------------------------------------------\n",
            "| end of epoch   7 | time:  0.01s | training loss 0.7663\n",
            "---------------------------------------------------------------------------\n",
            "---------------------------------------------------------------------------\n",
            "| end of epoch   8 | time:  0.01s | training loss 0.8695\n",
            "---------------------------------------------------------------------------\n",
            "Best from epoch :   9; loss: 0.7562\n",
            "---------------------------------------------------------------------------\n",
            "| end of epoch   9 | time:  0.02s | training loss 0.7562\n",
            "---------------------------------------------------------------------------\n",
            "---------------------------------------------------------------------------\n",
            "| end of epoch  10 | time:  0.01s | training loss 0.9669\n",
            "---------------------------------------------------------------------------\n"
          ]
        }
      ]
    },
    {
      "cell_type": "code",
      "source": [
        "file_path = 'train-supconH.py'\n",
        "with open(file_path, 'r') as file:\n",
        "    content = file.read()\n",
        "content = content.replace('from CLEAN.', 'from src.CLEAN.')\n",
        "with open(file_path, 'w') as file:\n",
        "    file.write(content)\n",
        "with open('data/model/supcontest_10.pth', 'w') as file:\n",
        "    file.write('')\n",
        "!python train-supconH.py --training_data combined_columns --model_name supcontest --epoch 10 --n_pos 9 --n_neg 30 -T 0.1"
      ],
      "metadata": {
        "colab": {
          "base_uri": "https://localhost:8080/"
        },
        "id": "PkrywT-PLS4u",
        "outputId": "0b25347c-1e31-4312-b5d8-31862c31a428"
      },
      "execution_count": null,
      "outputs": [
        {
          "output_type": "stream",
          "name": "stdout",
          "text": [
            "==> device used: cuda:0 | dtype used:  torch.float32 \n",
            "==> args: Namespace(learning_rate=0.0005, epoch=10, model_name='supcontest', training_data='combined_columns', temp=0.1, n_pos=9, n_neg=30, hidden_dim=512, out_dim=256, adaptive_rate=60, verbose=False)\n",
            "The number of unique EC numbers:  9\n",
            "---------------------------------------------------------------------------\n",
            "| end of epoch   1 | time:  0.29s | training loss 3.6959\n",
            "---------------------------------------------------------------------------\n",
            "---------------------------------------------------------------------------\n",
            "| end of epoch   2 | time:  0.09s | training loss 3.6290\n",
            "---------------------------------------------------------------------------\n",
            "---------------------------------------------------------------------------\n",
            "| end of epoch   3 | time:  0.08s | training loss 3.6345\n",
            "---------------------------------------------------------------------------\n",
            "---------------------------------------------------------------------------\n",
            "| end of epoch   4 | time:  0.09s | training loss 3.5377\n",
            "---------------------------------------------------------------------------\n",
            "---------------------------------------------------------------------------\n",
            "| end of epoch   5 | time:  0.10s | training loss 3.5410\n",
            "---------------------------------------------------------------------------\n",
            "---------------------------------------------------------------------------\n",
            "| end of epoch   6 | time:  0.08s | training loss 3.4415\n",
            "---------------------------------------------------------------------------\n",
            "---------------------------------------------------------------------------\n",
            "| end of epoch   7 | time:  0.08s | training loss 3.3348\n",
            "---------------------------------------------------------------------------\n",
            "---------------------------------------------------------------------------\n",
            "| end of epoch   8 | time:  0.09s | training loss 3.4691\n",
            "---------------------------------------------------------------------------\n",
            "Best from epoch :   9; loss: 3.1837\n",
            "---------------------------------------------------------------------------\n",
            "| end of epoch   9 | time:  0.10s | training loss 3.1837\n",
            "---------------------------------------------------------------------------\n",
            "---------------------------------------------------------------------------\n",
            "| end of epoch  10 | time:  0.09s | training loss 3.3290\n",
            "---------------------------------------------------------------------------\n"
          ]
        }
      ]
    },
    {
      "cell_type": "code",
      "source": [
        "from src.CLEAN.utils import csv_to_fasta, mutate_single_seq_ECs, retrive_esm1b_embedding, compute_esm_distance\n",
        "csv_to_fasta(\"data/new.csv\", \"data/new.fasta\")\n",
        "retrive_esm1b_embedding(\"new\")"
      ],
      "metadata": {
        "id": "FyH-8n87LqUd"
      },
      "execution_count": null,
      "outputs": []
    },
    {
      "cell_type": "code",
      "source": [
        "from src.CLEAN.infer import infer_pvalue\n",
        "train_data = \"combined_columns\"\n",
        "test_data = \"new\"\n",
        "with open('src/CLEAN/infer.py', 'r') as file:\n",
        "    content = file.read()\n",
        "content = content.replace('LayerNormNet(512, 128', 'LayerNormNet(512, 256')"
      ],
      "metadata": {
        "id": "8c0bV2q5L9Yx"
      },
      "execution_count": null,
      "outputs": []
    },
    {
      "cell_type": "code",
      "source": [
        "infer_pvalue(train_data, test_data, p_value=1e-5, nk_random=20, report_metrics=True, pretrained=False, model_name='supcontest')"
      ],
      "metadata": {
        "colab": {
          "base_uri": "https://localhost:8080/",
          "height": 458
        },
        "id": "NFkaJnftMPFZ",
        "outputId": "5915025d-0f9b-4580-d659-28d7dc7e278e"
      },
      "execution_count": null,
      "outputs": [
        {
          "output_type": "stream",
          "name": "stdout",
          "text": [
            "The embedding sizes for train and test: torch.Size([5398, 256]) torch.Size([10, 256])\n"
          ]
        },
        {
          "output_type": "stream",
          "name": "stderr",
          "text": [
            "100%|██████████| 9/9 [00:00<00:00, 1265.46it/s]\n"
          ]
        },
        {
          "output_type": "stream",
          "name": "stdout",
          "text": [
            "Calculating eval distance map, between 10 test ids and 9 train EC cluster centers\n"
          ]
        },
        {
          "output_type": "stream",
          "name": "stderr",
          "text": [
            "10it [00:00, 335.40it/s]\n",
            "100%|██████████| 9/9 [00:00<00:00, 3454.95it/s]\n",
            "20000it [00:01, 10225.62it/s]\n",
            "100%|██████████| 10/10 [00:00<00:00, 221.62it/s]\n"
          ]
        },
        {
          "output_type": "error",
          "ename": "ValueError",
          "evalue": "Only one class present in y_true. ROC AUC score is not defined in that case.",
          "traceback": [
            "\u001b[0;31m---------------------------------------------------------------------------\u001b[0m",
            "\u001b[0;31mValueError\u001b[0m                                Traceback (most recent call last)",
            "\u001b[0;32m<ipython-input-14-427e66f502a4>\u001b[0m in \u001b[0;36m<cell line: 1>\u001b[0;34m()\u001b[0m\n\u001b[0;32m----> 1\u001b[0;31m \u001b[0minfer_pvalue\u001b[0m\u001b[0;34m(\u001b[0m\u001b[0mtrain_data\u001b[0m\u001b[0;34m,\u001b[0m \u001b[0mtest_data\u001b[0m\u001b[0;34m,\u001b[0m \u001b[0mp_value\u001b[0m\u001b[0;34m=\u001b[0m\u001b[0;36m1e-5\u001b[0m\u001b[0;34m,\u001b[0m \u001b[0mnk_random\u001b[0m\u001b[0;34m=\u001b[0m\u001b[0;36m20\u001b[0m\u001b[0;34m,\u001b[0m \u001b[0mreport_metrics\u001b[0m\u001b[0;34m=\u001b[0m\u001b[0;32mTrue\u001b[0m\u001b[0;34m,\u001b[0m \u001b[0mpretrained\u001b[0m\u001b[0;34m=\u001b[0m\u001b[0;32mFalse\u001b[0m\u001b[0;34m,\u001b[0m \u001b[0mmodel_name\u001b[0m\u001b[0;34m=\u001b[0m\u001b[0;34m'supcontest'\u001b[0m\u001b[0;34m)\u001b[0m\u001b[0;34m\u001b[0m\u001b[0;34m\u001b[0m\u001b[0m\n\u001b[0m",
            "\u001b[0;32m/content/CLEAN/app/src/CLEAN/infer.py\u001b[0m in \u001b[0;36minfer_pvalue\u001b[0;34m(train_data, test_data, p_value, nk_random, report_metrics, pretrained, model_name)\u001b[0m\n\u001b[1;32m     61\u001b[0m         \u001b[0mpred_probs\u001b[0m \u001b[0;34m=\u001b[0m \u001b[0mget_pred_probs\u001b[0m\u001b[0;34m(\u001b[0m\u001b[0mout_filename\u001b[0m\u001b[0;34m,\u001b[0m \u001b[0mpred_type\u001b[0m\u001b[0;34m=\u001b[0m\u001b[0;34m'_pvalue'\u001b[0m\u001b[0;34m)\u001b[0m\u001b[0;34m\u001b[0m\u001b[0;34m\u001b[0m\u001b[0m\n\u001b[1;32m     62\u001b[0m         \u001b[0mtrue_label\u001b[0m\u001b[0;34m,\u001b[0m \u001b[0mall_label\u001b[0m \u001b[0;34m=\u001b[0m \u001b[0mget_true_labels\u001b[0m\u001b[0;34m(\u001b[0m\u001b[0;34m'./data/'\u001b[0m \u001b[0;34m+\u001b[0m \u001b[0mtest_data\u001b[0m\u001b[0;34m)\u001b[0m\u001b[0;34m\u001b[0m\u001b[0;34m\u001b[0m\u001b[0m\n\u001b[0;32m---> 63\u001b[0;31m         pre, rec, f1, roc, acc = get_eval_metrics(\n\u001b[0m\u001b[1;32m     64\u001b[0m             pred_label, pred_probs, true_label, all_label)\n\u001b[1;32m     65\u001b[0m         print(f'############ EC calling results using random '\n",
            "\u001b[0;32m/content/CLEAN/app/src/CLEAN/evaluate.py\u001b[0m in \u001b[0;36mget_eval_metrics\u001b[0;34m(pred_label, pred_probs, true_label, all_label)\u001b[0m\n\u001b[1;32m    320\u001b[0m     \u001b[0mrec\u001b[0m \u001b[0;34m=\u001b[0m \u001b[0mrecall_score\u001b[0m\u001b[0;34m(\u001b[0m\u001b[0mtrue_m\u001b[0m\u001b[0;34m,\u001b[0m \u001b[0mpred_m\u001b[0m\u001b[0;34m,\u001b[0m \u001b[0maverage\u001b[0m\u001b[0;34m=\u001b[0m\u001b[0;34m'weighted'\u001b[0m\u001b[0;34m)\u001b[0m\u001b[0;34m\u001b[0m\u001b[0;34m\u001b[0m\u001b[0m\n\u001b[1;32m    321\u001b[0m     \u001b[0mf1\u001b[0m \u001b[0;34m=\u001b[0m \u001b[0mf1_score\u001b[0m\u001b[0;34m(\u001b[0m\u001b[0mtrue_m\u001b[0m\u001b[0;34m,\u001b[0m \u001b[0mpred_m\u001b[0m\u001b[0;34m,\u001b[0m \u001b[0maverage\u001b[0m\u001b[0;34m=\u001b[0m\u001b[0;34m'weighted'\u001b[0m\u001b[0;34m)\u001b[0m\u001b[0;34m\u001b[0m\u001b[0;34m\u001b[0m\u001b[0m\n\u001b[0;32m--> 322\u001b[0;31m     \u001b[0mroc\u001b[0m \u001b[0;34m=\u001b[0m \u001b[0mroc_auc_score\u001b[0m\u001b[0;34m(\u001b[0m\u001b[0mtrue_m\u001b[0m\u001b[0;34m,\u001b[0m \u001b[0mpred_m_auc\u001b[0m\u001b[0;34m,\u001b[0m \u001b[0maverage\u001b[0m\u001b[0;34m=\u001b[0m\u001b[0;34m'weighted'\u001b[0m\u001b[0;34m)\u001b[0m\u001b[0;34m\u001b[0m\u001b[0;34m\u001b[0m\u001b[0m\n\u001b[0m\u001b[1;32m    323\u001b[0m     \u001b[0macc\u001b[0m \u001b[0;34m=\u001b[0m \u001b[0maccuracy_score\u001b[0m\u001b[0;34m(\u001b[0m\u001b[0mtrue_m\u001b[0m\u001b[0;34m,\u001b[0m \u001b[0mpred_m\u001b[0m\u001b[0;34m)\u001b[0m\u001b[0;34m\u001b[0m\u001b[0;34m\u001b[0m\u001b[0m\n\u001b[1;32m    324\u001b[0m     \u001b[0;32mreturn\u001b[0m \u001b[0mpre\u001b[0m\u001b[0;34m,\u001b[0m \u001b[0mrec\u001b[0m\u001b[0;34m,\u001b[0m \u001b[0mf1\u001b[0m\u001b[0;34m,\u001b[0m \u001b[0mroc\u001b[0m\u001b[0;34m,\u001b[0m \u001b[0macc\u001b[0m\u001b[0;34m\u001b[0m\u001b[0;34m\u001b[0m\u001b[0m\n",
            "\u001b[0;32m/usr/local/lib/python3.10/dist-packages/sklearn/metrics/_ranking.py\u001b[0m in \u001b[0;36mroc_auc_score\u001b[0;34m(y_true, y_score, average, sample_weight, max_fpr, multi_class, labels)\u001b[0m\n\u001b[1;32m    570\u001b[0m         \u001b[0mlabels\u001b[0m \u001b[0;34m=\u001b[0m \u001b[0mnp\u001b[0m\u001b[0;34m.\u001b[0m\u001b[0munique\u001b[0m\u001b[0;34m(\u001b[0m\u001b[0my_true\u001b[0m\u001b[0;34m)\u001b[0m\u001b[0;34m\u001b[0m\u001b[0;34m\u001b[0m\u001b[0m\n\u001b[1;32m    571\u001b[0m         \u001b[0my_true\u001b[0m \u001b[0;34m=\u001b[0m \u001b[0mlabel_binarize\u001b[0m\u001b[0;34m(\u001b[0m\u001b[0my_true\u001b[0m\u001b[0;34m,\u001b[0m \u001b[0mclasses\u001b[0m\u001b[0;34m=\u001b[0m\u001b[0mlabels\u001b[0m\u001b[0;34m)\u001b[0m\u001b[0;34m[\u001b[0m\u001b[0;34m:\u001b[0m\u001b[0;34m,\u001b[0m \u001b[0;36m0\u001b[0m\u001b[0;34m]\u001b[0m\u001b[0;34m\u001b[0m\u001b[0;34m\u001b[0m\u001b[0m\n\u001b[0;32m--> 572\u001b[0;31m         return _average_binary_score(\n\u001b[0m\u001b[1;32m    573\u001b[0m             \u001b[0mpartial\u001b[0m\u001b[0;34m(\u001b[0m\u001b[0m_binary_roc_auc_score\u001b[0m\u001b[0;34m,\u001b[0m \u001b[0mmax_fpr\u001b[0m\u001b[0;34m=\u001b[0m\u001b[0mmax_fpr\u001b[0m\u001b[0;34m)\u001b[0m\u001b[0;34m,\u001b[0m\u001b[0;34m\u001b[0m\u001b[0;34m\u001b[0m\u001b[0m\n\u001b[1;32m    574\u001b[0m             \u001b[0my_true\u001b[0m\u001b[0;34m,\u001b[0m\u001b[0;34m\u001b[0m\u001b[0;34m\u001b[0m\u001b[0m\n",
            "\u001b[0;32m/usr/local/lib/python3.10/dist-packages/sklearn/metrics/_base.py\u001b[0m in \u001b[0;36m_average_binary_score\u001b[0;34m(binary_metric, y_true, y_score, average, sample_weight)\u001b[0m\n\u001b[1;32m     73\u001b[0m \u001b[0;34m\u001b[0m\u001b[0m\n\u001b[1;32m     74\u001b[0m     \u001b[0;32mif\u001b[0m \u001b[0my_type\u001b[0m \u001b[0;34m==\u001b[0m \u001b[0;34m\"binary\"\u001b[0m\u001b[0;34m:\u001b[0m\u001b[0;34m\u001b[0m\u001b[0;34m\u001b[0m\u001b[0m\n\u001b[0;32m---> 75\u001b[0;31m         \u001b[0;32mreturn\u001b[0m \u001b[0mbinary_metric\u001b[0m\u001b[0;34m(\u001b[0m\u001b[0my_true\u001b[0m\u001b[0;34m,\u001b[0m \u001b[0my_score\u001b[0m\u001b[0;34m,\u001b[0m \u001b[0msample_weight\u001b[0m\u001b[0;34m=\u001b[0m\u001b[0msample_weight\u001b[0m\u001b[0;34m)\u001b[0m\u001b[0;34m\u001b[0m\u001b[0;34m\u001b[0m\u001b[0m\n\u001b[0m\u001b[1;32m     76\u001b[0m \u001b[0;34m\u001b[0m\u001b[0m\n\u001b[1;32m     77\u001b[0m     \u001b[0mcheck_consistent_length\u001b[0m\u001b[0;34m(\u001b[0m\u001b[0my_true\u001b[0m\u001b[0;34m,\u001b[0m \u001b[0my_score\u001b[0m\u001b[0;34m,\u001b[0m \u001b[0msample_weight\u001b[0m\u001b[0;34m)\u001b[0m\u001b[0;34m\u001b[0m\u001b[0;34m\u001b[0m\u001b[0m\n",
            "\u001b[0;32m/usr/local/lib/python3.10/dist-packages/sklearn/metrics/_ranking.py\u001b[0m in \u001b[0;36m_binary_roc_auc_score\u001b[0;34m(y_true, y_score, sample_weight, max_fpr)\u001b[0m\n\u001b[1;32m    337\u001b[0m     \u001b[0;34m\"\"\"Binary roc auc score.\"\"\"\u001b[0m\u001b[0;34m\u001b[0m\u001b[0;34m\u001b[0m\u001b[0m\n\u001b[1;32m    338\u001b[0m     \u001b[0;32mif\u001b[0m \u001b[0mlen\u001b[0m\u001b[0;34m(\u001b[0m\u001b[0mnp\u001b[0m\u001b[0;34m.\u001b[0m\u001b[0munique\u001b[0m\u001b[0;34m(\u001b[0m\u001b[0my_true\u001b[0m\u001b[0;34m)\u001b[0m\u001b[0;34m)\u001b[0m \u001b[0;34m!=\u001b[0m \u001b[0;36m2\u001b[0m\u001b[0;34m:\u001b[0m\u001b[0;34m\u001b[0m\u001b[0;34m\u001b[0m\u001b[0m\n\u001b[0;32m--> 339\u001b[0;31m         raise ValueError(\n\u001b[0m\u001b[1;32m    340\u001b[0m             \u001b[0;34m\"Only one class present in y_true. ROC AUC score \"\u001b[0m\u001b[0;34m\u001b[0m\u001b[0;34m\u001b[0m\u001b[0m\n\u001b[1;32m    341\u001b[0m             \u001b[0;34m\"is not defined in that case.\"\u001b[0m\u001b[0;34m\u001b[0m\u001b[0;34m\u001b[0m\u001b[0m\n",
            "\u001b[0;31mValueError\u001b[0m: Only one class present in y_true. ROC AUC score is not defined in that case."
          ]
        }
      ]
    },
    {
      "cell_type": "code",
      "source": [
        "from src.CLEAN.infer import infer_pvalue\n",
        "train_data = \"combined_columns\"\n",
        "test_data = \"new\"\n",
        "with open('src/CLEAN/infer.py', 'r') as file:\n",
        "    content = file.read()\n",
        "content = content.replace('LayerNormNet(512, 128', 'LayerNormNet(512, 256')"
      ],
      "metadata": {
        "id": "Cx5vZzerOlFj"
      },
      "execution_count": null,
      "outputs": []
    },
    {
      "cell_type": "code",
      "source": [
        "infer_pvalue(train_data, test_data, p_value=1e-5, nk_random=20, report_metrics=True, pretrained=False, model_name='triplettest')"
      ],
      "metadata": {
        "colab": {
          "base_uri": "https://localhost:8080/",
          "height": 368
        },
        "id": "5uMJ8oDoOeP-",
        "outputId": "97cdb5ed-fa77-4256-b115-d0de7616c6fe"
      },
      "execution_count": null,
      "outputs": [
        {
          "output_type": "error",
          "ename": "RuntimeError",
          "evalue": "Error(s) in loading state_dict for LayerNormNet:\n\tsize mismatch for fc3.weight: copying a param with shape torch.Size([128, 512]) from checkpoint, the shape in current model is torch.Size([256, 512]).\n\tsize mismatch for fc3.bias: copying a param with shape torch.Size([128]) from checkpoint, the shape in current model is torch.Size([256]).",
          "traceback": [
            "\u001b[0;31m---------------------------------------------------------------------------\u001b[0m",
            "\u001b[0;31mRuntimeError\u001b[0m                              Traceback (most recent call last)",
            "\u001b[0;32m<ipython-input-17-84f5f6bf5a05>\u001b[0m in \u001b[0;36m<cell line: 1>\u001b[0;34m()\u001b[0m\n\u001b[0;32m----> 1\u001b[0;31m \u001b[0minfer_pvalue\u001b[0m\u001b[0;34m(\u001b[0m\u001b[0mtrain_data\u001b[0m\u001b[0;34m,\u001b[0m \u001b[0mtest_data\u001b[0m\u001b[0;34m,\u001b[0m \u001b[0mp_value\u001b[0m\u001b[0;34m=\u001b[0m\u001b[0;36m1e-5\u001b[0m\u001b[0;34m,\u001b[0m \u001b[0mnk_random\u001b[0m\u001b[0;34m=\u001b[0m\u001b[0;36m20\u001b[0m\u001b[0;34m,\u001b[0m \u001b[0mreport_metrics\u001b[0m\u001b[0;34m=\u001b[0m\u001b[0;32mTrue\u001b[0m\u001b[0;34m,\u001b[0m \u001b[0mpretrained\u001b[0m\u001b[0;34m=\u001b[0m\u001b[0;32mFalse\u001b[0m\u001b[0;34m,\u001b[0m \u001b[0mmodel_name\u001b[0m\u001b[0;34m=\u001b[0m\u001b[0;34m'triplettest'\u001b[0m\u001b[0;34m)\u001b[0m\u001b[0;34m\u001b[0m\u001b[0;34m\u001b[0m\u001b[0m\n\u001b[0m",
            "\u001b[0;32m/content/CLEAN/app/src/CLEAN/infer.py\u001b[0m in \u001b[0;36minfer_pvalue\u001b[0;34m(train_data, test_data, p_value, nk_random, report_metrics, pretrained, model_name)\u001b[0m\n\u001b[1;32m     35\u001b[0m             \u001b[0;32mraise\u001b[0m \u001b[0mException\u001b[0m\u001b[0;34m(\u001b[0m\u001b[0;34m'No model found!'\u001b[0m\u001b[0;34m)\u001b[0m\u001b[0;34m\u001b[0m\u001b[0;34m\u001b[0m\u001b[0m\n\u001b[1;32m     36\u001b[0m \u001b[0;34m\u001b[0m\u001b[0m\n\u001b[0;32m---> 37\u001b[0;31m     \u001b[0mmodel\u001b[0m\u001b[0;34m.\u001b[0m\u001b[0mload_state_dict\u001b[0m\u001b[0;34m(\u001b[0m\u001b[0mcheckpoint\u001b[0m\u001b[0;34m)\u001b[0m\u001b[0;34m\u001b[0m\u001b[0;34m\u001b[0m\u001b[0m\n\u001b[0m\u001b[1;32m     38\u001b[0m     \u001b[0mmodel\u001b[0m\u001b[0;34m.\u001b[0m\u001b[0meval\u001b[0m\u001b[0;34m(\u001b[0m\u001b[0;34m)\u001b[0m\u001b[0;34m\u001b[0m\u001b[0;34m\u001b[0m\u001b[0m\n\u001b[1;32m     39\u001b[0m     \u001b[0;31m# load precomputed EC cluster center embeddings if possible\u001b[0m\u001b[0;34m\u001b[0m\u001b[0;34m\u001b[0m\u001b[0m\n",
            "\u001b[0;32m/usr/local/lib/python3.10/dist-packages/torch/nn/modules/module.py\u001b[0m in \u001b[0;36mload_state_dict\u001b[0;34m(self, state_dict, strict, assign)\u001b[0m\n\u001b[1;32m   2150\u001b[0m \u001b[0;34m\u001b[0m\u001b[0m\n\u001b[1;32m   2151\u001b[0m         \u001b[0;32mif\u001b[0m \u001b[0mlen\u001b[0m\u001b[0;34m(\u001b[0m\u001b[0merror_msgs\u001b[0m\u001b[0;34m)\u001b[0m \u001b[0;34m>\u001b[0m \u001b[0;36m0\u001b[0m\u001b[0;34m:\u001b[0m\u001b[0;34m\u001b[0m\u001b[0;34m\u001b[0m\u001b[0m\n\u001b[0;32m-> 2152\u001b[0;31m             raise RuntimeError('Error(s) in loading state_dict for {}:\\n\\t{}'.format(\n\u001b[0m\u001b[1;32m   2153\u001b[0m                                self.__class__.__name__, \"\\n\\t\".join(error_msgs)))\n\u001b[1;32m   2154\u001b[0m         \u001b[0;32mreturn\u001b[0m \u001b[0m_IncompatibleKeys\u001b[0m\u001b[0;34m(\u001b[0m\u001b[0mmissing_keys\u001b[0m\u001b[0;34m,\u001b[0m \u001b[0munexpected_keys\u001b[0m\u001b[0;34m)\u001b[0m\u001b[0;34m\u001b[0m\u001b[0;34m\u001b[0m\u001b[0m\n",
            "\u001b[0;31mRuntimeError\u001b[0m: Error(s) in loading state_dict for LayerNormNet:\n\tsize mismatch for fc3.weight: copying a param with shape torch.Size([128, 512]) from checkpoint, the shape in current model is torch.Size([256, 512]).\n\tsize mismatch for fc3.bias: copying a param with shape torch.Size([128]) from checkpoint, the shape in current model is torch.Size([256])."
          ]
        }
      ]
    }
  ]
}