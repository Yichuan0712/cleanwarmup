{
  "nbformat": 4,
  "nbformat_minor": 0,
  "metadata": {
    "colab": {
      "provenance": [],
      "gpuType": "T4"
    },
    "kernelspec": {
      "name": "python3",
      "display_name": "Python 3"
    },
    "language_info": {
      "name": "python"
    },
    "accelerator": "GPU"
  },
  "cells": [
    {
      "cell_type": "code",
      "execution_count": 1,
      "metadata": {
        "id": "mJc3GNJzZczJ"
      },
      "outputs": [],
      "source": [
        "# from google.colab import drive\n",
        "# drive.mount('/content/drive')"
      ]
    },
    {
      "cell_type": "code",
      "source": [
        "# !git clone https://github.com/tttianhao/CLEAN.git"
      ],
      "metadata": {
        "id": "4xH9pW_Ca7xD"
      },
      "execution_count": 2,
      "outputs": []
    },
    {
      "cell_type": "code",
      "source": [
        "import os\n",
        "os.chdir('/content/CLEAN/app')\n",
        "current_path = os.getcwd()\n",
        "os.listdir(current_path)"
      ],
      "metadata": {
        "colab": {
          "base_uri": "https://localhost:8080/"
        },
        "id": "UCZ3lmugbYZx",
        "outputId": "3d2de880-e692-4507-ae9c-cc9607bf1619"
      },
      "execution_count": 3,
      "outputs": [
        {
          "output_type": "execute_result",
          "data": {
            "text/plain": [
              "['DEMO.ipynb',\n",
              " 'results',\n",
              " 'train-supconH.py',\n",
              " 'data',\n",
              " 'inference.py',\n",
              " 'new-train-triplet.py',\n",
              " 'requirements.txt',\n",
              " 'esm',\n",
              " 'CLEAN_infer_fasta.py',\n",
              " 'src',\n",
              " 'gmm.py',\n",
              " 'new-train-supconH.py',\n",
              " 'build.py',\n",
              " 'train-triplet.py']"
            ]
          },
          "metadata": {},
          "execution_count": 3
        }
      ]
    },
    {
      "cell_type": "code",
      "source": [
        "# !pip install fair-esm  # latest release\n",
        "# !git clone https://github.com/facebookresearch/esm.git"
      ],
      "metadata": {
        "id": "nsKgGDnqb6SY"
      },
      "execution_count": 4,
      "outputs": []
    },
    {
      "cell_type": "code",
      "source": [
        "# !unzip -uq /content/CLEAN/app/data/esm_data-20240206T220954Z-001.zip -d /content/CLEAN/app/data"
      ],
      "metadata": {
        "id": "Igup6PUlcWFp"
      },
      "execution_count": 5,
      "outputs": []
    },
    {
      "cell_type": "code",
      "source": [
        "# from src.CLEAN.newutilsT6 import compute_esm_distance\n",
        "# train_file = \"combined_columns\"\n",
        "# compute_esm_distance(train_file)\n",
        "\n",
        "# train_file_list = ['train_01', 'train_12', 'train_23', 'train_34', 'train_40']\n",
        "# for train_file in train_file_list:\n",
        "#   compute_esm_distance(train_file)"
      ],
      "metadata": {
        "id": "6Y1cSnwadbvn"
      },
      "execution_count": 6,
      "outputs": []
    },
    {
      "cell_type": "code",
      "source": [
        "# !cp -r /content/CLEAN/app/data/distance_map /content/drive/MyDrive/"
      ],
      "metadata": {
        "id": "_SWnKLb5eq82"
      },
      "execution_count": 7,
      "outputs": []
    },
    {
      "cell_type": "code",
      "source": [
        "# !python new-train-triplet.py --training_data train_40 --model_name combined_columns_triplet --epoch 2500"
      ],
      "metadata": {
        "id": "v9EFO6BVf8nd"
      },
      "execution_count": 8,
      "outputs": []
    },
    {
      "cell_type": "code",
      "source": [
        "# !python new-train-supconH.py --training_data train_40 --model_name combined_columns_supcon --epoch 1500 --n_pos 9 --n_neg 30 -T 0.1"
      ],
      "metadata": {
        "id": "s00ioVkiiWlL"
      },
      "execution_count": 9,
      "outputs": []
    },
    {
      "cell_type": "code",
      "source": [
        "# !cp -r /content/CLEAN/app/data/model /content/drive/MyDrive/"
      ],
      "metadata": {
        "id": "ie9n91u0jXNr"
      },
      "execution_count": 10,
      "outputs": []
    },
    {
      "cell_type": "code",
      "source": [
        "from src.CLEAN.utils import csv_to_fasta\n",
        "csv_to_fasta(\"data/test_0.csv\", \"data/test_0.fasta\")\n",
        "csv_to_fasta(\"data/test_1.csv\", \"data/test_1.fasta\")\n",
        "csv_to_fasta(\"data/test_2.csv\", \"data/test_2.fasta\")\n",
        "csv_to_fasta(\"data/test_3.csv\", \"data/test_3.fasta\")\n",
        "csv_to_fasta(\"data/test_4.csv\", \"data/test_4.fasta\")"
      ],
      "metadata": {
        "id": "8kmG0tFMrVpu"
      },
      "execution_count": 11,
      "outputs": []
    },
    {
      "cell_type": "code",
      "source": [
        "!cp -r /content/drive/MyDrive/model_01/combined_columns_supcon.pth /content/CLEAN/app/data/model\n",
        "!cp -r /content/drive/MyDrive/model_01/combined_columns_triplet.pth /content/CLEAN/app/data/model\n",
        "# !cp -r /content/drive/MyDrive/model_12 /content/CLEAN/app/data/model\n",
        "# !cp -r /content/drive/MyDrive/model_23 /content/CLEAN/app/data/model\n",
        "# !cp -r /content/drive/MyDrive/model_34 /content/CLEAN/app/data/model\n",
        "# !cp -r /content/drive/MyDrive/model_40 /content/CLEAN/app/data/model"
      ],
      "metadata": {
        "id": "yAZBHsGSsUuk"
      },
      "execution_count": 12,
      "outputs": []
    },
    {
      "cell_type": "code",
      "source": [
        "from src.CLEAN.infer import infer_maxsep\n",
        "train_data = \"train_01\"\n",
        "test_data = \"validation_0\"\n",
        "infer_maxsep(train_data, test_data, report_metrics=True, pretrained=False, model_name=\"combined_columns_triplet\")\n",
        "train_data = \"train_01\"\n",
        "test_data = \"test_1\"\n",
        "infer_maxsep(train_data, test_data, report_metrics=True, pretrained=False, model_name=\"combined_columns_triplet\")"
      ],
      "metadata": {
        "colab": {
          "base_uri": "https://localhost:8080/"
        },
        "id": "U0N8g8cVr0li",
        "outputId": "ccda4bd3-6347-4de4-de7e-5996d4a52e38"
      },
      "execution_count": 14,
      "outputs": [
        {
          "output_type": "stream",
          "name": "stdout",
          "text": [
            "The embedding sizes for train and test: torch.Size([3235, 128]) torch.Size([1065, 128])\n"
          ]
        },
        {
          "output_type": "stream",
          "name": "stderr",
          "text": [
            "100%|██████████| 9/9 [00:00<00:00, 4729.83it/s]\n"
          ]
        },
        {
          "output_type": "stream",
          "name": "stdout",
          "text": [
            "Calculating eval distance map, between 1065 test ids and 9 train EC cluster centers\n"
          ]
        },
        {
          "output_type": "stream",
          "name": "stderr",
          "text": [
            "1065it [00:00, 7983.34it/s]\n"
          ]
        },
        {
          "output_type": "stream",
          "name": "stdout",
          "text": [
            "############ EC calling results using maximum separation ############\n",
            "---------------------------------------------------------------------------\n",
            ">>> total samples: 1065 | total ec: 9 \n",
            ">>> precision: 0.809 | recall: 0.853| F1: 0.818 | AUC: 0.912 \n",
            "---------------------------------------------------------------------------\n",
            "The embedding sizes for train and test: torch.Size([3235, 128]) torch.Size([1061, 128])\n"
          ]
        },
        {
          "output_type": "stream",
          "name": "stderr",
          "text": [
            "100%|██████████| 9/9 [00:00<00:00, 3127.23it/s]\n"
          ]
        },
        {
          "output_type": "stream",
          "name": "stdout",
          "text": [
            "Calculating eval distance map, between 1061 test ids and 9 train EC cluster centers\n"
          ]
        },
        {
          "output_type": "stream",
          "name": "stderr",
          "text": [
            "1061it [00:00, 9798.31it/s] \n"
          ]
        },
        {
          "output_type": "stream",
          "name": "stdout",
          "text": [
            "############ EC calling results using maximum separation ############\n",
            "---------------------------------------------------------------------------\n",
            ">>> total samples: 1061 | total ec: 9 \n",
            ">>> precision: 0.796 | recall: 0.879| F1: 0.825 | AUC: 0.92 \n",
            "---------------------------------------------------------------------------\n"
          ]
        }
      ]
    },
    {
      "cell_type": "code",
      "source": [
        "train_data = \"train_12\"\n",
        "test_data = \"validation_1\"\n",
        "infer_maxsep(train_data, test_data, report_metrics=True, pretrained=False, model_name=\"model_12/combined_columns_triplet\")\n",
        "train_data = \"train_12\"\n",
        "test_data = \"test_2\"\n",
        "infer_maxsep(train_data, test_data, report_metrics=True, pretrained=False, model_name=\"model_12/combined_columns_triplet\")"
      ],
      "metadata": {
        "colab": {
          "base_uri": "https://localhost:8080/"
        },
        "id": "2xdKvdAcyOW5",
        "outputId": "7d07af20-b10a-4ff4-9585-2ecce1a1a848"
      },
      "execution_count": 15,
      "outputs": [
        {
          "output_type": "stream",
          "name": "stdout",
          "text": [
            "The embedding sizes for train and test: torch.Size([3245, 128]) torch.Size([1061, 128])\n"
          ]
        },
        {
          "output_type": "stream",
          "name": "stderr",
          "text": [
            "100%|██████████| 9/9 [00:00<00:00, 1838.98it/s]\n"
          ]
        },
        {
          "output_type": "stream",
          "name": "stdout",
          "text": [
            "Calculating eval distance map, between 1061 test ids and 9 train EC cluster centers\n"
          ]
        },
        {
          "output_type": "stream",
          "name": "stderr",
          "text": [
            "1061it [00:00, 9020.69it/s]\n"
          ]
        },
        {
          "output_type": "stream",
          "name": "stdout",
          "text": [
            "############ EC calling results using maximum separation ############\n",
            "---------------------------------------------------------------------------\n",
            ">>> total samples: 1061 | total ec: 9 \n",
            ">>> precision: 0.783 | recall: 0.865| F1: 0.809 | AUC: 0.916 \n",
            "---------------------------------------------------------------------------\n",
            "The embedding sizes for train and test: torch.Size([3245, 128]) torch.Size([1058, 128])\n"
          ]
        },
        {
          "output_type": "stream",
          "name": "stderr",
          "text": [
            "100%|██████████| 9/9 [00:00<00:00, 4608.00it/s]\n"
          ]
        },
        {
          "output_type": "stream",
          "name": "stdout",
          "text": [
            "Calculating eval distance map, between 1058 test ids and 9 train EC cluster centers\n"
          ]
        },
        {
          "output_type": "stream",
          "name": "stderr",
          "text": [
            "1058it [00:00, 8220.56it/s]\n"
          ]
        },
        {
          "output_type": "stream",
          "name": "stdout",
          "text": [
            "############ EC calling results using maximum separation ############\n",
            "---------------------------------------------------------------------------\n",
            ">>> total samples: 1058 | total ec: 9 \n",
            ">>> precision: 0.772 | recall: 0.835| F1: 0.79 | AUC: 0.898 \n",
            "---------------------------------------------------------------------------\n"
          ]
        }
      ]
    },
    {
      "cell_type": "code",
      "source": [
        "train_data = \"train_23\"\n",
        "test_data = \"validation_2\"\n",
        "infer_maxsep(train_data, test_data, report_metrics=True, pretrained=False, model_name=\"model_23/combined_columns_triplet\")\n",
        "\n",
        "test_data = \"test_3\"\n",
        "infer_maxsep(train_data, test_data, report_metrics=True, pretrained=False, model_name=\"model_23/combined_columns_triplet\")"
      ],
      "metadata": {
        "colab": {
          "base_uri": "https://localhost:8080/"
        },
        "id": "w_CSOwhLy0k8",
        "outputId": "a882bf2d-145f-4b1e-96fc-c8e2cd19e15e"
      },
      "execution_count": 16,
      "outputs": [
        {
          "output_type": "stream",
          "name": "stdout",
          "text": [
            "The embedding sizes for train and test: torch.Size([3239, 128]) torch.Size([1058, 128])\n"
          ]
        },
        {
          "output_type": "stream",
          "name": "stderr",
          "text": [
            "100%|██████████| 9/9 [00:00<00:00, 2887.53it/s]\n"
          ]
        },
        {
          "output_type": "stream",
          "name": "stdout",
          "text": [
            "Calculating eval distance map, between 1058 test ids and 9 train EC cluster centers\n"
          ]
        },
        {
          "output_type": "stream",
          "name": "stderr",
          "text": [
            "1058it [00:00, 7720.96it/s]\n"
          ]
        },
        {
          "output_type": "stream",
          "name": "stdout",
          "text": [
            "############ EC calling results using maximum separation ############\n",
            "---------------------------------------------------------------------------\n",
            ">>> total samples: 1058 | total ec: 9 \n",
            ">>> precision: 0.798 | recall: 0.846| F1: 0.808 | AUC: 0.903 \n",
            "---------------------------------------------------------------------------\n",
            "The embedding sizes for train and test: torch.Size([3239, 128]) torch.Size([1058, 128])\n"
          ]
        },
        {
          "output_type": "stream",
          "name": "stderr",
          "text": [
            "100%|██████████| 9/9 [00:00<00:00, 4157.81it/s]\n"
          ]
        },
        {
          "output_type": "stream",
          "name": "stdout",
          "text": [
            "Calculating eval distance map, between 1058 test ids and 9 train EC cluster centers\n"
          ]
        },
        {
          "output_type": "stream",
          "name": "stderr",
          "text": [
            "1058it [00:00, 8280.51it/s]\n"
          ]
        },
        {
          "output_type": "stream",
          "name": "stdout",
          "text": [
            "############ EC calling results using maximum separation ############\n",
            "---------------------------------------------------------------------------\n",
            ">>> total samples: 1058 | total ec: 9 \n",
            ">>> precision: 0.821 | recall: 0.88| F1: 0.836 | AUC: 0.929 \n",
            "---------------------------------------------------------------------------\n"
          ]
        }
      ]
    },
    {
      "cell_type": "code",
      "source": [
        "train_data = \"train_34\"\n",
        "test_data = \"validation_3\"\n",
        "infer_maxsep(train_data, test_data, report_metrics=True, pretrained=False, model_name=\"model_34/combined_columns_triplet\")\n",
        "\n",
        "test_data = \"test_4\"\n",
        "infer_maxsep(train_data, test_data, report_metrics=True, pretrained=False, model_name=\"model_34/combined_columns_triplet\")"
      ],
      "metadata": {
        "colab": {
          "base_uri": "https://localhost:8080/"
        },
        "id": "wIhVA2mfzAJm",
        "outputId": "b4eff828-aaf1-49c4-b988-1731724170ab"
      },
      "execution_count": 17,
      "outputs": [
        {
          "output_type": "stream",
          "name": "stdout",
          "text": [
            "The embedding sizes for train and test: torch.Size([3244, 128]) torch.Size([1058, 128])\n"
          ]
        },
        {
          "output_type": "stream",
          "name": "stderr",
          "text": [
            "100%|██████████| 9/9 [00:00<00:00, 6381.87it/s]\n"
          ]
        },
        {
          "output_type": "stream",
          "name": "stdout",
          "text": [
            "Calculating eval distance map, between 1058 test ids and 9 train EC cluster centers\n"
          ]
        },
        {
          "output_type": "stream",
          "name": "stderr",
          "text": [
            "1058it [00:00, 5998.48it/s]\n"
          ]
        },
        {
          "output_type": "stream",
          "name": "stdout",
          "text": [
            "############ EC calling results using maximum separation ############\n",
            "---------------------------------------------------------------------------\n",
            ">>> total samples: 1058 | total ec: 9 \n",
            ">>> precision: 0.821 | recall: 0.856| F1: 0.821 | AUC: 0.917 \n",
            "---------------------------------------------------------------------------\n",
            "The embedding sizes for train and test: torch.Size([3244, 128]) torch.Size([1058, 128])\n"
          ]
        },
        {
          "output_type": "stream",
          "name": "stderr",
          "text": [
            "100%|██████████| 9/9 [00:00<00:00, 4401.16it/s]\n"
          ]
        },
        {
          "output_type": "stream",
          "name": "stdout",
          "text": [
            "Calculating eval distance map, between 1058 test ids and 9 train EC cluster centers\n"
          ]
        },
        {
          "output_type": "stream",
          "name": "stderr",
          "text": [
            "1058it [00:00, 9590.54it/s]\n"
          ]
        },
        {
          "output_type": "stream",
          "name": "stdout",
          "text": [
            "############ EC calling results using maximum separation ############\n",
            "---------------------------------------------------------------------------\n",
            ">>> total samples: 1058 | total ec: 9 \n",
            ">>> precision: 0.805 | recall: 0.827| F1: 0.8 | AUC: 0.898 \n",
            "---------------------------------------------------------------------------\n"
          ]
        }
      ]
    },
    {
      "cell_type": "code",
      "source": [
        "train_data = \"train_40\"\n",
        "test_data = \"validation_4\"\n",
        "infer_maxsep(train_data, test_data, report_metrics=True, pretrained=False, model_name=\"model_40/combined_columns_triplet\")\n",
        "\n",
        "test_data = \"test_0\"\n",
        "infer_maxsep(train_data, test_data, report_metrics=True, pretrained=False, model_name=\"model_40/combined_columns_triplet\")"
      ],
      "metadata": {
        "colab": {
          "base_uri": "https://localhost:8080/"
        },
        "id": "4o0KQ5L0zKAi",
        "outputId": "2c5a2fd2-15e5-4463-aa86-77abc1a4ea03"
      },
      "execution_count": 18,
      "outputs": [
        {
          "output_type": "stream",
          "name": "stdout",
          "text": [
            "The embedding sizes for train and test: torch.Size([3231, 128]) torch.Size([1058, 128])\n"
          ]
        },
        {
          "output_type": "stream",
          "name": "stderr",
          "text": [
            "100%|██████████| 9/9 [00:00<00:00, 4537.65it/s]\n"
          ]
        },
        {
          "output_type": "stream",
          "name": "stdout",
          "text": [
            "Calculating eval distance map, between 1058 test ids and 9 train EC cluster centers\n"
          ]
        },
        {
          "output_type": "stream",
          "name": "stderr",
          "text": [
            "1058it [00:00, 10078.84it/s]\n"
          ]
        },
        {
          "output_type": "stream",
          "name": "stdout",
          "text": [
            "############ EC calling results using maximum separation ############\n",
            "---------------------------------------------------------------------------\n",
            ">>> total samples: 1058 | total ec: 9 \n",
            ">>> precision: 0.813 | recall: 0.86| F1: 0.822 | AUC: 0.914 \n",
            "---------------------------------------------------------------------------\n",
            "The embedding sizes for train and test: torch.Size([3231, 128]) torch.Size([1065, 128])\n"
          ]
        },
        {
          "output_type": "stream",
          "name": "stderr",
          "text": [
            "100%|██████████| 9/9 [00:00<00:00, 5907.47it/s]\n"
          ]
        },
        {
          "output_type": "stream",
          "name": "stdout",
          "text": [
            "Calculating eval distance map, between 1065 test ids and 9 train EC cluster centers\n"
          ]
        },
        {
          "output_type": "stream",
          "name": "stderr",
          "text": [
            "1065it [00:00, 7633.01it/s]\n"
          ]
        },
        {
          "output_type": "stream",
          "name": "stdout",
          "text": [
            "############ EC calling results using maximum separation ############\n",
            "---------------------------------------------------------------------------\n",
            ">>> total samples: 1065 | total ec: 9 \n",
            ">>> precision: 0.813 | recall: 0.855| F1: 0.819 | AUC: 0.915 \n",
            "---------------------------------------------------------------------------\n"
          ]
        }
      ]
    },
    {
      "cell_type": "code",
      "source": [
        "from src.CLEAN.infer import infer_pvalue\n",
        "train_data = \"train_01\"\n",
        "test_data = \"validation_0\"\n",
        "infer_pvalue(train_data, test_data, p_value=1e-5, nk_random=20, report_metrics=True, pretrained=False, model_name='model_01/combined_columns_triplet')\n",
        "test_data = \"test_1\"\n",
        "infer_pvalue(train_data, test_data, p_value=1e-5, nk_random=20, report_metrics=True, pretrained=False, model_name='model_01/combined_columns_triplet')"
      ],
      "metadata": {
        "colab": {
          "base_uri": "https://localhost:8080/"
        },
        "id": "uK9uT7L6zcsM",
        "outputId": "539f4786-6fe5-47ab-b463-bf592f16cb40"
      },
      "execution_count": 20,
      "outputs": [
        {
          "output_type": "stream",
          "name": "stdout",
          "text": [
            "The embedding sizes for train and test: torch.Size([3235, 128]) torch.Size([1065, 128])\n"
          ]
        },
        {
          "output_type": "stream",
          "name": "stderr",
          "text": [
            "100%|██████████| 9/9 [00:00<00:00, 3423.92it/s]\n"
          ]
        },
        {
          "output_type": "stream",
          "name": "stdout",
          "text": [
            "Calculating eval distance map, between 1065 test ids and 9 train EC cluster centers\n"
          ]
        },
        {
          "output_type": "stream",
          "name": "stderr",
          "text": [
            "1065it [00:00, 8816.89it/s]\n",
            "100%|██████████| 9/9 [00:00<00:00, 2397.96it/s]\n",
            "20000it [00:02, 8985.72it/s]\n",
            "100%|██████████| 1065/1065 [00:03<00:00, 314.44it/s]\n"
          ]
        },
        {
          "output_type": "stream",
          "name": "stdout",
          "text": [
            "############ EC calling results using random chosen 20k samples ############\n",
            "---------------------------------------------------------------------------\n",
            ">>> total samples: 1065 | total ec: 9 \n",
            ">>> precision: 0.845 | recall: 0.783| F1: 0.805 | AUC: 0.878 \n",
            "---------------------------------------------------------------------------\n",
            "The embedding sizes for train and test: torch.Size([3235, 128]) torch.Size([1061, 128])\n"
          ]
        },
        {
          "output_type": "stream",
          "name": "stderr",
          "text": [
            "100%|██████████| 9/9 [00:00<00:00, 3526.60it/s]\n"
          ]
        },
        {
          "output_type": "stream",
          "name": "stdout",
          "text": [
            "Calculating eval distance map, between 1061 test ids and 9 train EC cluster centers\n"
          ]
        },
        {
          "output_type": "stream",
          "name": "stderr",
          "text": [
            "1061it [00:00, 8916.67it/s]\n",
            "100%|██████████| 9/9 [00:00<00:00, 3374.64it/s]\n",
            "20000it [00:02, 9315.81it/s]\n",
            "100%|██████████| 1061/1061 [00:02<00:00, 480.85it/s]\n"
          ]
        },
        {
          "output_type": "stream",
          "name": "stdout",
          "text": [
            "############ EC calling results using random chosen 20k samples ############\n",
            "---------------------------------------------------------------------------\n",
            ">>> total samples: 1061 | total ec: 9 \n",
            ">>> precision: 0.827 | recall: 0.794| F1: 0.808 | AUC: 0.875 \n",
            "---------------------------------------------------------------------------\n"
          ]
        }
      ]
    },
    {
      "cell_type": "code",
      "source": [
        "train_data = \"train_12\"\n",
        "test_data = \"validation_1\"\n",
        "infer_pvalue(train_data, test_data, p_value=1e-5, nk_random=20, report_metrics=True, pretrained=False, model_name='model_12/combined_columns_triplet')\n",
        "test_data = \"test_2\"\n",
        "infer_pvalue(train_data, test_data, p_value=1e-5, nk_random=20, report_metrics=True, pretrained=False, model_name='model_12/combined_columns_triplet')"
      ],
      "metadata": {
        "colab": {
          "base_uri": "https://localhost:8080/"
        },
        "id": "09HhgMIG0FmU",
        "outputId": "b7ae460a-d0e6-41d7-aa05-e9f527e90a7e"
      },
      "execution_count": 21,
      "outputs": [
        {
          "output_type": "stream",
          "name": "stdout",
          "text": [
            "The embedding sizes for train and test: torch.Size([3245, 128]) torch.Size([1061, 128])\n"
          ]
        },
        {
          "output_type": "stream",
          "name": "stderr",
          "text": [
            "100%|██████████| 9/9 [00:00<00:00, 5513.98it/s]\n"
          ]
        },
        {
          "output_type": "stream",
          "name": "stdout",
          "text": [
            "Calculating eval distance map, between 1061 test ids and 9 train EC cluster centers\n"
          ]
        },
        {
          "output_type": "stream",
          "name": "stderr",
          "text": [
            "1061it [00:00, 6945.77it/s]\n",
            "100%|██████████| 9/9 [00:00<00:00, 5501.93it/s]\n",
            "20000it [00:02, 6904.61it/s]\n",
            "100%|██████████| 1061/1061 [00:02<00:00, 476.85it/s]\n"
          ]
        },
        {
          "output_type": "stream",
          "name": "stdout",
          "text": [
            "############ EC calling results using random chosen 20k samples ############\n",
            "---------------------------------------------------------------------------\n",
            ">>> total samples: 1061 | total ec: 9 \n",
            ">>> precision: 0.821 | recall: 0.778| F1: 0.793 | AUC: 0.875 \n",
            "---------------------------------------------------------------------------\n",
            "The embedding sizes for train and test: torch.Size([3245, 128]) torch.Size([1058, 128])\n"
          ]
        },
        {
          "output_type": "stream",
          "name": "stderr",
          "text": [
            "100%|██████████| 9/9 [00:00<00:00, 6088.51it/s]\n"
          ]
        },
        {
          "output_type": "stream",
          "name": "stdout",
          "text": [
            "Calculating eval distance map, between 1058 test ids and 9 train EC cluster centers\n"
          ]
        },
        {
          "output_type": "stream",
          "name": "stderr",
          "text": [
            "1058it [00:00, 8366.09it/s]\n",
            "100%|██████████| 9/9 [00:00<00:00, 3703.40it/s]\n",
            "20000it [00:02, 9564.85it/s]\n",
            "100%|██████████| 1058/1058 [00:02<00:00, 456.99it/s]\n"
          ]
        },
        {
          "output_type": "stream",
          "name": "stdout",
          "text": [
            "############ EC calling results using random chosen 20k samples ############\n",
            "---------------------------------------------------------------------------\n",
            ">>> total samples: 1058 | total ec: 9 \n",
            ">>> precision: 0.829 | recall: 0.753| F1: 0.782 | AUC: 0.859 \n",
            "---------------------------------------------------------------------------\n"
          ]
        }
      ]
    },
    {
      "cell_type": "code",
      "source": [
        "train_data = \"train_23\"\n",
        "test_data = \"validation_2\"\n",
        "infer_pvalue(train_data, test_data, p_value=1e-5, nk_random=20, report_metrics=True, pretrained=False, model_name='model_23/combined_columns_triplet')\n",
        "test_data = \"test_3\"\n",
        "infer_pvalue(train_data, test_data, p_value=1e-5, nk_random=20, report_metrics=True, pretrained=False, model_name='model_23/combined_columns_triplet')"
      ],
      "metadata": {
        "colab": {
          "base_uri": "https://localhost:8080/"
        },
        "id": "Ye7x56C40Szg",
        "outputId": "5eb3523a-e365-4b8b-d549-afda2e755b44"
      },
      "execution_count": 22,
      "outputs": [
        {
          "output_type": "stream",
          "name": "stdout",
          "text": [
            "The embedding sizes for train and test: torch.Size([3239, 128]) torch.Size([1058, 128])\n"
          ]
        },
        {
          "output_type": "stream",
          "name": "stderr",
          "text": [
            "100%|██████████| 9/9 [00:00<00:00, 4488.02it/s]\n"
          ]
        },
        {
          "output_type": "stream",
          "name": "stdout",
          "text": [
            "Calculating eval distance map, between 1058 test ids and 9 train EC cluster centers\n"
          ]
        },
        {
          "output_type": "stream",
          "name": "stderr",
          "text": [
            "1058it [00:00, 9124.86it/s]\n",
            "100%|██████████| 9/9 [00:00<00:00, 4499.25it/s]\n",
            "20000it [00:02, 8828.33it/s]\n",
            "100%|██████████| 1058/1058 [00:02<00:00, 473.58it/s]\n"
          ]
        },
        {
          "output_type": "stream",
          "name": "stdout",
          "text": [
            "############ EC calling results using random chosen 20k samples ############\n",
            "---------------------------------------------------------------------------\n",
            ">>> total samples: 1058 | total ec: 9 \n",
            ">>> precision: 0.84 | recall: 0.741| F1: 0.777 | AUC: 0.85 \n",
            "---------------------------------------------------------------------------\n",
            "The embedding sizes for train and test: torch.Size([3239, 128]) torch.Size([1058, 128])\n"
          ]
        },
        {
          "output_type": "stream",
          "name": "stderr",
          "text": [
            "100%|██████████| 9/9 [00:00<00:00, 2536.54it/s]\n"
          ]
        },
        {
          "output_type": "stream",
          "name": "stdout",
          "text": [
            "Calculating eval distance map, between 1058 test ids and 9 train EC cluster centers\n"
          ]
        },
        {
          "output_type": "stream",
          "name": "stderr",
          "text": [
            "1058it [00:00, 9401.02it/s] \n",
            "100%|██████████| 9/9 [00:00<00:00, 4442.60it/s]\n",
            "20000it [00:02, 7866.12it/s]\n",
            "100%|██████████| 1058/1058 [00:02<00:00, 354.37it/s]\n"
          ]
        },
        {
          "output_type": "stream",
          "name": "stdout",
          "text": [
            "############ EC calling results using random chosen 20k samples ############\n",
            "---------------------------------------------------------------------------\n",
            ">>> total samples: 1058 | total ec: 9 \n",
            ">>> precision: 0.856 | recall: 0.774| F1: 0.806 | AUC: 0.876 \n",
            "---------------------------------------------------------------------------\n"
          ]
        }
      ]
    },
    {
      "cell_type": "code",
      "source": [
        "train_data = \"train_34\"\n",
        "test_data = \"validation_3\"\n",
        "infer_pvalue(train_data, test_data, p_value=1e-5, nk_random=20, report_metrics=True, pretrained=False, model_name='model_34/combined_columns_triplet')\n",
        "test_data = \"test_4\"\n",
        "infer_pvalue(train_data, test_data, p_value=1e-5, nk_random=20, report_metrics=True, pretrained=False, model_name='model_34/combined_columns_triplet')"
      ],
      "metadata": {
        "colab": {
          "base_uri": "https://localhost:8080/"
        },
        "id": "WBLWptMR0dmT",
        "outputId": "11131a89-8120-461b-ee97-3c23f2546d8a"
      },
      "execution_count": 23,
      "outputs": [
        {
          "output_type": "stream",
          "name": "stdout",
          "text": [
            "The embedding sizes for train and test: torch.Size([3244, 128]) torch.Size([1058, 128])\n"
          ]
        },
        {
          "output_type": "stream",
          "name": "stderr",
          "text": [
            "100%|██████████| 9/9 [00:00<00:00, 7194.35it/s]\n"
          ]
        },
        {
          "output_type": "stream",
          "name": "stdout",
          "text": [
            "Calculating eval distance map, between 1058 test ids and 9 train EC cluster centers\n"
          ]
        },
        {
          "output_type": "stream",
          "name": "stderr",
          "text": [
            "1058it [00:00, 8683.45it/s]\n",
            "100%|██████████| 9/9 [00:00<00:00, 4460.44it/s]\n",
            "20000it [00:02, 7895.97it/s]\n",
            "100%|██████████| 1058/1058 [00:02<00:00, 363.47it/s]\n"
          ]
        },
        {
          "output_type": "stream",
          "name": "stdout",
          "text": [
            "############ EC calling results using random chosen 20k samples ############\n",
            "---------------------------------------------------------------------------\n",
            ">>> total samples: 1058 | total ec: 9 \n",
            ">>> precision: 0.845 | recall: 0.736| F1: 0.774 | AUC: 0.856 \n",
            "---------------------------------------------------------------------------\n",
            "The embedding sizes for train and test: torch.Size([3244, 128]) torch.Size([1058, 128])\n"
          ]
        },
        {
          "output_type": "stream",
          "name": "stderr",
          "text": [
            "100%|██████████| 9/9 [00:00<00:00, 3270.55it/s]\n"
          ]
        },
        {
          "output_type": "stream",
          "name": "stdout",
          "text": [
            "Calculating eval distance map, between 1058 test ids and 9 train EC cluster centers\n"
          ]
        },
        {
          "output_type": "stream",
          "name": "stderr",
          "text": [
            "1058it [00:00, 9250.84it/s]\n",
            "100%|██████████| 9/9 [00:00<00:00, 4445.74it/s]\n",
            "20000it [00:02, 9558.80it/s]\n",
            "100%|██████████| 1058/1058 [00:02<00:00, 490.05it/s]\n"
          ]
        },
        {
          "output_type": "stream",
          "name": "stdout",
          "text": [
            "############ EC calling results using random chosen 20k samples ############\n",
            "---------------------------------------------------------------------------\n",
            ">>> total samples: 1058 | total ec: 9 \n",
            ">>> precision: 0.821 | recall: 0.699| F1: 0.744 | AUC: 0.836 \n",
            "---------------------------------------------------------------------------\n"
          ]
        }
      ]
    },
    {
      "cell_type": "code",
      "source": [
        "train_data = \"train_40\"\n",
        "test_data = \"validation_4\"\n",
        "infer_pvalue(train_data, test_data, p_value=1e-5, nk_random=20, report_metrics=True, pretrained=False, model_name='model_40/combined_columns_triplet')\n",
        "test_data = \"test_0\"\n",
        "infer_pvalue(train_data, test_data, p_value=1e-5, nk_random=20, report_metrics=True, pretrained=False, model_name='model_40/combined_columns_triplet')"
      ],
      "metadata": {
        "colab": {
          "base_uri": "https://localhost:8080/"
        },
        "id": "PrAq2N_r0nyJ",
        "outputId": "3a9083c1-90a9-45a1-f938-5f7cf4a30259"
      },
      "execution_count": 24,
      "outputs": [
        {
          "output_type": "stream",
          "name": "stdout",
          "text": [
            "The embedding sizes for train and test: torch.Size([3231, 128]) torch.Size([1058, 128])\n"
          ]
        },
        {
          "output_type": "stream",
          "name": "stderr",
          "text": [
            "100%|██████████| 9/9 [00:00<00:00, 3437.95it/s]\n"
          ]
        },
        {
          "output_type": "stream",
          "name": "stdout",
          "text": [
            "Calculating eval distance map, between 1058 test ids and 9 train EC cluster centers\n"
          ]
        },
        {
          "output_type": "stream",
          "name": "stderr",
          "text": [
            "1058it [00:00, 5969.76it/s]\n",
            "100%|██████████| 9/9 [00:00<00:00, 4842.06it/s]\n",
            "20000it [00:02, 8275.63it/s]\n",
            "100%|██████████| 1058/1058 [00:02<00:00, 448.62it/s]\n"
          ]
        },
        {
          "output_type": "stream",
          "name": "stdout",
          "text": [
            "############ EC calling results using random chosen 20k samples ############\n",
            "---------------------------------------------------------------------------\n",
            ">>> total samples: 1058 | total ec: 9 \n",
            ">>> precision: 0.837 | recall: 0.746| F1: 0.782 | AUC: 0.857 \n",
            "---------------------------------------------------------------------------\n",
            "The embedding sizes for train and test: torch.Size([3231, 128]) torch.Size([1065, 128])\n"
          ]
        },
        {
          "output_type": "stream",
          "name": "stderr",
          "text": [
            "100%|██████████| 9/9 [00:00<00:00, 4903.07it/s]\n"
          ]
        },
        {
          "output_type": "stream",
          "name": "stdout",
          "text": [
            "Calculating eval distance map, between 1065 test ids and 9 train EC cluster centers\n"
          ]
        },
        {
          "output_type": "stream",
          "name": "stderr",
          "text": [
            "1065it [00:00, 9363.90it/s]\n",
            "100%|██████████| 9/9 [00:00<00:00, 3786.99it/s]\n",
            "20000it [00:02, 9287.97it/s]\n",
            "100%|██████████| 1065/1065 [00:02<00:00, 431.24it/s]\n"
          ]
        },
        {
          "output_type": "stream",
          "name": "stdout",
          "text": [
            "############ EC calling results using random chosen 20k samples ############\n",
            "---------------------------------------------------------------------------\n",
            ">>> total samples: 1065 | total ec: 9 \n",
            ">>> precision: 0.843 | recall: 0.753| F1: 0.786 | AUC: 0.865 \n",
            "---------------------------------------------------------------------------\n"
          ]
        }
      ]
    },
    {
      "cell_type": "code",
      "source": [
        "from src.CLEAN.newinfer import infer_maxsep\n",
        "train_data = \"train_01\"\n",
        "test_data = \"validation_0\"\n",
        "infer_maxsep(train_data, test_data, report_metrics=True, pretrained=False, model_name=\"model_01/combined_columns_supcon\")\n",
        "test_data = \"test_1\"\n",
        "infer_maxsep(train_data, test_data, report_metrics=True, pretrained=False, model_name=\"model_01/combined_columns_supcon\")"
      ],
      "metadata": {
        "colab": {
          "base_uri": "https://localhost:8080/"
        },
        "id": "FnTRJ00n00b_",
        "outputId": "4469888c-6045-41ab-b970-2f837822f470"
      },
      "execution_count": 26,
      "outputs": [
        {
          "output_type": "stream",
          "name": "stdout",
          "text": [
            "The embedding sizes for train and test: torch.Size([3235, 256]) torch.Size([1065, 256])\n"
          ]
        },
        {
          "output_type": "stream",
          "name": "stderr",
          "text": [
            "100%|██████████| 9/9 [00:00<00:00, 2588.19it/s]\n"
          ]
        },
        {
          "output_type": "stream",
          "name": "stdout",
          "text": [
            "Calculating eval distance map, between 1065 test ids and 9 train EC cluster centers\n"
          ]
        },
        {
          "output_type": "stream",
          "name": "stderr",
          "text": [
            "1065it [00:00, 7975.00it/s]\n"
          ]
        },
        {
          "output_type": "stream",
          "name": "stdout",
          "text": [
            "############ EC calling results using maximum separation ############\n",
            "---------------------------------------------------------------------------\n",
            ">>> total samples: 1065 | total ec: 9 \n",
            ">>> precision: 0.819 | recall: 0.853| F1: 0.828 | AUC: 0.915 \n",
            "---------------------------------------------------------------------------\n",
            "The embedding sizes for train and test: torch.Size([3235, 256]) torch.Size([1061, 256])\n"
          ]
        },
        {
          "output_type": "stream",
          "name": "stderr",
          "text": [
            "100%|██████████| 9/9 [00:00<00:00, 3791.94it/s]\n"
          ]
        },
        {
          "output_type": "stream",
          "name": "stdout",
          "text": [
            "Calculating eval distance map, between 1061 test ids and 9 train EC cluster centers\n"
          ]
        },
        {
          "output_type": "stream",
          "name": "stderr",
          "text": [
            "1061it [00:00, 9507.56it/s]\n"
          ]
        },
        {
          "output_type": "stream",
          "name": "stdout",
          "text": [
            "############ EC calling results using maximum separation ############\n",
            "---------------------------------------------------------------------------\n",
            ">>> total samples: 1061 | total ec: 9 \n",
            ">>> precision: 0.82 | recall: 0.853| F1: 0.83 | AUC: 0.916 \n",
            "---------------------------------------------------------------------------\n"
          ]
        }
      ]
    },
    {
      "cell_type": "code",
      "source": [
        "from src.CLEAN.newinfer import infer_maxsep\n",
        "train_data = \"train_12\"\n",
        "test_data = \"validation_1\"\n",
        "infer_maxsep(train_data, test_data, report_metrics=True, pretrained=False, model_name=\"model_12/combined_columns_supcon\")\n",
        "test_data = \"test_2\"\n",
        "infer_maxsep(train_data, test_data, report_metrics=True, pretrained=False, model_name=\"model_12/combined_columns_supcon\")"
      ],
      "metadata": {
        "colab": {
          "base_uri": "https://localhost:8080/"
        },
        "id": "mcGlmaTi1P3n",
        "outputId": "3d4b9596-9668-4d3d-a286-b67ee0e967c7"
      },
      "execution_count": 27,
      "outputs": [
        {
          "output_type": "stream",
          "name": "stdout",
          "text": [
            "The embedding sizes for train and test: torch.Size([3245, 256]) torch.Size([1061, 256])\n"
          ]
        },
        {
          "output_type": "stream",
          "name": "stderr",
          "text": [
            "100%|██████████| 9/9 [00:00<00:00, 2891.74it/s]\n"
          ]
        },
        {
          "output_type": "stream",
          "name": "stdout",
          "text": [
            "Calculating eval distance map, between 1061 test ids and 9 train EC cluster centers\n"
          ]
        },
        {
          "output_type": "stream",
          "name": "stderr",
          "text": [
            "1061it [00:00, 8980.20it/s]\n"
          ]
        },
        {
          "output_type": "stream",
          "name": "stdout",
          "text": [
            "############ EC calling results using maximum separation ############\n",
            "---------------------------------------------------------------------------\n",
            ">>> total samples: 1061 | total ec: 9 \n",
            ">>> precision: 0.782 | recall: 0.849| F1: 0.807 | AUC: 0.909 \n",
            "---------------------------------------------------------------------------\n",
            "The embedding sizes for train and test: torch.Size([3245, 256]) torch.Size([1058, 256])\n"
          ]
        },
        {
          "output_type": "stream",
          "name": "stderr",
          "text": [
            "100%|██████████| 9/9 [00:00<00:00, 4528.94it/s]\n"
          ]
        },
        {
          "output_type": "stream",
          "name": "stdout",
          "text": [
            "Calculating eval distance map, between 1058 test ids and 9 train EC cluster centers\n"
          ]
        },
        {
          "output_type": "stream",
          "name": "stderr",
          "text": [
            "1058it [00:00, 9789.72it/s] \n"
          ]
        },
        {
          "output_type": "stream",
          "name": "stdout",
          "text": [
            "############ EC calling results using maximum separation ############\n",
            "---------------------------------------------------------------------------\n",
            ">>> total samples: 1058 | total ec: 9 \n",
            ">>> precision: 0.797 | recall: 0.831| F1: 0.806 | AUC: 0.892 \n",
            "---------------------------------------------------------------------------\n"
          ]
        }
      ]
    },
    {
      "cell_type": "code",
      "source": [
        "from src.CLEAN.newinfer import infer_maxsep\n",
        "train_data = \"train_23\"\n",
        "test_data = \"validation_2\"\n",
        "infer_maxsep(train_data, test_data, report_metrics=True, pretrained=False, model_name=\"model_23/combined_columns_supcon\")\n",
        "test_data = \"test_3\"\n",
        "infer_maxsep(train_data, test_data, report_metrics=True, pretrained=False, model_name=\"model_23/combined_columns_supcon\")"
      ],
      "metadata": {
        "colab": {
          "base_uri": "https://localhost:8080/"
        },
        "id": "8pgF6KTA1boc",
        "outputId": "bffcc6b3-33b7-4c8f-e5b3-067f667d85a3"
      },
      "execution_count": 28,
      "outputs": [
        {
          "output_type": "stream",
          "name": "stdout",
          "text": [
            "The embedding sizes for train and test: torch.Size([3239, 256]) torch.Size([1058, 256])\n"
          ]
        },
        {
          "output_type": "stream",
          "name": "stderr",
          "text": [
            "100%|██████████| 9/9 [00:00<00:00, 3321.78it/s]\n"
          ]
        },
        {
          "output_type": "stream",
          "name": "stdout",
          "text": [
            "Calculating eval distance map, between 1058 test ids and 9 train EC cluster centers\n"
          ]
        },
        {
          "output_type": "stream",
          "name": "stderr",
          "text": [
            "1058it [00:00, 9687.74it/s]\n"
          ]
        },
        {
          "output_type": "stream",
          "name": "stdout",
          "text": [
            "############ EC calling results using maximum separation ############\n",
            "---------------------------------------------------------------------------\n",
            ">>> total samples: 1058 | total ec: 9 \n",
            ">>> precision: 0.814 | recall: 0.825| F1: 0.81 | AUC: 0.893 \n",
            "---------------------------------------------------------------------------\n",
            "The embedding sizes for train and test: torch.Size([3239, 256]) torch.Size([1058, 256])\n"
          ]
        },
        {
          "output_type": "stream",
          "name": "stderr",
          "text": [
            "100%|██████████| 9/9 [00:00<00:00, 2894.18it/s]\n"
          ]
        },
        {
          "output_type": "stream",
          "name": "stdout",
          "text": [
            "Calculating eval distance map, between 1058 test ids and 9 train EC cluster centers\n"
          ]
        },
        {
          "output_type": "stream",
          "name": "stderr",
          "text": [
            "1058it [00:00, 9037.31it/s]\n"
          ]
        },
        {
          "output_type": "stream",
          "name": "stdout",
          "text": [
            "############ EC calling results using maximum separation ############\n",
            "---------------------------------------------------------------------------\n",
            ">>> total samples: 1058 | total ec: 9 \n",
            ">>> precision: 0.856 | recall: 0.872| F1: 0.852 | AUC: 0.925 \n",
            "---------------------------------------------------------------------------\n"
          ]
        }
      ]
    },
    {
      "cell_type": "code",
      "source": [
        "from src.CLEAN.newinfer import infer_maxsep\n",
        "train_data = \"train_34\"\n",
        "test_data = \"validation_3\"\n",
        "infer_maxsep(train_data, test_data, report_metrics=True, pretrained=False, model_name=\"model_34/combined_columns_supcon\")\n",
        "test_data = \"test_4\"\n",
        "infer_maxsep(train_data, test_data, report_metrics=True, pretrained=False, model_name=\"model_34/combined_columns_supcon\")"
      ],
      "metadata": {
        "colab": {
          "base_uri": "https://localhost:8080/"
        },
        "id": "gt23oEOq1qWu",
        "outputId": "1ef041d2-a6fa-472a-de74-f7cd4c6481c6"
      },
      "execution_count": 29,
      "outputs": [
        {
          "output_type": "stream",
          "name": "stdout",
          "text": [
            "The embedding sizes for train and test: torch.Size([3244, 256]) torch.Size([1058, 256])\n"
          ]
        },
        {
          "output_type": "stream",
          "name": "stderr",
          "text": [
            "100%|██████████| 9/9 [00:00<00:00, 4442.07it/s]\n"
          ]
        },
        {
          "output_type": "stream",
          "name": "stdout",
          "text": [
            "Calculating eval distance map, between 1058 test ids and 9 train EC cluster centers\n"
          ]
        },
        {
          "output_type": "stream",
          "name": "stderr",
          "text": [
            "1058it [00:00, 8803.17it/s]\n"
          ]
        },
        {
          "output_type": "stream",
          "name": "stdout",
          "text": [
            "############ EC calling results using maximum separation ############\n",
            "---------------------------------------------------------------------------\n",
            ">>> total samples: 1058 | total ec: 9 \n",
            ">>> precision: 0.821 | recall: 0.845| F1: 0.818 | AUC: 0.911 \n",
            "---------------------------------------------------------------------------\n",
            "The embedding sizes for train and test: torch.Size([3244, 256]) torch.Size([1058, 256])\n"
          ]
        },
        {
          "output_type": "stream",
          "name": "stderr",
          "text": [
            "100%|██████████| 9/9 [00:00<00:00, 2818.12it/s]\n"
          ]
        },
        {
          "output_type": "stream",
          "name": "stdout",
          "text": [
            "Calculating eval distance map, between 1058 test ids and 9 train EC cluster centers\n"
          ]
        },
        {
          "output_type": "stream",
          "name": "stderr",
          "text": [
            "1058it [00:00, 6171.37it/s]\n"
          ]
        },
        {
          "output_type": "stream",
          "name": "stdout",
          "text": [
            "############ EC calling results using maximum separation ############\n",
            "---------------------------------------------------------------------------\n",
            ">>> total samples: 1058 | total ec: 9 \n",
            ">>> precision: 0.814 | recall: 0.853| F1: 0.823 | AUC: 0.91 \n",
            "---------------------------------------------------------------------------\n"
          ]
        }
      ]
    },
    {
      "cell_type": "code",
      "source": [
        "from src.CLEAN.newinfer import infer_maxsep\n",
        "train_data = \"train_40\"\n",
        "test_data = \"validation_4\"\n",
        "infer_maxsep(train_data, test_data, report_metrics=True, pretrained=False, model_name=\"model_40/combined_columns_supcon\")\n",
        "test_data = \"test_0\"\n",
        "infer_maxsep(train_data, test_data, report_metrics=True, pretrained=False, model_name=\"model_40/combined_columns_supcon\")"
      ],
      "metadata": {
        "colab": {
          "base_uri": "https://localhost:8080/"
        },
        "id": "JmFp91dY19P4",
        "outputId": "b3016dab-5708-42f8-9306-a7ca7fdf3911"
      },
      "execution_count": 30,
      "outputs": [
        {
          "output_type": "stream",
          "name": "stdout",
          "text": [
            "The embedding sizes for train and test: torch.Size([3231, 256]) torch.Size([1058, 256])\n"
          ]
        },
        {
          "output_type": "stream",
          "name": "stderr",
          "text": [
            "100%|██████████| 9/9 [00:00<00:00, 3709.22it/s]\n"
          ]
        },
        {
          "output_type": "stream",
          "name": "stdout",
          "text": [
            "Calculating eval distance map, between 1058 test ids and 9 train EC cluster centers\n"
          ]
        },
        {
          "output_type": "stream",
          "name": "stderr",
          "text": [
            "1058it [00:00, 9126.73it/s]\n"
          ]
        },
        {
          "output_type": "stream",
          "name": "stdout",
          "text": [
            "############ EC calling results using maximum separation ############\n",
            "---------------------------------------------------------------------------\n",
            ">>> total samples: 1058 | total ec: 9 \n",
            ">>> precision: 0.82 | recall: 0.855| F1: 0.829 | AUC: 0.913 \n",
            "---------------------------------------------------------------------------\n",
            "The embedding sizes for train and test: torch.Size([3231, 256]) torch.Size([1065, 256])\n"
          ]
        },
        {
          "output_type": "stream",
          "name": "stderr",
          "text": [
            "100%|██████████| 9/9 [00:00<00:00, 3792.32it/s]\n"
          ]
        },
        {
          "output_type": "stream",
          "name": "stdout",
          "text": [
            "Calculating eval distance map, between 1065 test ids and 9 train EC cluster centers\n"
          ]
        },
        {
          "output_type": "stream",
          "name": "stderr",
          "text": [
            "1065it [00:00, 8493.11it/s]\n"
          ]
        },
        {
          "output_type": "stream",
          "name": "stdout",
          "text": [
            "############ EC calling results using maximum separation ############\n",
            "---------------------------------------------------------------------------\n",
            ">>> total samples: 1065 | total ec: 9 \n",
            ">>> precision: 0.83 | recall: 0.84| F1: 0.823 | AUC: 0.908 \n",
            "---------------------------------------------------------------------------\n"
          ]
        }
      ]
    },
    {
      "cell_type": "code",
      "source": [
        "from src.CLEAN.newinfer import infer_pvalue\n",
        "train_data = \"train_01\"\n",
        "test_data = \"validation_0\"\n",
        "infer_pvalue(train_data, test_data, p_value=1e-5, nk_random=20, report_metrics=True, pretrained=False, model_name='model_01/combined_columns_supcon')\n",
        "test_data = \"test_1\"\n",
        "infer_pvalue(train_data, test_data, p_value=1e-5, nk_random=20, report_metrics=True, pretrained=False, model_name='model_01/combined_columns_supcon')"
      ],
      "metadata": {
        "colab": {
          "base_uri": "https://localhost:8080/"
        },
        "id": "S3jRmEuQ2LA5",
        "outputId": "7d75d96b-79da-49c9-9d7f-906fd31323ce"
      },
      "execution_count": 31,
      "outputs": [
        {
          "output_type": "stream",
          "name": "stdout",
          "text": [
            "The embedding sizes for train and test: torch.Size([3235, 256]) torch.Size([1065, 256])\n"
          ]
        },
        {
          "output_type": "stream",
          "name": "stderr",
          "text": [
            "100%|██████████| 9/9 [00:00<00:00, 3692.89it/s]\n"
          ]
        },
        {
          "output_type": "stream",
          "name": "stdout",
          "text": [
            "Calculating eval distance map, between 1065 test ids and 9 train EC cluster centers\n"
          ]
        },
        {
          "output_type": "stream",
          "name": "stderr",
          "text": [
            "1065it [00:00, 9489.13it/s]\n",
            "100%|██████████| 9/9 [00:00<00:00, 4678.82it/s]\n",
            "20000it [00:02, 9674.85it/s]\n",
            "100%|██████████| 1065/1065 [00:03<00:00, 334.18it/s]\n"
          ]
        },
        {
          "output_type": "stream",
          "name": "stdout",
          "text": [
            "############ EC calling results using random chosen 20k samples ############\n",
            "---------------------------------------------------------------------------\n",
            ">>> total samples: 1065 | total ec: 9 \n",
            ">>> precision: 0.843 | recall: 0.819| F1: 0.827 | AUC: 0.898 \n",
            "---------------------------------------------------------------------------\n",
            "The embedding sizes for train and test: torch.Size([3235, 256]) torch.Size([1061, 256])\n"
          ]
        },
        {
          "output_type": "stream",
          "name": "stderr",
          "text": [
            "100%|██████████| 9/9 [00:00<00:00, 4249.55it/s]\n"
          ]
        },
        {
          "output_type": "stream",
          "name": "stdout",
          "text": [
            "Calculating eval distance map, between 1061 test ids and 9 train EC cluster centers\n"
          ]
        },
        {
          "output_type": "stream",
          "name": "stderr",
          "text": [
            "1061it [00:00, 9846.74it/s] \n",
            "100%|██████████| 9/9 [00:00<00:00, 5865.25it/s]\n",
            "20000it [00:02, 9561.13it/s] \n",
            "100%|██████████| 1061/1061 [00:02<00:00, 499.59it/s]\n"
          ]
        },
        {
          "output_type": "stream",
          "name": "stdout",
          "text": [
            "############ EC calling results using random chosen 20k samples ############\n",
            "---------------------------------------------------------------------------\n",
            ">>> total samples: 1061 | total ec: 9 \n",
            ">>> precision: 0.839 | recall: 0.822| F1: 0.827 | AUC: 0.9 \n",
            "---------------------------------------------------------------------------\n"
          ]
        }
      ]
    },
    {
      "cell_type": "code",
      "source": [
        "from src.CLEAN.newinfer import infer_pvalue\n",
        "train_data = \"train_12\"\n",
        "test_data = \"validation_1\"\n",
        "infer_pvalue(train_data, test_data, p_value=1e-5, nk_random=20, report_metrics=True, pretrained=False, model_name='model_12/combined_columns_supcon')\n",
        "test_data = \"test_2\"\n",
        "infer_pvalue(train_data, test_data, p_value=1e-5, nk_random=20, report_metrics=True, pretrained=False, model_name='model_12/combined_columns_supcon')"
      ],
      "metadata": {
        "colab": {
          "base_uri": "https://localhost:8080/"
        },
        "id": "Om3HLmcV2Y_Z",
        "outputId": "4d5dc41a-14c8-4c6c-aa9b-4448f7a916d6"
      },
      "execution_count": 32,
      "outputs": [
        {
          "output_type": "stream",
          "name": "stdout",
          "text": [
            "The embedding sizes for train and test: torch.Size([3245, 256]) torch.Size([1061, 256])\n"
          ]
        },
        {
          "output_type": "stream",
          "name": "stderr",
          "text": [
            "100%|██████████| 9/9 [00:00<00:00, 5343.82it/s]\n"
          ]
        },
        {
          "output_type": "stream",
          "name": "stdout",
          "text": [
            "Calculating eval distance map, between 1061 test ids and 9 train EC cluster centers\n"
          ]
        },
        {
          "output_type": "stream",
          "name": "stderr",
          "text": [
            "1061it [00:00, 9111.76it/s]\n",
            "100%|██████████| 9/9 [00:00<00:00, 3937.08it/s]\n",
            "20000it [00:02, 9703.04it/s]\n",
            "100%|██████████| 1061/1061 [00:02<00:00, 494.84it/s]\n"
          ]
        },
        {
          "output_type": "stream",
          "name": "stdout",
          "text": [
            "############ EC calling results using random chosen 20k samples ############\n",
            "---------------------------------------------------------------------------\n",
            ">>> total samples: 1061 | total ec: 9 \n",
            ">>> precision: 0.847 | recall: 0.825| F1: 0.834 | AUC: 0.9 \n",
            "---------------------------------------------------------------------------\n",
            "The embedding sizes for train and test: torch.Size([3245, 256]) torch.Size([1058, 256])\n"
          ]
        },
        {
          "output_type": "stream",
          "name": "stderr",
          "text": [
            "100%|██████████| 9/9 [00:00<00:00, 3508.90it/s]\n"
          ]
        },
        {
          "output_type": "stream",
          "name": "stdout",
          "text": [
            "Calculating eval distance map, between 1058 test ids and 9 train EC cluster centers\n"
          ]
        },
        {
          "output_type": "stream",
          "name": "stderr",
          "text": [
            "1058it [00:00, 8853.23it/s]\n",
            "100%|██████████| 9/9 [00:00<00:00, 6575.29it/s]\n",
            "20000it [00:02, 9514.60it/s]\n",
            "100%|██████████| 1058/1058 [00:02<00:00, 381.36it/s]\n"
          ]
        },
        {
          "output_type": "stream",
          "name": "stdout",
          "text": [
            "############ EC calling results using random chosen 20k samples ############\n",
            "---------------------------------------------------------------------------\n",
            ">>> total samples: 1058 | total ec: 9 \n",
            ">>> precision: 0.827 | recall: 0.782| F1: 0.8 | AUC: 0.868 \n",
            "---------------------------------------------------------------------------\n"
          ]
        }
      ]
    },
    {
      "cell_type": "code",
      "source": [
        "from src.CLEAN.newinfer import infer_pvalue\n",
        "train_data = \"train_23\"\n",
        "test_data = \"validation_2\"\n",
        "infer_pvalue(train_data, test_data, p_value=1e-5, nk_random=20, report_metrics=True, pretrained=False, model_name='model_23/combined_columns_supcon')\n",
        "test_data = \"test_3\"\n",
        "infer_pvalue(train_data, test_data, p_value=1e-5, nk_random=20, report_metrics=True, pretrained=False, model_name='model_23/combined_columns_supcon')"
      ],
      "metadata": {
        "colab": {
          "base_uri": "https://localhost:8080/"
        },
        "id": "_KaZcdbI2h57",
        "outputId": "fcc9dc2c-d680-42c6-b745-53a146339bef"
      },
      "execution_count": 33,
      "outputs": [
        {
          "output_type": "stream",
          "name": "stdout",
          "text": [
            "The embedding sizes for train and test: torch.Size([3239, 256]) torch.Size([1058, 256])\n"
          ]
        },
        {
          "output_type": "stream",
          "name": "stderr",
          "text": [
            "100%|██████████| 9/9 [00:00<00:00, 3581.13it/s]\n"
          ]
        },
        {
          "output_type": "stream",
          "name": "stdout",
          "text": [
            "Calculating eval distance map, between 1058 test ids and 9 train EC cluster centers\n"
          ]
        },
        {
          "output_type": "stream",
          "name": "stderr",
          "text": [
            "1058it [00:00, 9891.37it/s] \n",
            "100%|██████████| 9/9 [00:00<00:00, 6721.64it/s]\n",
            "20000it [00:02, 9830.82it/s] \n",
            "100%|██████████| 1058/1058 [00:02<00:00, 488.08it/s]\n"
          ]
        },
        {
          "output_type": "stream",
          "name": "stdout",
          "text": [
            "############ EC calling results using random chosen 20k samples ############\n",
            "---------------------------------------------------------------------------\n",
            ">>> total samples: 1058 | total ec: 9 \n",
            ">>> precision: 0.842 | recall: 0.783| F1: 0.806 | AUC: 0.87 \n",
            "---------------------------------------------------------------------------\n",
            "The embedding sizes for train and test: torch.Size([3239, 256]) torch.Size([1058, 256])\n"
          ]
        },
        {
          "output_type": "stream",
          "name": "stderr",
          "text": [
            "100%|██████████| 9/9 [00:00<00:00, 5671.38it/s]\n"
          ]
        },
        {
          "output_type": "stream",
          "name": "stdout",
          "text": [
            "Calculating eval distance map, between 1058 test ids and 9 train EC cluster centers\n"
          ]
        },
        {
          "output_type": "stream",
          "name": "stderr",
          "text": [
            "1058it [00:00, 5958.76it/s]\n",
            "100%|██████████| 9/9 [00:00<00:00, 8280.05it/s]\n",
            "20000it [00:02, 7645.44it/s]\n",
            "100%|██████████| 1058/1058 [00:02<00:00, 461.53it/s]\n"
          ]
        },
        {
          "output_type": "stream",
          "name": "stdout",
          "text": [
            "############ EC calling results using random chosen 20k samples ############\n",
            "---------------------------------------------------------------------------\n",
            ">>> total samples: 1058 | total ec: 9 \n",
            ">>> precision: 0.867 | recall: 0.836| F1: 0.847 | AUC: 0.907 \n",
            "---------------------------------------------------------------------------\n"
          ]
        }
      ]
    },
    {
      "cell_type": "code",
      "source": [
        "from src.CLEAN.newinfer import infer_pvalue\n",
        "train_data = \"train_34\"\n",
        "test_data = \"validation_3\"\n",
        "infer_pvalue(train_data, test_data, p_value=1e-5, nk_random=20, report_metrics=True, pretrained=False, model_name='model_34/combined_columns_supcon')\n",
        "test_data = \"test_4\"\n",
        "infer_pvalue(train_data, test_data, p_value=1e-5, nk_random=20, report_metrics=True, pretrained=False, model_name='model_34/combined_columns_supcon')"
      ],
      "metadata": {
        "colab": {
          "base_uri": "https://localhost:8080/"
        },
        "id": "p9YdJaUP2rcU",
        "outputId": "4f91cf51-4fd8-4415-a2b6-acbc380ac073"
      },
      "execution_count": 34,
      "outputs": [
        {
          "output_type": "stream",
          "name": "stdout",
          "text": [
            "The embedding sizes for train and test: torch.Size([3244, 256]) torch.Size([1058, 256])\n"
          ]
        },
        {
          "output_type": "stream",
          "name": "stderr",
          "text": [
            "100%|██████████| 9/9 [00:00<00:00, 2776.87it/s]\n"
          ]
        },
        {
          "output_type": "stream",
          "name": "stdout",
          "text": [
            "Calculating eval distance map, between 1058 test ids and 9 train EC cluster centers\n"
          ]
        },
        {
          "output_type": "stream",
          "name": "stderr",
          "text": [
            "1058it [00:00, 8464.77it/s]\n",
            "100%|██████████| 9/9 [00:00<00:00, 4090.67it/s]\n",
            "20000it [00:02, 9767.69it/s]\n",
            "100%|██████████| 1058/1058 [00:02<00:00, 498.92it/s]\n"
          ]
        },
        {
          "output_type": "stream",
          "name": "stdout",
          "text": [
            "############ EC calling results using random chosen 20k samples ############\n",
            "---------------------------------------------------------------------------\n",
            ">>> total samples: 1058 | total ec: 9 \n",
            ">>> precision: 0.851 | recall: 0.791| F1: 0.812 | AUC: 0.884 \n",
            "---------------------------------------------------------------------------\n",
            "The embedding sizes for train and test: torch.Size([3244, 256]) torch.Size([1058, 256])\n"
          ]
        },
        {
          "output_type": "stream",
          "name": "stderr",
          "text": [
            "100%|██████████| 9/9 [00:00<00:00, 8772.66it/s]\n"
          ]
        },
        {
          "output_type": "stream",
          "name": "stdout",
          "text": [
            "Calculating eval distance map, between 1058 test ids and 9 train EC cluster centers\n"
          ]
        },
        {
          "output_type": "stream",
          "name": "stderr",
          "text": [
            "1058it [00:00, 8983.34it/s] \n",
            "100%|██████████| 9/9 [00:00<00:00, 5181.71it/s]\n",
            "20000it [00:02, 9748.51it/s]\n",
            "100%|██████████| 1058/1058 [00:03<00:00, 351.55it/s]\n"
          ]
        },
        {
          "output_type": "stream",
          "name": "stdout",
          "text": [
            "############ EC calling results using random chosen 20k samples ############\n",
            "---------------------------------------------------------------------------\n",
            ">>> total samples: 1058 | total ec: 9 \n",
            ">>> precision: 0.838 | recall: 0.797| F1: 0.809 | AUC: 0.881 \n",
            "---------------------------------------------------------------------------\n"
          ]
        }
      ]
    },
    {
      "cell_type": "code",
      "source": [
        "from src.CLEAN.newinfer import infer_pvalue\n",
        "train_data = \"train_40\"\n",
        "test_data = \"validation_4\"\n",
        "infer_pvalue(train_data, test_data, p_value=1e-5, nk_random=20, report_metrics=True, pretrained=False, model_name='model_40/combined_columns_supcon')\n",
        "test_data = \"test_0\"\n",
        "infer_pvalue(train_data, test_data, p_value=1e-5, nk_random=20, report_metrics=True, pretrained=False, model_name='model_40/combined_columns_supcon')"
      ],
      "metadata": {
        "colab": {
          "base_uri": "https://localhost:8080/"
        },
        "id": "Jrhg-mr_21C8",
        "outputId": "df095154-5bd4-438e-dbc7-e1958af2fb5f"
      },
      "execution_count": 35,
      "outputs": [
        {
          "output_type": "stream",
          "name": "stdout",
          "text": [
            "The embedding sizes for train and test: torch.Size([3231, 256]) torch.Size([1058, 256])\n"
          ]
        },
        {
          "output_type": "stream",
          "name": "stderr",
          "text": [
            "100%|██████████| 9/9 [00:00<00:00, 3545.48it/s]\n"
          ]
        },
        {
          "output_type": "stream",
          "name": "stdout",
          "text": [
            "Calculating eval distance map, between 1058 test ids and 9 train EC cluster centers\n"
          ]
        },
        {
          "output_type": "stream",
          "name": "stderr",
          "text": [
            "1058it [00:00, 9658.68it/s] \n",
            "100%|██████████| 9/9 [00:00<00:00, 3185.55it/s]\n",
            "20000it [00:02, 8964.64it/s]\n",
            "100%|██████████| 1058/1058 [00:03<00:00, 338.55it/s]\n"
          ]
        },
        {
          "output_type": "stream",
          "name": "stdout",
          "text": [
            "############ EC calling results using random chosen 20k samples ############\n",
            "---------------------------------------------------------------------------\n",
            ">>> total samples: 1058 | total ec: 9 \n",
            ">>> precision: 0.847 | recall: 0.818| F1: 0.827 | AUC: 0.895 \n",
            "---------------------------------------------------------------------------\n",
            "The embedding sizes for train and test: torch.Size([3231, 256]) torch.Size([1065, 256])\n"
          ]
        },
        {
          "output_type": "stream",
          "name": "stderr",
          "text": [
            "100%|██████████| 9/9 [00:00<00:00, 9184.61it/s]\n"
          ]
        },
        {
          "output_type": "stream",
          "name": "stdout",
          "text": [
            "Calculating eval distance map, between 1065 test ids and 9 train EC cluster centers\n"
          ]
        },
        {
          "output_type": "stream",
          "name": "stderr",
          "text": [
            "1065it [00:00, 9574.15it/s]\n",
            "100%|██████████| 9/9 [00:00<00:00, 4860.14it/s]\n",
            "20000it [00:02, 9488.13it/s]\n",
            "100%|██████████| 1065/1065 [00:02<00:00, 477.54it/s]\n"
          ]
        },
        {
          "output_type": "stream",
          "name": "stdout",
          "text": [
            "############ EC calling results using random chosen 20k samples ############\n",
            "---------------------------------------------------------------------------\n",
            ">>> total samples: 1065 | total ec: 9 \n",
            ">>> precision: 0.854 | recall: 0.809| F1: 0.823 | AUC: 0.893 \n",
            "---------------------------------------------------------------------------\n"
          ]
        }
      ]
    },
    {
      "cell_type": "code",
      "source": [
        "!cp -r /content/CLEAN /content/drive/MyDrive/240206CLEAN"
      ],
      "metadata": {
        "id": "WjI6x4Js3GWn"
      },
      "execution_count": 36,
      "outputs": []
    }
  ]
}